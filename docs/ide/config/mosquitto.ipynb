{
 "cells": [
  {
   "cell_type": "markdown",
   "id": "ac700ec7-667d-46a3-a552-353ad63295ac",
   "metadata": {},
   "source": [
    "# Mosquitto MQTT Broker\n",
    "\n",
    "*ide49* comes with a built-in [Mosquitto MQTT broker](https://mosquitto.org/). By default, the broker is on, without encryption or passwords.\n",
    "\n",
    "These features can be changed in the configuration  at `/service-config/mosquitto/`.\n",
    "To disable the broker, add `export MOSQUITTO=off` to file `/service-config/iot-home/.env49rc`. "
   ]
  },
  {
   "cell_type": "markdown",
   "id": "0e870de3-5be0-4153-8bc3-f7b5d6825786",
   "metadata": {
    "tags": [
     "remove-cell"
    ]
   },
   "source": [
    "Removed content (TODO):\n",
    "\n",
    "* Set up TLS: https://mcuoneclipse.com/2017/04/14/enable-secure-communication-with-tls-and-the-mosquitto-broker/\n",
    "* Set up dynamic authentication: https://mosquitto.org/documentation/dynamic-security/\n",
    "* Management plugin: https://docs.cedalo.com/management-center/2.2/mc-dynamic-security\n",
    "    * see `~/cedalo` for install files (for Mac)"
   ]
  }
 ],
 "metadata": {
  "kernelspec": {
   "display_name": "IoT",
   "language": "python",
   "name": "iot_kernel"
  },
  "language_info": {
   "codemirror_mode": {
    "name": "python",
    "version": 3
   },
   "file_extension": ".py",
   "mimetype": "text/x-python",
   "name": "python",
   "pygments_lexer": "python3",
   "version": "3"
  }
 },
 "nbformat": 4,
 "nbformat_minor": 5
}
