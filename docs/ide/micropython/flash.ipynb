{
 "cells": [
  {
   "cell_type": "markdown",
   "id": "434850e5-703d-4fc5-ba43-1b63bce24b98",
   "metadata": {},
   "source": [
    "# Flashing\n",
    "\n",
    "Flashing is the process of installing MicroPython on a microcontroller. The exact instructions vary. Below are the steps for installing MicroPython on an ESP32.\n",
    "\n",
    "The first step in flashing MicroPython to a microcontroller is to find its port. The `%discover --all` magic reports this information: "
   ]
  },
  {
   "cell_type": "code",
   "execution_count": 1,
   "id": "32f613b2-7640-4b3f-aa84-4f2ac891c933",
   "metadata": {},
   "outputs": [
    {
     "name": "stdout",
     "output_type": "stream",
     "text": [
      "/dev/ttyUSB0\n",
      "  hwid         USB VID:PID=10C4:EA60 SER=015589D7 LOCATION=1-4\n",
      "  manufacturer Silicon Labs\n",
      "  product      CP2104 USB to UART Bridge Controller\n",
      "  interface    CP2104 USB to UART Bridge Controller\n",
      "\n"
     ]
    }
   ],
   "source": [
    "%discover --all"
   ]
  },
  {
   "cell_type": "markdown",
   "id": "82605877-262f-4882-b926-423e5b597229",
   "metadata": {},
   "source": [
    "A controller is installed at port `/dev/ttyUSB0`. The exact port name varies, and may even change if you unplug and replug the device."
   ]
  },
  {
   "cell_type": "markdown",
   "id": "d1ca920b-e307-4791-86b3-b5934e3fb36d",
   "metadata": {},
   "source": [
    "## ESP32\n",
    "\n",
    "[Micropython.org](https://micropython.org/download/) has compiled interpreter binaries for select architectures. For ESP32, choose \"Generic ESP32 module\", unless a more specific version is available. Update the `firmware` and `port` variables in the script below, then execute.\n",
    "\n",
    "You can also [build](compile.ipynb) (customized) MicroPython firmware with *ide49*."
   ]
  },
  {
   "cell_type": "code",
   "execution_count": 1,
   "id": "6c09fc93-7739-4ef2-b33b-b85d3360b788",
   "metadata": {
    "collapsed": true,
    "jupyter": {
     "outputs_hidden": true
    },
    "tags": [
     "hide-output"
    ]
   },
   "outputs": [
    {
     "name": "stdout",
     "output_type": "stream",
     "text": [
      "  % Total    % Received % Xferd  Average Speed   Time    Time     Time  Current\n",
      "                                 Dload  Upload   Total   Spent    Left  Speed\n",
      "100 1491k  100 1491k    0     0   388k      0  0:00:03  0:00:03 --:--:--  388k\n",
      "esptool.py v3.2\n",
      "Serial port /dev/ttyUSB0\n",
      "Connecting.....\n",
      "Detecting chip type... Unsupported detection protocol, switching and trying again...\n",
      "Connecting....\n",
      "Detecting chip type... ESP32\n",
      "Chip is ESP32-D0WDQ6 (revision 1)\n",
      "Features: WiFi, BT, Dual Core, Coding Scheme None\n",
      "Crystal is 40MHz\n",
      "MAC: 24:0a:c4:13:ad:14\n",
      "Uploading stub...\n",
      "Running stub...\n",
      "Stub running...\n",
      "Erasing flash (this may take a while)...\n",
      "Chip erase completed successfully in 5.1s\n",
      "Hard resetting via RTS pin...\n",
      "esptool.py v3.2\n",
      "Serial port /dev/ttyUSB0\n",
      "Connecting....\n",
      "Detecting chip type... Unsupported detection protocol, switching and trying again...\n",
      "Connecting....\n",
      "Detecting chip type... ESP32\n",
      "Chip is ESP32-D0WDQ6 (revision 1)\n",
      "Features: WiFi, BT, Dual Core, Coding Scheme None\n",
      "Crystal is 40MHz\n",
      "MAC: 24:0a:c4:13:ad:14\n",
      "Uploading stub...\n",
      "Running stub...\n",
      "Stub running...\n",
      "Changing baud rate to 460800\n",
      "Changed.\n",
      "Configuring flash size...\n",
      "Flash will be erased from 0x00001000 to 0x00175fff...\n",
      "Compressed 1527504 bytes to 987584...\n",
      "Writing at 0x00001000... (1 %)\n",
      "Writing at 0x00011214... (3 %)\n",
      "Writing at 0x00019db3... (4 %)\n",
      "Writing at 0x00022645... (6 %)\n",
      "Writing at 0x000291a0... (8 %)\n",
      "Writing at 0x00031955... (9 %)\n",
      "Writing at 0x0003cdb5... (11 %)\n",
      "Writing at 0x000479a7... (13 %)\n",
      "Writing at 0x00053c6d... (14 %)\n",
      "Writing at 0x0005a0c6... (16 %)\n",
      "Writing at 0x0005fb0b... (18 %)\n",
      "Writing at 0x0006521c... (19 %)\n",
      "Writing at 0x0006a16d... (21 %)\n",
      "Writing at 0x0006f23d... (22 %)\n",
      "Writing at 0x0007465c... (24 %)\n",
      "Writing at 0x00079996... (26 %)\n",
      "Writing at 0x0007e9e7... (27 %)\n",
      "Writing at 0x000835ae... (29 %)\n",
      "Writing at 0x00088f24... (31 %)\n",
      "Writing at 0x0008f084... (32 %)\n",
      "Writing at 0x0009448d... (34 %)\n",
      "Writing at 0x00099691... (36 %)\n",
      "Writing at 0x0009f861... (37 %)\n",
      "Writing at 0x000a4c3e... (39 %)\n",
      "Writing at 0x000aa1d8... (40 %)\n",
      "Writing at 0x000b00b2... (42 %)\n",
      "Writing at 0x000b6096... (44 %)\n",
      "Writing at 0x000bc12e... (45 %)\n",
      "Writing at 0x000c1191... (47 %)\n",
      "Writing at 0x000c6b5a... (49 %)\n",
      "Writing at 0x000cca50... (50 %)\n",
      "Writing at 0x000d1cf7... (52 %)\n",
      "Writing at 0x000d6b07... (54 %)\n",
      "Writing at 0x000dbb60... (55 %)\n",
      "Writing at 0x000e0e6c... (57 %)\n",
      "Writing at 0x000e5fda... (59 %)\n",
      "Writing at 0x000eb595... (60 %)\n",
      "Writing at 0x000f138d... (62 %)\n",
      "Writing at 0x000f6d17... (63 %)\n",
      "Writing at 0x000fbc65... (65 %)\n",
      "Writing at 0x00100e91... (67 %)\n",
      "Writing at 0x00106a48... (68 %)\n",
      "Writing at 0x0010bd7d... (70 %)\n",
      "Writing at 0x001113ea... (72 %)\n",
      "Writing at 0x001165ed... (73 %)\n",
      "Writing at 0x0011b9c7... (75 %)\n",
      "Writing at 0x00120de4... (77 %)\n",
      "Writing at 0x0012634d... (78 %)\n",
      "Writing at 0x0012b80c... (80 %)\n",
      "Writing at 0x00130f6f... (81 %)\n",
      "Writing at 0x00136684... (83 %)\n",
      "Writing at 0x0013c144... (85 %)\n",
      "Writing at 0x0014192d... (86 %)\n",
      "Writing at 0x0014726f... (88 %)\n",
      "Writing at 0x0014c767... (90 %)\n",
      "Writing at 0x00152524... (91 %)\n",
      "Writing at 0x0015bb7d... (93 %)\n",
      "Writing at 0x0016316f... (95 %)\n",
      "Writing at 0x00168a9e... (96 %)\n",
      "Writing at 0x0016dfb3... (98 %)\n",
      "Writing at 0x00173af8... (100 %)\n",
      "Wrote 1527504 bytes (987584 compressed) at 0x00001000 in 23.8 seconds (effective 513.1 kbit/s)...\n",
      "Hash of data verified.\n",
      "\n",
      "Leaving...\n",
      "Hard resetting via RTS pin...\n"
     ]
    }
   ],
   "source": [
    "%%bash \n",
    "\n",
    "# set the correct port (%discover -all)\n",
    "port=/dev/ttyUSB0\n",
    "\n",
    "# find the latest firmware at https://micropython.org/download/esp32/\n",
    "firmware=https://micropython.org/resources/firmware/esp32-20210902-v1.17.bin\n",
    "\n",
    "# download\n",
    "curl -O $firmware\n",
    "    \n",
    "# install (flash)\n",
    "esptool.py -p $port erase_flash\n",
    "esptool.py -p $port -b 460800 write_flash -z 0x1000 `basename $firmware`\n",
    "\n",
    "# optionally delete the downloaded firmware\n",
    "rm `basename $firmware`"
   ]
  },
  {
   "cell_type": "markdown",
   "id": "9e7da4fd-3499-470a-9132-47b1b55052a0",
   "metadata": {},
   "source": [
    "The device is now available:"
   ]
  },
  {
   "cell_type": "code",
   "execution_count": 1,
   "id": "10f31efa-98a7-4e3b-96d8-f7d8216059b2",
   "metadata": {},
   "outputs": [
    {
     "name": "stdout",
     "output_type": "stream",
     "text": [
      "24:0a:c4:13:ad:14  serial:///dev/ttyUSB0  \n"
     ]
    }
   ],
   "source": [
    "%discover"
   ]
  },
  {
   "cell_type": "code",
   "execution_count": 2,
   "id": "05343693-ad12-4c71-8d19-8dfb1fd1fd57",
   "metadata": {},
   "outputs": [
    {
     "name": "stdout",
     "output_type": "stream",
     "text": [
      "\u001b[0m\u001b[0m\u001b[46m\u001b[30mConnected to 24:0a:c4:12:87:7c @ serial:///dev/ttyUSB0\u001b[0m\n",
      "(\u001b[0mname='micropython', version=(1, 16, 0), mpy=10757)\n",
      "\u001b[0m"
     ]
    }
   ],
   "source": [
    "%connect 24:0a:c4:12:87:7c\n",
    "import sys\n",
    "print(sys.implementation)"
   ]
  },
  {
   "cell_type": "markdown",
   "id": "f84c5c43-66cf-4b0d-9649-8149fca291dc",
   "metadata": {},
   "source": [
    "To flash firmware from a local file, update the `port` and `firmware` variables below, then run the cell."
   ]
  },
  {
   "cell_type": "code",
   "execution_count": 1,
   "id": "067fb6a3-c42b-4290-8683-2330864cc8b3",
   "metadata": {
    "collapsed": true,
    "jupyter": {
     "outputs_hidden": true
    },
    "tags": [
     "hide-output"
    ]
   },
   "outputs": [
    {
     "name": "stdout",
     "output_type": "stream",
     "text": [
      "esptool.py v3.2\n",
      "Serial port /dev/ttyUSB0\n",
      "Connecting.....\n",
      "Detecting chip type... Unsupported detection protocol, switching and trying again...\n",
      "Connecting.....\n",
      "Detecting chip type... ESP32\n",
      "Chip is ESP32-D0WDQ6 (revision 1)\n",
      "Features: WiFi, BT, Dual Core, Coding Scheme None\n",
      "Crystal is 40MHz\n",
      "MAC: 30:ae:a4:30:80:14\n",
      "Uploading stub...\n",
      "Running stub...\n",
      "Stub running...\n",
      "Erasing flash (this may take a while)...\n",
      "Chip erase completed successfully in 4.6s\n",
      "Hard resetting via RTS pin...\n",
      "esptool.py v3.2\n",
      "Serial port /dev/ttyUSB0\n",
      "Connecting.....\n",
      "Detecting chip type... Unsupported detection protocol, switching and trying again...\n",
      "Connecting....\n",
      "Detecting chip type... ESP32\n",
      "Chip is ESP32-D0WDQ6 (revision 1)\n",
      "Features: WiFi, BT, Dual Core, Coding Scheme None\n",
      "Crystal is 40MHz\n",
      "MAC: 30:ae:a4:30:80:14\n",
      "Uploading stub...\n",
      "Running stub...\n",
      "Stub running...\n",
      "Changing baud rate to 460800\n",
      "Changed.\n",
      "Configuring flash size...\n",
      "Flash will be erased from 0x00001000 to 0x00164fff...\n",
      "Compressed 1457072 bytes to 966988...\n",
      "Writing at 0x00001000... (1 %)\n",
      "Writing at 0x000099b2... (3 %)\n",
      "Writing at 0x00012347... (5 %)\n",
      "Writing at 0x0001939e... (6 %)\n",
      "Writing at 0x00022327... (8 %)\n",
      "Writing at 0x0002da89... (10 %)\n",
      "Writing at 0x0003815e... (11 %)\n",
      "Writing at 0x0004271e... (13 %)\n",
      "Writing at 0x00047db8... (15 %)\n",
      "Writing at 0x0004ce55... (16 %)\n",
      "Writing at 0x00051f55... (18 %)\n",
      "Writing at 0x00056f23... (20 %)\n",
      "Writing at 0x0005be0e... (21 %)\n",
      "Writing at 0x00060a45... (23 %)\n",
      "Writing at 0x000673cd... (25 %)\n",
      "Writing at 0x0006c8a7... (26 %)\n",
      "Writing at 0x00071cf6... (28 %)\n",
      "Writing at 0x00076c98... (30 %)\n",
      "Writing at 0x0007c2f9... (31 %)\n",
      "Writing at 0x000822b1... (33 %)\n",
      "Writing at 0x00087444... (35 %)\n",
      "Writing at 0x0008ccb1... (36 %)\n",
      "Writing at 0x00092a2b... (38 %)\n",
      "Writing at 0x00098ddc... (40 %)\n",
      "Writing at 0x0009e679... (41 %)\n",
      "Writing at 0x000a3a37... (43 %)\n",
      "Writing at 0x000a9ba1... (45 %)\n",
      "Writing at 0x000af0cc... (46 %)\n",
      "Writing at 0x000b405a... (48 %)\n",
      "Writing at 0x000b9033... (50 %)\n",
      "Writing at 0x000bdfe8... (51 %)\n",
      "Writing at 0x000c33e3... (53 %)\n",
      "Writing at 0x000c87cc... (55 %)\n",
      "Writing at 0x000ce11f... (56 %)\n",
      "Writing at 0x000d3ca0... (58 %)\n",
      "Writing at 0x000d92b0... (60 %)\n",
      "Writing at 0x000de084... (61 %)\n",
      "Writing at 0x000e3a7d... (63 %)\n",
      "Writing at 0x000e91b7... (65 %)\n",
      "Writing at 0x000ee520... (66 %)\n",
      "Writing at 0x000f3b83... (68 %)\n",
      "Writing at 0x000f8e05... (70 %)\n",
      "Writing at 0x000fe144... (71 %)\n",
      "Writing at 0x00103497... (73 %)\n",
      "Writing at 0x00108b87... (75 %)\n",
      "Writing at 0x0010e1c0... (76 %)\n",
      "Writing at 0x001136a8... (78 %)\n",
      "Writing at 0x00119109... (80 %)\n",
      "Writing at 0x0011f1d6... (81 %)\n",
      "Writing at 0x00124bc7... (83 %)\n",
      "Writing at 0x00129bcb... (85 %)\n",
      "Writing at 0x0012fc99... (86 %)\n",
      "Writing at 0x00137e18... (88 %)\n",
      "Writing at 0x00140500... (90 %)\n",
      "Writing at 0x00147929... (91 %)\n",
      "Writing at 0x0014dcad... (93 %)\n",
      "Writing at 0x0015323a... (95 %)\n",
      "Writing at 0x00158bcc... (96 %)\n",
      "Writing at 0x0015e1e9... (98 %)\n",
      "Writing at 0x001641fc... (100 %)\n",
      "Wrote 1457072 bytes (966988 compressed) at 0x00001000 in 23.5 seconds (effective 495.7 kbit/s)...\n",
      "Hash of data verified.\n",
      "\n",
      "Leaving...\n",
      "Hard resetting via RTS pin...\n"
     ]
    }
   ],
   "source": [
    "%%bash \n",
    "\n",
    "# local firmware\n",
    "port=/dev/ttyUSB0\n",
    "firmware=~/micropython.bin\n",
    "    \n",
    "esptool.py -p $port erase_flash\n",
    "esptool.py -p $port -b 460800 write_flash -z 0x1000 $firmware"
   ]
  },
  {
   "cell_type": "code",
   "execution_count": null,
   "id": "d68229b1-90c2-45b9-9701-edacd5960175",
   "metadata": {},
   "outputs": [],
   "source": []
  }
 ],
 "metadata": {
  "kernelspec": {
   "display_name": "IoT",
   "language": "python",
   "name": "iot_kernel"
  },
  "language_info": {
   "codemirror_mode": {
    "name": "python",
    "version": 3
   },
   "file_extension": ".py",
   "mimetype": "text/x-python",
   "name": "python",
   "pygments_lexer": "python3",
   "version": "3"
  }
 },
 "nbformat": 4,
 "nbformat_minor": 5
}
