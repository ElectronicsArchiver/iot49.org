{
 "cells": [
  {
   "cell_type": "markdown",
   "id": "9c5a3c49-dc53-4ab0-8451-ba77e2d9a872",
   "metadata": {},
   "source": [
    "# Issues\n",
    "\n",
    "If you run into a problem or have a question, try an Internet search first and check the list of known issues below. If neither yields a solution, here are some options.\n",
    "\n",
    "1) Problems concerning online documentation of *ide49* or examples: In the documentation, click the cat icon near to top right and choose `open issue` or `suggest edit`, as appropriate. \n",
    "\n",
    "2) Problems with *ide49*: Raise an issue at https://github.com/iot49/ide49. \n",
    "\n",
    "Clearly describe what your problem is including your setup (e.g. what microcontroller you are using), steps to reproduce the issue, error messages, and what behavior you would expect. The clearer you are the more likely it is that someone can help you. \n",
    "\n",
    "If you have fixes or improvements consider submitting a pull request.\n",
    "\n",
    "## Known Problems"
   ]
  },
  {
   "cell_type": "markdown",
   "id": "e3097bb4-74f0-4d5f-b341-b0d67b89f202",
   "metadata": {},
   "source": [
    "### No `esp-idf/idf.py` on aarch64\n",
    "\n",
    "IDF not released for 64-Bit Linux. See https://github.com/espressif/esp-idf/issues/6432."
   ]
  },
  {
   "cell_type": "markdown",
   "id": "61ffb87c-ebe9-4ac2-949b-1edadd6f24c3",
   "metadata": {},
   "source": [
    "### Flashing DFU files not working\n",
    "\n",
    "Flashing DFU files (stm32) from the IDE is not working. "
   ]
  },
  {
   "cell_type": "markdown",
   "id": "26bd391c-b406-4890-bb2f-57323107b56b",
   "metadata": {},
   "source": [
    "### mDNS for `.local` domains not working\n",
    "\n",
    "#### Workaround\n",
    "\n",
    "This sample code uses the `host` service (which supports mdns) to lookup the IP address and assigns it to the shell environment variable `OUT`:"
   ]
  },
  {
   "cell_type": "code",
   "execution_count": 1,
   "id": "8f0dd9d9-82ef-482e-8852-cb08eec1058b",
   "metadata": {},
   "outputs": [],
   "source": [
    "%%service host --out OUT\n",
    "ping -c 2 pi4server.local | awk -F\"[()]\" '{print $2}'"
   ]
  },
  {
   "cell_type": "code",
   "execution_count": 1,
   "id": "0028ca6e-058c-4884-880f-a687cd5b1856",
   "metadata": {},
   "outputs": [
    {
     "name": "stdout",
     "output_type": "stream",
     "text": [
      "10.39.40.151\n"
     ]
    }
   ],
   "source": [
    "!echo $OUT"
   ]
  },
  {
   "cell_type": "markdown",
   "id": "8ceb4995-54a3-41f2-bb4e-ca75f377445c",
   "metadata": {},
   "source": [
    "Assign the recovered address to a CPython variable:"
   ]
  },
  {
   "cell_type": "code",
   "execution_count": 1,
   "id": "9b76a252-a2d2-4d44-ba3d-83390998429e",
   "metadata": {},
   "outputs": [
    {
     "name": "stdout",
     "output_type": "stream",
     "text": [
      "['10.39.40.151']\n",
      "Stored 'out' (SList)\n"
     ]
    }
   ],
   "source": [
    "%%host\n",
    "out = !echo $OUT\n",
    "print(out)\n",
    "%store out"
   ]
  },
  {
   "cell_type": "code",
   "execution_count": 2,
   "id": "169f44c8-efe1-4f36-a8b8-a56d18cb57d8",
   "metadata": {},
   "outputs": [
    {
     "name": "stdout",
     "output_type": "stream",
     "text": [
      "\u001b[46m\u001b[30mConnected to pico @ serial:///dev/ttyUSB0\u001b[0m\n",
      "out = ['10.39.40.151'],  platform = esp32\n"
     ]
    }
   ],
   "source": [
    "%connect pico\n",
    "\n",
    "%store -r out\n",
    "import sys\n",
    "print(\"out = {},  platform = {}\".format(out, sys.platform))"
   ]
  },
  {
   "cell_type": "markdown",
   "id": "865c7d81-b8b0-4d19-8f05-875102f0cf12",
   "metadata": {},
   "source": [
    "#### Solution?\n",
    "\n",
    "* Discussion: https://forums.balena.io/t/dns-resolver-in-container/341650/3"
   ]
  },
  {
   "cell_type": "code",
   "execution_count": 2,
   "id": "07e9c477-0502-4110-9251-7ef71f79d726",
   "metadata": {},
   "outputs": [],
   "source": [
    "%%service host\n",
    "\n",
    "whoami\n",
    "\n",
    "ls /etc/dbus-1/system.d/"
   ]
  },
  {
   "cell_type": "markdown",
   "id": "95f063eb-2275-4612-a0b2-2392282ee68d",
   "metadata": {},
   "source": [
    "### Bluetooth\n",
    "\n",
    "Requires operating (and even starting!) the container as root.\n",
    "\n",
    "Quick test: run `bluetoothctl` from the command line.\n",
    "\n",
    "https://forums.balena.io/t/bluetooth-without-root/350427/3\n",
    "\n",
    "Appears to be a permissions issue, likely on the host OS file `/etc/dbus-1/system.d/bluetooth.conf`. That partition is mounted read only, although this can be changed for testing:\n",
    "\n",
    "```\n",
    "If you just want to play around with some files on the HostOS for testing (won’t persist Host updates, not easily carried over to other devices), you could run mount -o remount,rw / in the HostOS to make the root writable.\n",
    "```\n",
    "\n",
    "#### Workaround (experimental)\n",
    "\n",
    "Service bluetooth, available at http://iot49.local/bluetooth has bluez and bleak installed and **runs as root!** I.d. all code is run as root, including notebook, except explicit `su iot`."
   ]
  }
 ],
 "metadata": {
  "kernelspec": {
   "display_name": "IoT",
   "language": "python",
   "name": "iot_kernel"
  },
  "language_info": {
   "codemirror_mode": {
    "name": "python",
    "version": 3
   },
   "file_extension": ".py",
   "mimetype": "text/x-python",
   "name": "python",
   "pygments_lexer": "python3",
   "version": "3"
  }
 },
 "nbformat": 4,
 "nbformat_minor": 5
}
