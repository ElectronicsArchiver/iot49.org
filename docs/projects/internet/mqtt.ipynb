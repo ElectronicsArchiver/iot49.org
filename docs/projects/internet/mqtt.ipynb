{
 "cells": [
  {
   "cell_type": "markdown",
   "id": "3337b39e-1bc7-44fe-80f7-112d5d44fb49",
   "metadata": {},
   "source": [
    "# MQTT\n",
    "\n",
    "[MQTT](https://mqtt.org/) is an efficient protocol for communication between IoT devices. \n",
    "\n",
    "## Broker\n",
    "\n",
    "*ide49* comes with a built-in [mosquitto](https://mosquitto.org/) MQTT broker. By default it is configured to accept connections on ports 1883 and 9001 (websockets). Modify the configuration at `/service-config/mosquitto/config/` to enable additional features such as encryption and passwords.\n",
    "\n",
    "## Clients\n",
    "\n",
    "Below we show several examples of MQTT clients. The *Web Client* and *Command Line* tools are mostly useful for debugging. The *CPython* and *MicroPython* are examples of what you might incorporate in an application.\n",
    "\n",
    "### Web Client\n",
    "\n",
    "Web clients are great to observe diagnose MQTT communication. Below is an example using the [HiveMQ client](http://www.hivemq.com/demos/websocket-client/). Change the `Host` field below to the URL of your instance of *ide49* (e.g. `https://iot49.local/`) and make sure `Port` is set to 9001. The `ClientID` is a random string generated automatically and must be different for evey client connecting to the broker. \n",
    "\n",
    "```{figure} figures/hivemq_connect.png\n",
    ":width: 500px\n",
    "```\n",
    "\n",
    "Click connect and add subscriptions and publish messages. The example below publishes and subscribes to the same topic. Normally these would differ to communicate with other MQTT clients.\n",
    "\n",
    "```{figure} figures/hivemq_publish.png\n",
    ":width: 500px\n",
    "```\n",
    "\n",
    "### Command Line\n",
    "\n",
    "Alternatively use [mosquitto_sub](https://mosquitto.org/man/mosquitto_sub-1.html) and [mosquitto_pub](https://mosquitto.org/man/mosquitto_pub-1.html) in a terminal window or from a notebook like in the examples below:"
   ]
  },
  {
   "cell_type": "code",
   "execution_count": 3,
   "id": "b90dee73-c2b3-44c8-8c63-3e3e72a420cf",
   "metadata": {},
   "outputs": [
    {
     "name": "stdout",
     "output_type": "stream",
     "text": [
      "\u001b[0mHello, how are you today?\n",
      "Great to hear! I'm happy for you.\n",
      "^C\n"
     ]
    }
   ],
   "source": [
    "!mosquitto_sub -h 10.39.40.200 -t \"testtopic/#\""
   ]
  },
  {
   "cell_type": "code",
   "execution_count": 4,
   "id": "19492ada-e0ed-4cb0-bcef-e564c1005d79",
   "metadata": {},
   "outputs": [
    {
     "name": "stdout",
     "output_type": "stream",
     "text": [
      "\u001b[0m"
     ]
    }
   ],
   "source": [
    "!mosquitto_pub -h 10.39.40.200 -t \"testtopic/hello\" -m \"Grüezi\""
   ]
  },
  {
   "cell_type": "markdown",
   "id": "b17d3b71-f95c-4f89-bd47-d3833e38ec09",
   "metadata": {},
   "source": [
    "### CPython\n",
    "\n",
    "A common use case of MQTT is communication between microcontrollers and host computers. Below is a simple example receiving and sending MQTT messages. It first publishes a few messages to `testtopic` and then waits for 20 seconds for messages published to `testpub`. Use the web client to command line discussed above to listen and send to these topics.\n",
    "\n",
    "Before running the code below, update the broker address."
   ]
  },
  {
   "cell_type": "code",
   "execution_count": 7,
   "id": "b11daa40-be37-4801-b7fb-a5829cd1c04d",
   "metadata": {},
   "outputs": [
    {
     "name": "stdout",
     "output_type": "stream",
     "text": [
      "\u001b[0m\u001b[0mpublish testtopic/topic_0 = msg 0\n",
      "publish testtopic/topic_1 = msg 1\n",
      "publish testtopic/topic_2 = msg 2\n",
      "publish testtopic/topic_3 = msg 3\n",
      "publish testtopic/topic_4 = msg 4\n",
      "message received: testpub/1 = b\"Great to hear! I'm happy for you.\"\n",
      "message received: testpub/1 = b'As always'\n",
      "\n",
      "disconnected, rc=0\n"
     ]
    }
   ],
   "source": [
    "%%host\n",
    "\n",
    "from paho.mqtt.client import Client\n",
    "from threading import Event\n",
    "import time\n",
    "\n",
    "USE_WS = False\n",
    "BROKER = '10.39.40.200'\n",
    "\n",
    "if USE_WS:\n",
    "    PORT = 9001\n",
    "    TRANSPORT = 'websockets'\n",
    "else:\n",
    "    PORT = 1883\n",
    "    TRANSPORT = 'tcp'\n",
    "\n",
    "# on_message runs on a different thread ...\n",
    "connected = Event()\n",
    "\n",
    "def on_message(client, userdata, message):\n",
    "    print(f\"message received: {message.topic} = {message.payload}\")\n",
    "\n",
    "def on_connect(client, userdata, flags, rc):\n",
    "    global connected\n",
    "    client.subscribe('testpub/#')\n",
    "    connected.set()\n",
    "    \n",
    "def on_disconnect(client, userdata, rc):\n",
    "    global connected\n",
    "    connected.clear()\n",
    "    print(f\"disconnected, rc={rc}\") \n",
    "    \n",
    "client = Client(\"client-socks\", transport=TRANSPORT)\n",
    "client.on_message = on_message\n",
    "client.on_connect = on_connect\n",
    "client.on_disconnect = on_disconnect\n",
    "client.connect(BROKER, PORT)\n",
    "\n",
    "# start a separate thread listening to messages\n",
    "client.loop_start()\n",
    "\n",
    "# wait for connection before publishing\n",
    "connected.wait()\n",
    "\n",
    "for i in range(5):\n",
    "    topic = f\"testtopic/topic_{i}\"\n",
    "    msg   = f\"msg {i}\"\n",
    "    print(f\"publish {topic} = {msg}\")\n",
    "    client.publish(topic, msg)\n",
    "    time.sleep(0.1)\n",
    "\n",
    "# keep listening to messages\n",
    "time.sleep(20)\n",
    "\n",
    "client.disconnect()\n",
    "print()"
   ]
  },
  {
   "cell_type": "markdown",
   "id": "c74b5158-b284-4a20-8d52-8f7a79cd4c53",
   "metadata": {},
   "source": [
    "### MicroPython\n",
    "\n",
    "Several MQTT clients are available for MicroPython. The sample below uses a simple client from the \"official\" library, [micropython-lib](https://github.com/micropython/micropython-lib).\n",
    "\n",
    "Let's first download the code:"
   ]
  },
  {
   "cell_type": "code",
   "execution_count": 7,
   "id": "b93dec55-621a-468a-86f2-d4f3df07ac02",
   "metadata": {},
   "outputs": [
    {
     "name": "stdout",
     "output_type": "stream",
     "text": [
      "\u001b[0m\u001b[0m  % Total    % Received % Xferd  Average Speed   Time    Time     Time  Current\u001b[0m\n",
      "                                 Dload  Upload   Total   Spent    Left  Speed\u001b[0m\n",
      "100  6479  100  6479    0     0  17510      0 --:--:-- --:--:-- --:--:-- 17463\u001b[0m\n"
     ]
    }
   ],
   "source": [
    "%%bash\n",
    "\n",
    "src=https://raw.githubusercontent.com/micropython/micropython-lib/master/micropython/umqtt.simple/umqtt/simple.py\n",
    "dest_dir=$IOT_PROJECTS/internet/code/lib/\n",
    "\n",
    "mkdir -p $dest_dir\n",
    "curl -o $dest_dir/mqtt_client.py $src"
   ]
  },
  {
   "cell_type": "code",
   "execution_count": 7,
   "id": "d21f7b4e-326c-41cb-892f-520d4cb5ff94",
   "metadata": {},
   "outputs": [
    {
     "name": "stdout",
     "output_type": "stream",
     "text": [
      "\u001b[0m\u001b[0m\u001b[0m\u001b[34mUPDATE  /lib/mqtt_client.py\n",
      "\u001b[0m\u001b[0m"
     ]
    }
   ],
   "source": [
    "%connect esp32 -q\n",
    "%rsync"
   ]
  },
  {
   "cell_type": "markdown",
   "id": "faabec6b-03b8-4ce6-8942-dd69494ab0b7",
   "metadata": {},
   "source": [
    "The examples below are taken from the [github archive](https://github.com/micropython/micropython-lib/tree/master/micropython/umqtt.simple). Set up a client (e.g. HiveMQ) to check them out."
   ]
  },
  {
   "cell_type": "code",
   "execution_count": 1,
   "id": "568c697f-5e26-4abc-9831-27f43fb905e3",
   "metadata": {},
   "outputs": [
    {
     "name": "stdout",
     "output_type": "stream",
     "text": [
      "\u001b[0m"
     ]
    }
   ],
   "source": [
    "from mqtt_client import MQTTClient\n",
    "\n",
    "# Test e.g. with:\n",
    "# mosquitto_sub -h 10.39.40.200 -t testtpic\n",
    "\n",
    "client = MQTTClient('umqtt_client', '10.39.40.200')\n",
    "client.connect()\n",
    "client.publish(b\"testtopic\", b\"Hello from micropython!\")\n",
    "client.disconnect()"
   ]
  },
  {
   "cell_type": "markdown",
   "id": "641e9398-b896-4e02-a754-ff7894f71228",
   "metadata": {},
   "source": [
    "This example subscribes to topic `led` (note that topics and messages are `bytes`, not strings) to control an LED. Change the LED pin number to match your board."
   ]
  },
  {
   "cell_type": "code",
   "execution_count": 1,
   "id": "3cd7f23a-778d-4f07-b596-addae076f4c0",
   "metadata": {},
   "outputs": [
    {
     "name": "stdout",
     "output_type": "stream",
     "text": [
      "\u001b[0mtopic led = toggle\n",
      "\u001b[0mtopic led = toggle\n",
      "\u001b[0mtopic led = toggle\n",
      "\u001b[0mtopic led = toggle\n",
      "\u001b[0mtopic led = off\n",
      "\u001b[0mtopic led = quit\n",
      "\u001b[0m"
     ]
    }
   ],
   "source": [
    "from mqtt_client import MQTTClient\n",
    "from machine import Pin\n",
    "import ubinascii\n",
    "import machine\n",
    "import micropython\n",
    "\n",
    "led = Pin(13, Pin.OUT, value=1)\n",
    "\n",
    "def sub_cb(topic, msg):\n",
    "    global quit\n",
    "    print(\"topic {} = {}\".format(topic.decode(), msg.decode()))\n",
    "    if msg == b\"on\":\n",
    "        led.value(0)\n",
    "    elif msg == b\"off\":\n",
    "        led.value(1)\n",
    "    elif msg == b\"toggle\":\n",
    "        led.value(1-led.value())\n",
    "    elif msg == b\"quit\":\n",
    "        quit = True\n",
    "\n",
    "client = MQTTClient('mqtt_led_client', '10.39.40.200')\n",
    "\n",
    "# Subscribed messages will be delivered to this callback\n",
    "client.set_callback(sub_cb)\n",
    "\n",
    "client.connect()\n",
    "client.subscribe(b'led')\n",
    "\n",
    "quit = False\n",
    "\n",
    "try:\n",
    "    while not quit:\n",
    "        # call this to receive messages\n",
    "        client.wait_msg()\n",
    "except Exception as e:\n",
    "    print(\"*****\", e)\n",
    "finally:\n",
    "    client.disconnect()"
   ]
  },
  {
   "cell_type": "markdown",
   "id": "a084d11f-27ba-4281-911e-95066911931a",
   "metadata": {},
   "source": [
    "Note that it is necessary to call `client.wait_msg()` to receive messages, i.e. place this instruction somewhere in your program where it will be executed regularly.\n",
    "\n",
    "In simple programs like the example above that's easy enough to do, but in more complex applications this may not be trivial. \n",
    "\n",
    "An alternative is to use an mqtt client that uses the `asyncio`, a cooperative multitasking framework. An asyncronous MQTT client for MicroPython is available [here](https://github.com/peterhinch/micropython-mqtt/tree/master/mqtt_as)."
   ]
  },
  {
   "cell_type": "code",
   "execution_count": null,
   "id": "112e9226-1ff8-40b4-8441-ed2290da924a",
   "metadata": {},
   "outputs": [],
   "source": []
  }
 ],
 "metadata": {
  "kernelspec": {
   "display_name": "IoT",
   "language": "python",
   "name": "iot_kernel"
  },
  "language_info": {
   "codemirror_mode": {
    "name": "python",
    "version": 3
   },
   "file_extension": ".py",
   "mimetype": "text/x-python",
   "name": "python",
   "pygments_lexer": "python3",
   "version": "3"
  }
 },
 "nbformat": 4,
 "nbformat_minor": 5
}
