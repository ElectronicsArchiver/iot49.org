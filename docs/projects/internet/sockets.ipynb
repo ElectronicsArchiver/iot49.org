{
 "cells": [
  {
   "cell_type": "markdown",
   "id": "c4f7281f-abdf-41c3-85c1-591720a7d8d1",
   "metadata": {},
   "source": [
    "# Sockets\n",
    "\n",
    "Once an internet connection has been established, MicroPython uses [sockets](https://docs.micropython.org/en/latest/library/usocket.html) to access resources on the network, just like CPython (and pretty much [all programming languages](https://en.wikipedia.org/wiki/Network_socket)).\n",
    "\n",
    "Sockets are quite low level; frequently higher level libraries can be used instead. But if you want to write your own webserver, for example, you likely will use sockets.\n",
    "\n",
    "Examples presented are adapted from the [MicroPython github repository](https://github.com/micropython/micropython/tree/master/examples/network). Check them out for additional information.\n",
    "\n",
    "## http Client\n",
    "\n",
    "The code below first looks up the ip address of the server (`google.com`). It then creates a `socket`, connects to it at port 80 and downloads 2000 bytes. "
   ]
  },
  {
   "cell_type": "code",
   "execution_count": 1,
   "id": "0df7eb05-87f8-44d7-9ef7-a4cb7523e89d",
   "metadata": {
    "tags": [
     "hide-output"
    ]
   },
   "outputs": [
    {
     "name": "stdout",
     "output_type": "stream",
     "text": [
      "\u001b[46m\u001b[30mConnected to esp32 @ serial:///dev/ttyUSB0\u001b[0m\n",
      "Address information: [(2, 1, 0, 'google.com', ('142.250.191.46', 80))]\n",
      "\n",
      "Response:\n",
      "HTTP/1.0 200 OK\n",
      "Date: Thu, 09 Dec 2021 20:56:17 GMT\n",
      "Expires: -1\n",
      "Cache-Control: private, max-age=0\n",
      "Content-Type: text/html; charset=ISO-8859-1\n",
      "P3P: CP=\"This is not a P3P policy! See g.co/p3phelp for more info.\"\n",
      "Server: gws\n",
      "X-XSS-Protection: 0\n",
      "X-Frame-Options: SAMEORIGIN\n",
      "Set-Cookie: 1P_JAR=2021-12-09-20; expires=Sat, 08-Jan-2022 20:56:17 GMT; path=/; domain=.google.com; Secure\n",
      "Set-Cookie: NID=511=EtAZ6YCY123hQF0O5EzPwAwG_dy5oAVQD0ph_rSNLdxsxROCEABHQiSqm4eQexkyIejMn_-9NJ6LgOr5Y-Zv_bwnqXZ47UojX7-TWcK2gcqBTf9tyiD7nsN8BoH6vA2VJPCBOfZPF3uJXN-dnd4Do35y8F6L9jri2ASzEYLoWPE; expires=Fri, 10-Jun-2022 20:56:17 GMT; path=/; domain=.google.com; HttpOnly\n",
      "Accept-Ranges: none\n",
      "Vary: Accept-Encoding\n",
      "\n",
      "<!doctype html><html itemscope=\"\" itemtype=\"http://schema.org/WebPage\" lang=\"en\"><head><meta content=\"Search the world's information, including webpages, images, videos and more. Google has many special features to help you find exactly what you're looking for.\" name=\"description\"><meta content=\"noodp\" name=\"robots\"><meta content=\"text/html; charset=UTF-8\" http-equiv=\"Content-Type\"><meta content=\"/logos/doodles/2021/seasonal-holidays-2021-6753651837109324-6752733080595605-cst.gif\" itemprop=\"image\"><meta content=\"Seasonal Holidays 2021\" property=\"twitter:title\"><meta content=\"Seasonal Holidays 2021 #GoogleDoodle\" property=\"twitter:description\"><meta content=\"Seasonal Holidays 2021 #GoogleDoodle\" property=\"og:description\"><meta content=\"summary_large_image\" property=\"twitter:card\"><meta content=\"@GoogleDoodles\" property=\"twitter:site\"><meta content=\"https://www.google.com/logos/doodles/2021/seasonal-holidays-2021-6753651837109324-2xa.gif\" property=\"twitter:image\"><meta content=\"https://www.google.com/logos/doodles/2021/seasonal-holidays-2021-6753651837109324-2xa.gif\" property=\"og:image\"><meta content=\"1000\" property=\"og:image:width\"><meta content=\"400\" property=\"og:image:height\"><meta content=\"https://www.google.com/logos/doodles/2021/seasonal-holidays-2021-6753651837109324-2xa ...\n"
     ]
    }
   ],
   "source": [
    "import socket\n",
    "\n",
    "ai = socket.getaddrinfo('google.com', 80)\n",
    "print(\"Address information:\", ai)\n",
    "addr = ai[0][-1]\n",
    "\n",
    "s = socket.socket()\n",
    "s.connect(addr)\n",
    "s.write(b\"GET / HTTP/1.0\\r\\n\\r\\n\")\n",
    "\n",
    "print(\"\\nResponse:\")\n",
    "print(s.read(2000).decode(), \"...\")\n",
    "\n",
    "s.close()"
   ]
  },
  {
   "cell_type": "markdown",
   "id": "78786fdb-90c9-45c5-be3b-816941f06e1c",
   "metadata": {},
   "source": [
    "The response is quite wordy with embedded graphics meant for visualization in a browser, not parse by a microcontroller. Some sites, e.g. for weather data, can produce simpler responses optimized for parsing by machines.\n",
    "\n",
    "## http Server\n",
    "\n",
    "Let's do the opposite and create a simple webserver."
   ]
  },
  {
   "cell_type": "code",
   "execution_count": 1,
   "id": "e9aa1422-9247-46e8-919d-90b128bf73e9",
   "metadata": {
    "tags": [
     "hide-output"
    ]
   },
   "outputs": [
    {
     "name": "stdout",
     "output_type": "stream",
     "text": [
      "Listening, connect your browser to http://10.39.40.168:8080/\n",
      "Request from\n",
      "\n",
      "Request:\n",
      "b'GET / HTTP/1.1\\r\\n'\n",
      "b'Host: 10.39.40.168:8080\\r\\n'\n",
      "b'Connection: keep-alive\\r\\n'\n",
      "b'DNT: 1\\r\\n'\n",
      "b'Upgrade-Insecure-Requests: 1\\r\\n'\n",
      "b'User-Agent: Mozilla/5.0 (Macintosh; Intel Mac OS X 10_15_7) AppleWebKit/537.36 (KHTML, like Gecko) Chrome/96.0.4664.55 Safari/537.36\\r\\n'\n",
      "b'Accept: text/html,application/xhtml+xml,application/xml;q=0.9,image/avif,image/webp,image/apng,*/*;q=0.8,application/signed-exchange;v=b3;q=0.9\\r\\n'\n",
      "b'Accept-Encoding: gzip, deflate\\r\\n'\n",
      "b'Accept-Language: en-US,en;q=0.9,de-CH;q=0.8,de;q=0.7,fr-FR;q=0.6,fr;q=0.5,zh-HK;q=0.4,zh-CN;q=0.3,zh-TW;q=0.2,zh;q=0.1\\r\\n'\n",
      "\n",
      "Request from\n",
      "\n",
      "Request:\n",
      "b'GET /favicon.ico HTTP/1.1\\r\\n'\n",
      "b'Host: 10.39.40.168:8080\\r\\n'\n",
      "b'Connection: keep-alive\\r\\n'\n",
      "b'User-Agent: Mozilla/5.0 (Macintosh; Intel Mac OS X 10_15_7) AppleWebKit/537.36 (KHTML, like Gecko) Chrome/96.0.4664.55 Safari/537.36\\r\\n'\n",
      "b'DNT: 1\\r\\n'\n",
      "b'Accept: image/avif,image/webp,image/apng,image/svg+xml,image/*,*/*;q=0.8\\r\\n'\n",
      "b'Referer: http://10.39.40.168:8080/\\r\\n'\n",
      "b'Accept-Encoding: gzip, deflate\\r\\n'\n",
      "b'Accept-Language: en-US,en;q=0.9,de-CH;q=0.8,de;q=0.7,fr-FR;q=0.6,fr;q=0.5,zh-HK;q=0.4,zh-CN;q=0.3,zh-TW;q=0.2,zh;q=0.1\\r\\n'\n",
      "\n",
      "Request from\n",
      "\n",
      "Request:\n",
      "b'GET / HTTP/1.1\\r\\n'\n",
      "b'Host: 10.39.40.168:8080\\r\\n'\n",
      "b'Connection: keep-alive\\r\\n'\n",
      "b'Cache-Control: max-age=0\\r\\n'\n",
      "b'DNT: 1\\r\\n'\n",
      "b'Upgrade-Insecure-Requests: 1\\r\\n'\n",
      "b'User-Agent: Mozilla/5.0 (Macintosh; Intel Mac OS X 10_15_7) AppleWebKit/537.36 (KHTML, like Gecko) Chrome/96.0.4664.55 Safari/537.36\\r\\n'\n",
      "b'Accept: text/html,application/xhtml+xml,application/xml;q=0.9,image/avif,image/webp,image/apng,*/*;q=0.8,application/signed-exchange;v=b3;q=0.9\\r\\n'\n",
      "b'Accept-Encoding: gzip, deflate\\r\\n'\n",
      "b'Accept-Language: en-US,en;q=0.9,de-CH;q=0.8,de;q=0.7,fr-FR;q=0.6,fr;q=0.5,zh-HK;q=0.4,zh-CN;q=0.3,zh-TW;q=0.2,zh;q=0.1\\r\\n'\n",
      "\n",
      "Request from\n",
      "\n",
      "Request:\n",
      "b'GET /favicon.ico HTTP/1.1\\r\\n'\n",
      "b'Host: 10.39.40.168:8080\\r\\n'\n",
      "b'Connection: keep-alive\\r\\n'\n",
      "b'User-Agent: Mozilla/5.0 (Macintosh; Intel Mac OS X 10_15_7) AppleWebKit/537.36 (KHTML, like Gecko) Chrome/96.0.4664.55 Safari/537.36\\r\\n'\n",
      "b'DNT: 1\\r\\n'\n",
      "b'Accept: image/avif,image/webp,image/apng,image/svg+xml,image/*,*/*;q=0.8\\r\\n'\n",
      "b'Referer: http://10.39.40.168:8080/\\r\\n'\n",
      "b'Accept-Encoding: gzip, deflate\\r\\n'\n",
      "b'Accept-Language: en-US,en;q=0.9,de-CH;q=0.8,de;q=0.7,fr-FR;q=0.6,fr;q=0.5,zh-HK;q=0.4,zh-CN;q=0.3,zh-TW;q=0.2,zh;q=0.1\\r\\n'\n",
      "\n"
     ]
    },
    {
     "name": "stderr",
     "output_type": "stream",
     "text": [
      "Interrupted\u001b[0m\n"
     ]
    }
   ],
   "source": [
    "%connect esp32 -q\n",
    "\n",
    "import socket, network\n",
    "\n",
    "\n",
    "CONTENT = b\"\"\"\\\n",
    "HTTP/1.0 200 OK\n",
    "\n",
    "Hello #{} from MicroPython!\n",
    "\"\"\"\n",
    "\n",
    "PORT = 8080\n",
    "\n",
    "\n",
    "def webserver():\n",
    "    my_ip = network.WLAN(network.STA_IF).ifconfig()[0]\n",
    "    s = socket.socket()\n",
    "\n",
    "    # Binding to all interfaces - server will be accessible to other hosts!\n",
    "    ai = socket.getaddrinfo(\"0.0.0.0\", PORT)\n",
    "    addr = ai[0][-1]\n",
    "\n",
    "    s.setsockopt(socket.SOL_SOCKET, socket.SO_REUSEADDR, 1)\n",
    "    s.bind(addr)\n",
    "    s.listen(5)\n",
    "    print(\"Listening, connect your browser to http://{}:{}/\".format(my_ip, PORT))\n",
    "\n",
    "    try:\n",
    "        counter = 0\n",
    "        while True:\n",
    "            client_sock, client_addr = s.accept()\n",
    "\n",
    "            print(\"Request from\".format(client_addr))\n",
    "            req = client_sock.readline()\n",
    "            print(\"\\nRequest:\")\n",
    "            print(req)\n",
    "            while True:\n",
    "                h = client_sock.readline()\n",
    "                if h == b\"\" or h == b\"\\r\\n\":\n",
    "                    break\n",
    "                print(h)\n",
    "            client_sock.write(CONTENT.format(counter))\n",
    "\n",
    "            client_sock.close()\n",
    "            counter += 1\n",
    "            print()\n",
    "    finally:\n",
    "        s.close()\n",
    "\n",
    "webserver()"
   ]
  },
  {
   "cell_type": "markdown",
   "id": "7b36b2bc-64d4-4804-9f1d-219ce9cc81ac",
   "metadata": {},
   "source": [
    "Click the `http` link above to open a browser window. Notice two things:\n",
    "\n",
    "1. The hello counter increases by two everytime you refresh the page in the browser. The reason is that the browser (at least mine) make two requests each time it loads the page.\n",
    "\n",
    "2. The browser sends lots of data with each request. The kind of browser, the languages it speaks, etc. That's helpful for marketers to track users, but it's a bit over the top for small microcontrollers with limited memory and processing power. \n",
    "\n",
    "We'll check out more efficient means for microcontrollers to communicate over the internet. \n",
    "\n",
    "## Secure Client\n",
    "\n",
    "The secure, https, client is almost the same except that the port has been changed from 80 to 443 and the line `s = ssl.wrap_socket(s)` been added."
   ]
  },
  {
   "cell_type": "code",
   "execution_count": 1,
   "id": "c810776b-6331-45dd-ba36-e1820fdfd3f3",
   "metadata": {
    "tags": [
     "hide-output"
    ]
   },
   "outputs": [
    {
     "name": "stdout",
     "output_type": "stream",
     "text": [
      "Address information: [(2, 1, 0, 'google.com', ('142.250.191.46', 443))]\n",
      "\n",
      "Response:\n",
      "HTTP/1.0 200 OK\n",
      "Date: Thu, 09 Dec 2021 20:58:14 GMT\n",
      "Expires: -1\n",
      "Cache-Control: private, max-age=0\n",
      "Content-Type: text/html; charset=ISO-8859-1\n",
      "P3P: CP=\"This is not a P3P policy! See g.co/p3phelp for more info.\"\n",
      "Server: gws\n",
      "X-XSS-Protection: 0\n",
      "X-Frame-Options: SAMEORIGIN\n",
      "Set-Cookie: 1P_JAR=2021-12-09-20; expires=Sat, 08-Jan-2022 20:58:14 GMT; path=/; domain=.google.com; Secure\n",
      "Set-Cookie: NID=511=M45oCsiHFWSgRWfrX2VB--jEwDhmAKvh7tQl-sR3fbhVrwK3321ryOGfg2NVQaw2ONcmhsrMwPBYcvxIsHFJcTnixzciFARp6xCxofjeWzS8QJ0ll1URT0VM3_iTpasCOyLFvtCfwieSRmaLicLdnVQIiUXRlsAknUMpL5ScCbY; expires=Fri, 10-Jun-2022 20:58:14 GMT; path=/; domain=.google.com; HttpOnly\n",
      "Alt-Svc: h3=\":443\"; ma=2592000,h3-29=\":443\"; ma=2592000,h3-Q050=\":443\"; ma=2592000,h3-Q046=\":443\"; ma=2592000,h3-Q043=\":443\"; ma=2592000,quic=\":443\"; ma=2592000; v=\"46,43\"\n",
      "Accept-Ranges: none\n",
      "Vary: Accept-Encoding\n",
      "\n",
      "<!doctype html><html itemscope=\"\" itemtype=\"http://schema.org/WebPage\" lang=\"en\"><head><meta content=\"Search the world's information, including webpages, images, videos and more. Google has many special features to help you find exactly what you're looking for.\" name=\"description\"><meta content=\"noodp\" name=\"robots\"><meta content=\"text/html; charset=UTF-8\" http-equiv=\"Content-Type\"><meta content=\"/logos/doodles/2021/seasonal-holidays-2021-6753651837109324-6752733080595605-cst.gif\" itemprop=\"image\"><meta content=\"Seasonal Holidays 2021\" property=\"twitter:title\"><meta content=\"Seasonal Holidays 2021 #GoogleDoodle\" property=\"twitter:description\"><meta content=\"Seasonal Holidays 2021 #GoogleDoodle\" property=\"og:description\"><meta content=\"summary_large_image\" property=\"twitter:card\"><meta content=\"@GoogleDoodles\" property=\"twitter:site\"><meta content=\"https://www.google.com/logos/doodles/2021/seasonal-holidays-2021-6753651837109324-2xa.gif\" property=\"twitter:image\"><meta content=\"https://www.google.com/logos/doodles/2021/seasonal-holidays-2021-6753651837109324-2xa.gif\" property=\"og:image\"><meta content=\"1000\" \n"
     ]
    }
   ],
   "source": [
    "import socket, ssl\n",
    "\n",
    "ai = socket.getaddrinfo(\"google.com\", 443)\n",
    "print(\"Address information:\", ai)\n",
    "addr = ai[0][-1]\n",
    "\n",
    "s = socket.socket()\n",
    "s.connect(addr)\n",
    "s = ssl.wrap_socket(s)\n",
    "\n",
    "s.write(b\"GET / HTTP/1.0\\r\\n\\r\\n\")\n",
    "\n",
    "print(\"\\nResponse:\")\n",
    "print(s.read(2000).decode())\n",
    "\n",
    "s.close()"
   ]
  }
 ],
 "metadata": {
  "kernelspec": {
   "display_name": "IoT",
   "language": "python",
   "name": "iot_kernel"
  },
  "language_info": {
   "codemirror_mode": {
    "name": "python",
    "version": 3
   },
   "file_extension": ".py",
   "mimetype": "text/x-python",
   "name": "python",
   "pygments_lexer": "python3",
   "version": "3"
  }
 },
 "nbformat": 4,
 "nbformat_minor": 5
}
