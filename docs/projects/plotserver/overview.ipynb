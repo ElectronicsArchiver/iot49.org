{
 "cells": [
  {
   "cell_type": "markdown",
   "id": "ee29143b-0342-40b8-87e3-9ad1f89b0965",
   "metadata": {},
   "source": [
    "# Plotserver\n",
    "\n",
    "mqtt -> lineplot\n",
    "\n",
    "\n",
    "\n",
    "## Architecture\n",
    "\n",
    "uC -> MQTT -> client -> Queue -> Bokeh app\n",
    "\n",
    "* init/app_name\n",
    "** column names\n",
    "** figure parameters\n",
    "** class=LinePlot\n",
    "\n",
    "* close/app_name\n",
    "\n",
    "* data/app_name\n",
    "** binary f32 array\n",
    "\n",
    "\n",
    "ESP32, STM32: little endian\n",
    "Pi: little endian\n",
    "x86: little endian\n",
    "\n",
    "network: big endian"
   ]
  }
 ],
 "metadata": {
  "kernelspec": {
   "display_name": "Python 3 (ipykernel)",
   "language": "python",
   "name": "python3"
  },
  "language_info": {
   "codemirror_mode": {
    "name": "ipython",
    "version": 3
   },
   "file_extension": ".py",
   "mimetype": "text/x-python",
   "name": "python",
   "nbconvert_exporter": "python",
   "pygments_lexer": "ipython3",
   "version": "3.9.7"
  }
 },
 "nbformat": 4,
 "nbformat_minor": 5
}
