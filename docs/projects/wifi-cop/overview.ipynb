{
 "cells": [
  {
   "cell_type": "markdown",
   "id": "00cdce96-4d4f-474b-94cd-931a21462416",
   "metadata": {
    "tags": []
   },
   "source": [
    "# Approach\n",
    "\n",
    "These are the key components of the WiFi co-processor:\n",
    "\n",
    "* **Software on ESP32:** MicroPython. No need to reinvent the wheel. And it's guaranteed MicroPython compatible.\n",
    "* **Communication:** We'll use remote procedure calls (RPC) to invoke functions on the ESP32 (server) from the client.\n",
    "* **Data Encoding:** [MessagePack](https://msgpack.org/) is used to encode Python objects sent between the ESP32 and the target.\n",
    "* **Bus:** We use a [UART](https://en.wikipedia.org/wiki/Universal_asynchronous_receiver-transmitter) to send data between the processors. It's widely available on virtually all microcontrollers, requires only two wires, and is symmetrical: both endpoints can communicate at any time without complex handshaking. Most microcontrollers support baud rates up to and in excess of 1Mbps, sufficient for communication not to be the bottleneck in this application."
   ]
  }
 ],
 "metadata": {
  "kernelspec": {
   "display_name": "IoT",
   "language": "python",
   "name": "iot_kernel"
  },
  "language_info": {
   "codemirror_mode": {
    "name": "python",
    "version": 3
   },
   "file_extension": ".py",
   "mimetype": "text/x-python",
   "name": "python",
   "pygments_lexer": "python3",
   "version": "3"
  }
 },
 "nbformat": 4,
 "nbformat_minor": 5
}
