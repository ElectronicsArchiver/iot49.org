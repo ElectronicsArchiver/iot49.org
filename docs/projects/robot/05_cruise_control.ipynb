{
 "cells": [
  {
   "cell_type": "code",
   "execution_count": null,
   "id": "15e54d92-5f91-4f7f-837f-45ad3fed1ff5",
   "metadata": {},
   "outputs": [],
   "source": []
  },
  {
   "cell_type": "markdown",
   "id": "0f184555-674b-4db8-b6a0-3f4743eb32b1",
   "metadata": {},
   "source": [
    "![](figures/PID_en.svg)"
   ]
  },
  {
   "cell_type": "code",
   "execution_count": null,
   "id": "14c4daca-9a9f-42ce-bc46-86b43ecc1a3a",
   "metadata": {},
   "outputs": [],
   "source": []
  }
 ],
 "metadata": {
  "kernelspec": {
   "display_name": "IoT",
   "language": "python",
   "name": "iot_kernel"
  },
  "language_info": {
   "codemirror_mode": {
    "name": "python",
    "version": 3
   },
   "file_extension": ".py",
   "mimetype": "text/x-python",
   "name": "python",
   "pygments_lexer": "python3",
   "version": "3"
  }
 },
 "nbformat": 4,
 "nbformat_minor": 5
}
