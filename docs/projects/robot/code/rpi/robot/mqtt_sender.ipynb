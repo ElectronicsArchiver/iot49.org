{
 "cells": [
  {
   "cell_type": "code",
   "execution_count": 29,
   "id": "19258227-ae6d-4676-b865-d7121cc87b9d",
   "metadata": {},
   "outputs": [],
   "source": [
    "import paho.mqtt.client as mqtt\n",
    "import json\n",
    "\n",
    "class LivePlotProxy:\n",
    "    \n",
    "    def __init__(self, name):\n",
    "        self._name = name\n",
    "        self._mqttc = mqtt.Client(client_id=\"\", clean_session=True, protocol=mqtt.MQTTv311)\n",
    "        self._mqttc.connect(\"localhost\", port=1883, keepalive=60)\n",
    "        self._mqttc.publish(\"mqtt_plot/create\", json.dumps((self._name, \"LivePlot\")))\n",
    "    \n",
    "    def start(self):\n",
    "        self._mqttc.publish(\"mqtt_plot/start\", self._name)\n",
    "    \n",
    "    def stop(self):\n",
    "        self._mqttc.publish(\"mqtt_plot/stop\", self._name)\n",
    "    \n",
    "    def configure(self, column_names, *, rollover=None, update_interval=0.1, **figure_args):\n",
    "        msg = (self._name, \"configure\", [column_names], figure_args)\n",
    "        self._mqttc.publish(\"mqtt_plot/call\", json.dumps(msg))\n",
    "        \n",
    "    def add_row(self, row):\n",
    "        msg = (self._name, \"add_row\", [row], {})\n",
    "        self._mqttc.publish(\"mqtt_plot/call\", json.dumps(msg))\n",
    "    \n",
    "lp = LivePlotProxy(\"my_plot\")\n",
    "lp.configure(['x', 'y'])\n",
    "lp.start()"
   ]
  },
  {
   "cell_type": "code",
   "execution_count": 30,
   "id": "8467fc65-7ae8-4706-8e15-3734b131d2d4",
   "metadata": {},
   "outputs": [],
   "source": [
    "lp.add_row([1, 15])"
   ]
  },
  {
   "cell_type": "code",
   "execution_count": null,
   "id": "afb76b52-63d8-426d-b63d-2b8dffa17152",
   "metadata": {},
   "outputs": [],
   "source": []
  }
 ],
 "metadata": {
  "kernelspec": {
   "display_name": "Python 3",
   "language": "python",
   "name": "python3"
  },
  "language_info": {
   "codemirror_mode": {
    "name": "ipython",
    "version": 3
   },
   "file_extension": ".py",
   "mimetype": "text/x-python",
   "name": "python",
   "nbconvert_exporter": "python",
   "pygments_lexer": "ipython3",
   "version": "3.8.10"
  }
 },
 "nbformat": 4,
 "nbformat_minor": 5
}
