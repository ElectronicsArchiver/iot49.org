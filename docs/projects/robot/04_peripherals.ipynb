{
 "cells": [
  {
   "cell_type": "markdown",
   "id": "86277f01-8848-44dc-84ee-e79442e39b17",
   "metadata": {},
   "source": [
    "# Peripherals"
   ]
  },
  {
   "cell_type": "code",
   "execution_count": 1,
   "id": "ecd2c359-60c6-4eab-a473-fb138035bcbe",
   "metadata": {},
   "outputs": [
    {
     "name": "stdout",
     "output_type": "stream",
     "text": [
      "\u001b[46m\u001b[30mConnected to robot-stm32 @ serial:///dev/ttyAMA1\u001b[0m\n"
     ]
    }
   ],
   "source": [
    "%register serial:///dev/ttyAMA1\n",
    "%connect robot-stm32"
   ]
  },
  {
   "cell_type": "markdown",
   "id": "02253eae-e9fb-4931-9514-2a96424c6ef4",
   "metadata": {},
   "source": [
    "## GPIO\n",
    "\n",
    "List of available GPIOs and their capabilities:"
   ]
  },
  {
   "cell_type": "code",
   "execution_count": 1,
   "id": "3d9d575e-5cdd-4657-ad46-385aae8075a4",
   "metadata": {
    "collapsed": true,
    "jupyter": {
     "outputs_hidden": true
    },
    "tags": [
     "hide-output"
    ]
   },
   "outputs": [
    {
     "name": "stdout",
     "output_type": "stream",
     "text": [
      "board name      name alternate functions\n",
      "AIN1            C5   []\n",
      "AIN2            C1   []\n",
      "AUX             B13  [Pin.AF1_TIM1, Pin.AF5_SPI2, Pin.AF7_USART3]\n",
      "BATTERY_MONITOR A3   [Pin.AF1_TIM2, Pin.AF2_TIM5, Pin.AF3_TIM9, Pin.AF7_USART2]\n",
      "BIN1            C3   [Pin.AF5_SPI2]\n",
      "BIN2            A4   [Pin.AF5_SPI1, Pin.AF7_USART2]\n",
      "BOOT1           B2   []\n",
      "D8              C0   []\n",
      "ENC_A1          A6   [Pin.AF1_TIM1, Pin.AF2_TIM3, Pin.AF3_TIM8, Pin.AF5_SPI1, Pin.AF9_TIM13]\n",
      "ENC_A2          A7   [Pin.AF1_TIM1, Pin.AF2_TIM3, Pin.AF3_TIM8, Pin.AF5_SPI1, Pin.AF9_TIM14]\n",
      "ENC_B1          B6   [Pin.AF2_TIM4, Pin.AF4_I2C1]\n",
      "ENC_B2          B7   [Pin.AF2_TIM4, Pin.AF4_I2C1]\n",
      "FLASH_CS        A15  [Pin.AF1_TIM2, Pin.AF1_TIM2, Pin.AF5_SPI1]\n",
      "FLASH_MISO      B4   [Pin.AF2_TIM3, Pin.AF5_SPI1]\n",
      "FLASH_MOSI      B5   [Pin.AF2_TIM3, Pin.AF5_SPI1]\n",
      "FLASH_SCK       B3   [Pin.AF1_TIM2, Pin.AF5_SPI1]\n",
      "NC_A0           A0   [Pin.AF1_TIM2, Pin.AF1_TIM2, Pin.AF2_TIM5, Pin.AF3_TIM8, Pin.AF7_USART2]\n",
      "NC_A1           A1   [Pin.AF1_TIM2, Pin.AF2_TIM5, Pin.AF7_USART2]\n",
      "NC_A2           A2   [Pin.AF1_TIM2, Pin.AF2_TIM5, Pin.AF3_TIM9, Pin.AF7_USART2]\n",
      "D8              C0   []\n",
      "NSTBY           C2   [Pin.AF5_SPI2]\n",
      "PWM_A           B15  [Pin.AF1_TIM1, Pin.AF3_TIM8, Pin.AF5_SPI2, Pin.AF9_TIM12]\n",
      "PWM_B           A5   [Pin.AF1_TIM2, Pin.AF1_TIM2, Pin.AF3_TIM8, Pin.AF5_SPI1]\n",
      "PWR_EN          B14  [Pin.AF1_TIM1, Pin.AF3_TIM8, Pin.AF5_SPI2, Pin.AF7_USART3, Pin.AF9_TIM12]\n",
      "RX              B11  [Pin.AF1_TIM2, Pin.AF4_I2C2, Pin.AF7_USART3]\n",
      "RX_AUX          C7   [Pin.AF2_TIM3, Pin.AF3_TIM8, Pin.AF8_USART6]\n",
      "SCL             B8   [Pin.AF2_TIM4, Pin.AF3_TIM10, Pin.AF4_I2C1, Pin.AF9_CAN1]\n",
      "SDA             B9   [Pin.AF2_TIM4, Pin.AF3_TIM11, Pin.AF4_I2C1, Pin.AF5_SPI2, Pin.AF9_CAN1]\n",
      "SD_CK           C12  [Pin.AF7_USART3]\n",
      "SD_CMD          D2   [Pin.AF2_TIM3]\n",
      "SD_D0           C8   [Pin.AF2_TIM3, Pin.AF3_TIM8, Pin.AF8_USART6]\n",
      "SD_D1           C9   [Pin.AF2_TIM3, Pin.AF3_TIM8]\n",
      "SD_D2           C10  [Pin.AF7_USART3]\n",
      "SD_D3           C11  [Pin.AF7_USART3]\n",
      "SD_DETECT       B12  [Pin.AF1_TIM1, Pin.AF5_SPI2, Pin.AF7_USART3]\n",
      "SWCLK           A14  []\n",
      "SWDIO           A13  []\n",
      "TX              B10  [Pin.AF1_TIM2, Pin.AF4_I2C2, Pin.AF5_SPI2, Pin.AF7_USART3]\n",
      "TX_AUX          C6   [Pin.AF2_TIM3, Pin.AF3_TIM8, Pin.AF8_USART6]\n",
      "USB_DM          A11  [Pin.AF1_TIM1, Pin.AF9_CAN1]\n",
      "USB_DP          A12  [Pin.AF1_TIM1, Pin.AF9_CAN1]\n",
      "USB_ID          A10  [Pin.AF1_TIM1]\n",
      "USB_VBUS        A9   [Pin.AF1_TIM1]\n",
      "V12_DIV         C4   []\n"
     ]
    }
   ],
   "source": [
    "# pin alternate functions\n",
    "\n",
    "from pyb import Pin\n",
    "\n",
    "print(\"{:15} {:4} {}\".format('board name', 'name', 'alternate functions'))\n",
    "for p in sorted(dir(Pin.board)):\n",
    "    if '__' in p: continue\n",
    "    pin = Pin(p)\n",
    "    names = pin.names()\n",
    "    print(\"{:15} {:4} {}\".format(names[1], names[0], pin.af_list()))"
   ]
  },
  {
   "cell_type": "markdown",
   "id": "95ee57b0-d000-4a64-8c55-9bc13aac3662",
   "metadata": {},
   "source": [
    "## Motor Controller\n",
    "\n",
    "The motor controller comprises two H-bridges to control the speed and direction of the motors and magnetic encoders to capture the rotational speed.\n",
    "\n",
    "### H-bridges\n",
    "\n",
    "The figure below shows the TB6612 motor controller. It is wired to the STM32 as follows:\n",
    "\n",
    "* Channel A control: PWMA, AIN1, AIN2\n",
    "* Channel B control: PWMB, BIN1, BIN2\n",
    "\n",
    "```{figure} figures/TB6612-breakout.jpg\n",
    ":width: 300px\n",
    ":name: h-bridge\n",
    "\n",
    "[TB6612](https://www.pololu.com/product/713) dual H-bridge motor controller breakout.\n",
    "```\n",
    "\n",
    "The `xIN1` and `xIN2` determine its state as follows:\n",
    "\n",
    "| Function | IN1 | IN2 | Notes |\n",
    "|----------|-----|-----|-------|\n",
    "| Forward  |  L  |  H  |  \n",
    "| Reverse  |  H  |  L  |\n",
    "| Brake    |  H  |  H  | speed=0 has same effect\n",
    "| Coast (Z)|  L  |  L  |\n",
    "\n",
    "The TB6612 class maps the desired speed input to the appropriate control signals:"
   ]
  },
  {
   "cell_type": "code",
   "execution_count": 1,
   "id": "649eff27-22ca-4c78-8f8e-bbe248479cb0",
   "metadata": {
    "collapsed": true,
    "jupyter": {
     "outputs_hidden": true
    },
    "tags": [
     "hide-output"
    ]
   },
   "outputs": [
    {
     "name": "stdout",
     "output_type": "stream",
     "text": [
      "\"\"\"\n",
      "TB6612 motor driver.\n",
      "\n",
      "Example:\n",
      "\n",
      "from pyb import Pin, Timer\n",
      "from tb6612 import TB6612\n",
      "import time\n",
      "\n",
      "freq = 10_0000\n",
      "tim = Timer(8, freq=freq)\n",
      "\n",
      "motor1 = TB6612(\n",
      "    tim.channel(3, Timer.PWM_INVERTED, pin=Pin('PWM_A')),\n",
      "    Pin('AIN1', mode=Pin.OUT_PP),\n",
      "    Pin('AIN2', mode=Pin.OUT_PP)\n",
      ")\n",
      "\n",
      "motor2 = TB6612(\n",
      "    tim.channel(1, Timer.PWM_INVERTED, pin=Pin('PWM_B')),\n",
      "    Pin('BIN1', mode=Pin.OUT_PP),\n",
      "    Pin('BIN2', mode=Pin.OUT_PP)\n",
      ")\n",
      "\n",
      "nstby = Pin('NSTBY', mode=Pin.OUT_PP)\n",
      "nstby.value(1)\n",
      "\n",
      "motor1.speed(30)\n",
      "motor2.speed(-83)\n",
      "\n",
      "time.sleep(5)\n",
      "nstby.value(0)\n",
      "\"\"\"\n",
      "\n",
      "class TB6612:\n",
      "\n",
      "    def __init__(self, pwm, in1, in2):\n",
      "        self.pwm = pwm\n",
      "        self.in1 = in1\n",
      "        self.in2 = in2\n",
      "\n",
      "    def speed(self, speed:float):\n",
      "        \"\"\"Set motor speed (duty cycle), range +/- 100.\"\"\"\n",
      "        if speed < 0:\n",
      "            self.in1.value(0)\n",
      "            self.in2.value(1)\n",
      "        else:\n",
      "            self.in1.value(1)\n",
      "            self.in2.value(0)\n",
      "        speed = min(int(abs(speed)), 100)\n",
      "        self.pwm.pulse_width_percent(speed)\n"
     ]
    }
   ],
   "source": [
    "!cat code/stm32/lib/tb6612.py"
   ]
  },
  {
   "cell_type": "markdown",
   "id": "f224c8c8-0ee3-41d7-b907-0d8fa442bcb9",
   "metadata": {},
   "source": [
    "Example:"
   ]
  },
  {
   "cell_type": "code",
   "execution_count": 1,
   "id": "ad674a62-a103-43a2-863e-6194e9a48c3a",
   "metadata": {},
   "outputs": [],
   "source": [
    "from tb6612 import TB6612\n",
    "from pyb import Pin, Timer\n",
    "\n",
    "# motor power control\n",
    "nstby = Pin('NSTBY', mode=Pin.OUT_PP)\n",
    "nstby.value(0)\n",
    "\n",
    "# motors\n",
    "pwm_timer = Timer(8, freq=10_0000)\n",
    "\n",
    "motor1 = TB6612(\n",
    "    pwm_timer.channel(3, Timer.PWM_INVERTED, pin=Pin('PWM_A')),\n",
    "    Pin('AIN1', mode=Pin.OUT_PP),\n",
    "    Pin('AIN2', mode=Pin.OUT_PP)\n",
    ")\n",
    "\n",
    "motor2 = TB6612(\n",
    "    pwm_timer.channel(1, Timer.PWM_INVERTED, pin=Pin('PWM_B')),\n",
    "    Pin('BIN1', mode=Pin.OUT_PP),\n",
    "    Pin('BIN2', mode=Pin.OUT_PP)\n",
    ")"
   ]
  },
  {
   "cell_type": "markdown",
   "id": "5185e65d-0f91-44fa-8cdd-db7808ba7edd",
   "metadata": {},
   "source": [
    "Start motors: if everything is wired correctly, the motors will spin when running the code in next cell."
   ]
  },
  {
   "cell_type": "code",
   "execution_count": 1,
   "id": "ba25b677-1c1e-472c-9590-a96d7b44a3ad",
   "metadata": {},
   "outputs": [],
   "source": [
    "from time import sleep\n",
    "\n",
    "# enable TB6612\n",
    "nstby.value(1)\n",
    "\n",
    "for speed in range(0, 101, 20):\n",
    "    # set desired speed (PWM duty cycle)\n",
    "    motor1.speed(speed)\n",
    "    motor2.speed(-speed // 2)\n",
    "    time.sleep(1)\n",
    "    \n",
    "nstby.value(0)"
   ]
  },
  {
   "cell_type": "markdown",
   "id": "91e34fcc-3f1a-484b-8227-f67696bafb82",
   "metadata": {},
   "source": [
    "### Encoder\n",
    "\n",
    "Just like a car, motor speed depends on load. Encoders can be used to measure the actual speed.\n",
    "\n",
    "\n",
    "I've chosen magnetic encoders:\n",
    "\n",
    "```{figure} figures/encoder.jpg\n",
    ":width: 300px\n",
    ":name: h-bridge\n",
    "\n",
    "[Magnetic Encoder](https://www.pololu.com/product/3081) breakout boards.\n",
    "```\n",
    "\n",
    "A wheel with 12 magnets with alternating magnetization mounted to the shaft to the motor passes two magnetic sensors (the black components on the board) to produce electrical pulses. The STM32 has built-in counters to tally up these pulses, realizing in effect an odometer.\n",
    "\n",
    "Attention: this odometer measures position, rather than distance traveled - going backwards decreases the output! Presumably not what a car odometer measures, although I have to admit I never tried driving my car backwards on the highway to check if the odometer count decreases ..."
   ]
  },
  {
   "cell_type": "code",
   "execution_count": 1,
   "id": "4b16410d-0f86-45ce-9ae2-3b9d7e5b0760",
   "metadata": {
    "collapsed": true,
    "jupyter": {
     "outputs_hidden": true
    },
    "tags": [
     "hide-output"
    ]
   },
   "outputs": [
    {
     "name": "stdout",
     "output_type": "stream",
     "text": [
      "# https://github.com/iot49/upy-examples/blob/master/encoder2.py\n",
      "\n",
      "\"\"\"\n",
      "Hardware quadrature encoder.\n",
      "Works for Timers 2-5\n",
      "  2 & 5 have 32-bit counters\n",
      "  3 & 4 have 16-bit counters\n",
      "Input is on ch1 & ch2.\n",
      "\n",
      "Sample usage:\n",
      "\n",
      "enc1 = init_encoder(3, Pin.cpu.A6, Pin.cpu.A7, Pin.AF2_TIM3)\n",
      "enc2 = init_encoder(4, Pin.cpu.B6, Pin.cpu.B7, Pin.AF2_TIM4)\n",
      "\n",
      "Readout (c2, 2's complement, only for 16-bit timers):\n",
      "c2(enc1.counter())\n",
      "\n",
      "Reset:\n",
      "enc1.counter(0)\n",
      "\"\"\"\n",
      "\n",
      "from pyb import Pin, Timer\n",
      "\n",
      "def init_encoder(timer, ch1_pin, ch2_pin, af):\n",
      "    # sets up encoder and returns timer\n",
      "    # read count by calling timer.counter()\n",
      "    pin_a = Pin(ch1_pin, Pin.AF_PP, pull=Pin.PULL_NONE, af=af)\n",
      "    pin_b = Pin(ch2_pin, Pin.AF_PP, pull=Pin.PULL_NONE, af=af)\n",
      "    enc_timer = Timer(timer, prescaler=0, period=0xffff)\n",
      "    enc_channel = enc_timer.channel(1, Timer.ENC_AB)\n",
      "    return enc_timer\n",
      "\n",
      "\n",
      "def c2(x):\n",
      "    # two's complement of 16-Bit number\n",
      "    if x & 0x8000:\n",
      "        # two's complement of 16 bit value\n",
      "        x -= 0x10000\n",
      "    return x\n",
      "\n",
      "\n",
      "def test_encoder(enc_timer):\n",
      "    # connect CH1 pin to 'A0'\n",
      "    #         CH2 pin to 'A1'\n",
      "    # Usage: test_encoder(init_encoder(...))\n",
      "    out_idx = 0\n",
      "    out_seq = [0, 1, 3, 2]\n",
      "\n",
      "    pin_a2 = Pin('A0', Pin.OUT_PP)\n",
      "    pin_b2 = Pin('A1', Pin.OUT_PP)\n",
      "\n",
      "    def set_out():\n",
      "        print(\"    Writing   {:d}   {:d} \". \\\n",
      "              format((out_seq[out_idx] & 0x02) != 0, (out_seq[out_idx] & 0x01) != 0))\n",
      "        pin_a2.value((out_seq[out_idx] & 0x01) != 0)\n",
      "        pin_b2.value((out_seq[out_idx] & 0x02) != 0)\n",
      "\n",
      "    def incr():\n",
      "        nonlocal out_idx\n",
      "        out_idx = (out_idx + 1) % 4\n",
      "        set_out()\n",
      "\n",
      "    def decr():\n",
      "        nonlocal out_idx\n",
      "        out_idx = (out_idx - 1) % 4\n",
      "        set_out()\n",
      "\n",
      "    print(\"                 \", end=\"\")\n",
      "    set_out()\n",
      "\n",
      "    def show_count(prefix):\n",
      "        nonlocal enc_timer\n",
      "        cnt = c2(enc_timer.counter())\n",
      "\n",
      "    for i in range(12):\n",
      "        show_count('+')\n",
      "        incr()\n",
      "    for i in range(24):\n",
      "        show_count('-')\n",
      "        decr()\n",
      "    for i in range(15):\n",
      "        show_count('+')\n",
      "        incr()\n",
      "    show_count(\"Final\")\n"
     ]
    }
   ],
   "source": [
    "!cat code/stm32/lib/encoder.py"
   ]
  },
  {
   "cell_type": "code",
   "execution_count": 1,
   "id": "dea70495-0faa-49a3-a751-5eb700816ed0",
   "metadata": {},
   "outputs": [],
   "source": [
    "from encoder import init_encoder, c2\n",
    "\n",
    "enc1 = init_encoder(4, 'ENC_A1', 'ENC_A2', Pin.AF2_TIM4)\n",
    "enc2 = init_encoder(3, 'ENC_B1', 'ENC_B2', Pin.AF2_TIM3)"
   ]
  },
  {
   "cell_type": "markdown",
   "id": "880b0c07-0f50-4202-881e-7fb779864764",
   "metadata": {},
   "source": [
    "A complete example:"
   ]
  },
  {
   "cell_type": "code",
   "execution_count": 1,
   "id": "885ffb9a-351d-439b-9ee7-d52636557064",
   "metadata": {},
   "outputs": [
    {
     "name": "stdout",
     "output_type": "stream",
     "text": [
      "     0       0\n",
      "     0       0\n",
      "     0       0\n",
      "     0       0\n",
      "     0       0\n",
      "     0       0\n",
      "   -44      -3\n",
      "  -104      -3\n",
      "  -170      -3\n",
      "  -238      -3\n",
      "  -307      -3\n",
      "  -460     -54\n",
      "  -643    -125\n",
      "  -828    -199\n",
      " -1014    -274\n",
      " -1195    -351\n",
      " -1451    -468\n",
      " -1740    -600\n",
      " -2040    -734\n",
      " -2344    -868\n",
      " -2649   -1003\n",
      " -3032   -1178\n",
      " -3442   -1368\n",
      " -3855   -1557\n",
      " -4272   -1748\n",
      " -4689   -1941\n",
      " -5183   -2175\n",
      " -5715   -2426\n",
      " -6257   -2679\n",
      " -6792   -2932\n"
     ]
    }
   ],
   "source": [
    "# enable TB6612\n",
    "nstby.value(1)\n",
    "\n",
    "for speed in range(0, 101, 20):\n",
    "    # set desired speed (PWM duty cycle)\n",
    "    motor1.speed(speed)\n",
    "    motor2.speed(-speed // 2)\n",
    "    for i in range(5):\n",
    "        print(f\"{c2(enc1.counter()):6d}  {c2(enc2.counter()):6d}\")\n",
    "        time.sleep(0.1)\n",
    "    \n",
    "nstby.value(0)"
   ]
  },
  {
   "cell_type": "markdown",
   "id": "895c5465-34e0-485b-8032-dc2235cfd6b5",
   "metadata": {},
   "source": [
    "## IMU\n",
    "\n",
    "![](figures/BNO055_orientation.png)\n",
    "\n",
    "![](figures/yaw_pitch_roll.png)"
   ]
  },
  {
   "cell_type": "markdown",
   "id": "b9cf1f99-6406-4698-943a-f5a1c3db41ee",
   "metadata": {},
   "source": [
    "## PID\n",
    "\n",
    "![](figures/PID_en.svg)\n"
   ]
  },
  {
   "cell_type": "code",
   "execution_count": null,
   "id": "79d5f2b8-435c-494d-b555-b029fe3be7f2",
   "metadata": {},
   "outputs": [],
   "source": []
  }
 ],
 "metadata": {
  "kernelspec": {
   "display_name": "IoT",
   "language": "python",
   "name": "iot_kernel"
  },
  "language_info": {
   "codemirror_mode": {
    "name": "python",
    "version": 3
   },
   "file_extension": ".py",
   "mimetype": "text/x-python",
   "name": "python",
   "pygments_lexer": "python3",
   "version": "3"
  }
 },
 "nbformat": 4,
 "nbformat_minor": 5
}
