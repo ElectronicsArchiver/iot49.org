{
 "cells": [
  {
   "cell_type": "markdown",
   "id": "7936134d-8d1a-4078-8a7e-5eefaecbd1e3",
   "metadata": {},
   "source": [
    "# Scratch"
   ]
  },
  {
   "cell_type": "code",
   "execution_count": 1,
   "id": "840e294d-3039-4319-974f-90922e2e1d01",
   "metadata": {},
   "outputs": [
    {
     "name": "stdout",
     "output_type": "stream",
     "text": [
      "\u001b[46m\u001b[30mConnected to robot-stm32 @ serial:///dev/ttyAMA1\u001b[0m\n"
     ]
    }
   ],
   "source": [
    "%connect serial:///dev/ttyAMA1"
   ]
  },
  {
   "cell_type": "code",
   "execution_count": 1,
   "id": "d0a4c8cd-5c63-4204-be48-b41061f2d54a",
   "metadata": {},
   "outputs": [
    {
     "name": "stdout",
     "output_type": "stream",
     "text": [
      "duty\n"
     ]
    }
   ],
   "source": [
    "b = b'duty'\n",
    "print(b.decode())"
   ]
  },
  {
   "cell_type": "code",
   "execution_count": 1,
   "id": "817c8aeb-44bb-403d-9530-430007b48dea",
   "metadata": {},
   "outputs": [],
   "source": [
    "5"
   ]
  },
  {
   "cell_type": "code",
   "execution_count": null,
   "id": "c4067bb9-7d1e-4911-adef-6e0d81f05f5e",
   "metadata": {},
   "outputs": [],
   "source": [
    "%rsync"
   ]
  },
  {
   "cell_type": "code",
   "execution_count": 1,
   "id": "a598f44e-8b2c-4109-abb6-7adf35d0268b",
   "metadata": {},
   "outputs": [
    {
     "name": "stdout",
     "output_type": "stream",
     "text": [
      "                            \u001b[32mflash/\u001b[0m\n",
      "                                \u001b[32mlib/\u001b[0m\n",
      "   6491  Jan 15 16:00 2022          \u001b[34mbno055.py\u001b[0m\n",
      "   5598  Jan 15 16:00 2022          \u001b[34mbno055_base.py\u001b[0m\n",
      "   1078  Jan 15 16:00 2022          \u001b[34mbno055_test.py\u001b[0m\n",
      "   1899  Jan 16 17:43 2022          \u001b[34mcomm.py\u001b[0m\n",
      "   4160  Jan 16 17:43 2022          \u001b[34mcontroller.py\u001b[0m\n",
      "    495  Jan 16 16:43 2022          \u001b[34mduty_control.py\u001b[0m\n",
      "   2073  Jan 15 16:00 2022          \u001b[34mencoder.py\u001b[0m\n",
      "    952  Jan 16 15:43 2022          \u001b[34mparam.py\u001b[0m\n",
      "   2599  Jan 15 16:00 2022          \u001b[34mpid.py\u001b[0m\n",
      "   1037  Jan 15 16:00 2022          \u001b[34mtb6612.py\u001b[0m\n",
      "    317  Jan 15 16:00 2022      \u001b[34msecrets.py\u001b[0m\n"
     ]
    }
   ],
   "source": [
    "%rlist"
   ]
  },
  {
   "cell_type": "code",
   "execution_count": null,
   "id": "5a2dae2f-d4f4-4715-beae-0df9acf22b78",
   "metadata": {},
   "outputs": [],
   "source": []
  }
 ],
 "metadata": {
  "kernelspec": {
   "display_name": "IoT",
   "language": "python",
   "name": "iot_kernel"
  },
  "language_info": {
   "codemirror_mode": {
    "name": "python",
    "version": 3
   },
   "file_extension": ".py",
   "mimetype": "text/x-python",
   "name": "python",
   "pygments_lexer": "python3",
   "version": "3"
  }
 },
 "nbformat": 4,
 "nbformat_minor": 5
}
