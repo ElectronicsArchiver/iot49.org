{
 "cells": [
  {
   "cell_type": "markdown",
   "id": "4026a4a8-d6ca-4467-aaec-731c6a5ac63d",
   "metadata": {},
   "source": [
    "# Overview\n",
    "\n",
    "{numref}`Figure %s <robot>` shows the main components of the robot hardware. A Raspberry PI 4 provides compute power, wireless connectivity, and a camera interface. To aid development, it runs *ide49*.\n",
    "\n",
    "An STM32 microcontroller interfaces with the motors. The encoders measure the actual speed of the motors. The IMU detects the orientation of the robot.\n",
    "\n",
    "The motors and electronics are powered from a 12V Lithium battery. An on-board switching regulators generates the 5V supply for the Raspberry PI.\n",
    "\n",
    "The remote controller communicates over BLE with the Raspberry PI, which forwards commands to the STM32.\n",
    "\n",
    "```{figure} figures/robot.png\n",
    ":width: 500px\n",
    ":name: robot\n",
    "\n",
    "Main components of the robot.\n",
    "```\n",
    "\n",
    "All the \"custom\" electronics is combined on a small PCB in the form of a Raspberry PI \"hat\". {numref}`Figure %s <robot_sch>` shows the schematic diagram.\n",
    "\n",
    "```{figure} figures/motor_hat.png\n",
    ":width: 800px\n",
    ":name: robot_sch\n",
    "\n",
    "Motor-hat circuit diagram (<a href=\"../../_images/motor_hat.pdf\">pdf</a>)\n",
    "```\n"
   ]
  },
  {
   "cell_type": "markdown",
   "id": "94751715-332b-4b25-93bc-6d430366bd70",
   "metadata": {
    "tags": [
     "hide-cell"
    ]
   },
   "source": [
    "% required for files to be copied to output directory\n",
    "\n",
    "![](figures/motor_hat.pdf)"
   ]
  }
 ],
 "metadata": {
  "kernelspec": {
   "display_name": "IoT",
   "language": "python",
   "name": "iot_kernel"
  },
  "language_info": {
   "codemirror_mode": {
    "name": "python",
    "version": 3
   },
   "file_extension": ".py",
   "mimetype": "text/x-python",
   "name": "python",
   "pygments_lexer": "python3",
   "version": "3"
  }
 },
 "nbformat": 4,
 "nbformat_minor": 5
}
