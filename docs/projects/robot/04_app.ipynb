{
 "cells": [
  {
   "cell_type": "markdown",
   "id": "7cfdcc44-2186-4d94-aa7e-56962b4d09dd",
   "metadata": {},
   "source": [
    "# Robot App\n",
    "\n",
    "The robot app on the STM32 comprises two tasks:\n",
    "\n",
    "1. Control robot velocity, balance, etc. This task is run at precise intervals (e.g. every 10ms) set by a timer interrupt. The controller also sends the status (e.g. velocity, pitch angle) to the host.\n",
    "\n",
    "2. Communication with the host, accepting commands such as speed and direction of the robot and control parameters. This is the \"default\" task and runs always except when interrupted by the controller.\n",
    "\n",
    "Both tasks share a single serial connection (UART) for communication with the host. The communication task also updates control parameters (e.g. speed) used by the controller. \n",
    "\n",
    "Access between the tasks is arbitrated as follows:\n",
    "\n",
    "1. UART: when sending data to the host, the communication task (briefly) disables interrupts. This ensures message integrity. \n",
    "\n",
    "2. Parameters (array of floats): the communication tasks writes, the controller reads parameters. Since single float writes are \"atomic\", no special precautions are required for single parameter updates. Multiple parameter updates (e.g. speed of both motors) require suspending interrupts.\n",
    "\n",
    "The format of all serial communication is binary. Commands from the host start with a single byte defining the command, optionally followed by parameters. Likewise the first byte of all messages to the host indicates its type."
   ]
  },
  {
   "cell_type": "code",
   "execution_count": 1,
   "id": "763ef0b1-8569-4dbf-888e-5ad6e800cef8",
   "metadata": {},
   "outputs": [
    {
     "name": "stdout",
     "output_type": "stream",
     "text": [
      "read 0\n",
      "read 1\n",
      "read 2\n"
     ]
    }
   ],
   "source": [
    "import stm32\n",
    "from serial import Serial\n",
    "\n",
    "# fix wiring bug (feel free to delete the next two lines)\n",
    "from gpiozero import Button as Pin\n",
    "Pin(14, pull_up=False)\n",
    "\n",
    "stm32.exec_no_follow(\"\"\"\n",
    "from pyb import UART\n",
    "uart = UART(3, 9600, timeout=500)\n",
    "\n",
    "while True:\n",
    "    t = uart.readchar()\n",
    "    if t < 0: continue\n",
    "    print(f\"cmd_handler t = {t}\")\n",
    "    uart.writechar(t)\n",
    "\"\"\")\n",
    "\n",
    "# fix wiring issue on my board (feel free to delete)\n",
    "from gpiozero import Button as Pin\n",
    "Pin(14, pull_up=False)\n",
    "\n",
    "uart = Serial(port='/dev/ttyAMA2', baudrate=9600, \n",
    "              timeout=2, write_timeout=1, exclusive=False)\n",
    "\n",
    "for i in range(3):\n",
    "    uart.write(bytes([i]))\n",
    "    print(\"read\", uart.read(1)[0])"
   ]
  },
  {
   "cell_type": "markdown",
   "id": "4ea6e7cd-f269-43f2-8df6-71276b3cdeb0",
   "metadata": {},
   "source": [
    "Works as expected, except that the output from the print statement is ignored.\n",
    "\n",
    "To fix this, we need to simultaneously monitor the stm32 repl output and run the app, presently sending and reading bytes on `/dev/ttyAMA2`. Let's use `asyncio` to achieve light-weight concurrency."
   ]
  },
  {
   "cell_type": "code",
   "execution_count": 2,
   "id": "71c962eb-21cb-4570-8d0b-511054d0cf8f",
   "metadata": {},
   "outputs": [
    {
     "name": "stdout",
     "output_type": "stream",
     "text": [
      "read 0\n",
      "read 1\n",
      "read 2\n",
      "MCU: cmd_handler t = 0\n",
      "     cmd_handler t = 1\n",
      "     cmd_handler t = 2\n",
      "     \n"
     ]
    }
   ],
   "source": [
    "from serial import Serial\n",
    "import asyncio\n",
    "import stm32\n",
    "\n",
    "# run asyncio from jupyter\n",
    "import nest_asyncio\n",
    "nest_asyncio.apply()\n",
    "\n",
    "# fix wiring issue\n",
    "from gpiozero import Button as Pin\n",
    "Pin(14, pull_up=False)\n",
    "\n",
    "stm32_code = \"\"\"\n",
    "from pyb import UART\n",
    "uart = UART(3, 1_000_000, timeout=500)\n",
    "\n",
    "while True:\n",
    "    t = uart.readchar()\n",
    "    if t < 0: continue\n",
    "    print(f\"cmd_handler t = {t}\")\n",
    "    uart.writechar(t)\n",
    "\"\"\"\n",
    "\n",
    "async def repl(cmd, dev='/dev/ttyAMA1'):\n",
    "    \"\"\"Send cmd to MCU, then listen & print output.\"\"\"\n",
    "    stm32.exec_no_follow(cmd)\n",
    "    with Serial(dev, 115200, timeout=0.5, write_timeout=2, exclusive=False) as serial:\n",
    "        while True:\n",
    "            if serial.in_waiting:\n",
    "                data = serial.read(serial.in_waiting)\n",
    "                try:\n",
    "                    data = data.decode()\n",
    "                    data = data.replace('\\n', '\\n     ')\n",
    "                except:\n",
    "                    pass\n",
    "                print(f\"MCU: {data}\")\n",
    "                await asyncio.sleep(0)\n",
    "            else:\n",
    "                await asyncio.sleep(0.5)\n",
    "\n",
    "async def main():\n",
    "    uart = Serial(port='/dev/ttyAMA2', baudrate=1_000_000, \n",
    "              timeout=2, write_timeout=1, exclusive=False)\n",
    "    asyncio.create_task(repl(stm32_code))\n",
    "    await asyncio.sleep(1)\n",
    "    for i in range(3):\n",
    "        uart.write(bytes([i]))\n",
    "        print(\"read\", uart.read(1)[0])\n",
    "        # cooperative multitasking: give rt a chance to run\n",
    "        await asyncio.sleep(0.1)\n",
    "\n",
    "asyncio.run(main())"
   ]
  },
  {
   "cell_type": "markdown",
   "id": "a5dd7a86-6719-4fc2-bc57-221f322f33c1",
   "metadata": {},
   "source": [
    "Let's setup the code for sharing state and configuration parameters between the Raspberry PI and the STM32:"
   ]
  },
  {
   "cell_type": "code",
   "execution_count": 2,
   "id": "6e61b52e-d212-4763-8461-587ea2c1a02a",
   "metadata": {},
   "outputs": [
    {
     "name": "stdout",
     "output_type": "stream",
     "text": [
      "ping -> 0\n",
      "set[2] = 3.1415\n",
      "get[2] -> 3.1414995193481445\n",
      "MCU: unknown command 44\n",
      "\n"
     ]
    }
   ],
   "source": [
    "from serial import Serial\n",
    "from struct import pack, unpack\n",
    "import asyncio\n",
    "import stm32\n",
    "\n",
    "# run asyncio from jupyter\n",
    "import nest_asyncio\n",
    "nest_asyncio.apply()\n",
    "\n",
    "# fix wiring issue\n",
    "from gpiozero import Button as Pin\n",
    "Pin(14, pull_up=False)\n",
    "\n",
    "stm32_code = \"\"\"\n",
    "from array import array\n",
    "from pyb import UART\n",
    "from struct import pack\n",
    "\n",
    "PARAM = array('f', [0, 1, 2])\n",
    "\n",
    "CMD_PING = 0\n",
    "CMD_GET  = 1\n",
    "CMD_SET  = 2\n",
    "\n",
    "uart = UART(3, 1_000_000, timeout=500)\n",
    "\n",
    "smv = memoryview(PARAM)\n",
    "while True:\n",
    "    t = uart.readchar()\n",
    "    if t < 0: continue\n",
    "    if t == CMD_PING:\n",
    "        uart.writechar(CMD_PING)\n",
    "    elif t == CMD_GET:\n",
    "        index = uart.readchar()\n",
    "        uart.writechar(CMD_GET)\n",
    "        uart.write(pack('f', PARAM[index]))\n",
    "    elif t == CMD_SET:\n",
    "        index = uart.readchar()\n",
    "        uart.readinto(smv[index:index+1])\n",
    "    else:\n",
    "        print(f\"unknown command {t}\")\n",
    "\"\"\"\n",
    "\n",
    "CMD_PING = 0\n",
    "CMD_GET  = 1\n",
    "CMD_SET  = 2\n",
    "\n",
    "async def repl(cmd, dev='/dev/ttyAMA1'):\n",
    "    \"\"\"Send cmd to MCU, then listen & print output.\"\"\"\n",
    "    stm32.exec_no_follow(cmd)\n",
    "    with Serial(dev, 115200, timeout=0.5, write_timeout=2, exclusive=False) as serial:\n",
    "        while True:\n",
    "            if serial.in_waiting:\n",
    "                data = serial.read(serial.in_waiting)\n",
    "                try:\n",
    "                    data = data.decode()\n",
    "                    data.replace('\\n', '\\n___: ')\n",
    "                except:\n",
    "                    pass\n",
    "                print(f\"MCU: {data}\")\n",
    "                await asyncio.sleep(0)\n",
    "            else:\n",
    "                await asyncio.sleep(0.5)\n",
    "\n",
    "\n",
    "async def main():\n",
    "    asyncio.create_task(repl(stm32_code))\n",
    "    await asyncio.sleep(1)\n",
    "    uart = Serial(port='/dev/ttyAMA2', baudrate=1_000_000, \n",
    "              timeout=2, write_timeout=1, exclusive=False)\n",
    "    # ping\n",
    "    uart.write(bytes([CMD_PING]))\n",
    "    print(\"ping ->\", uart.read(1)[0])\n",
    "    await asyncio.sleep(0.1)\n",
    "    # set PARAM[2] = 3.1415\n",
    "    print(\"set[2] = 3.1415\")\n",
    "    uart.write(bytes([CMD_SET, 2]))\n",
    "    uart.write(pack('f', 3.1415))\n",
    "    # get PARAM[2]\n",
    "    uart.write(bytes([CMD_GET, 2]))\n",
    "    assert uart.read(1)[0] == CMD_GET\n",
    "    print(\"get[2] ->\", unpack('f', uart.read(4))[0])\n",
    "    # unknown command\n",
    "    uart.write(bytes([44]))\n",
    "    \n",
    "stm32.hard_reset()\n",
    "asyncio.run(main())"
   ]
  },
  {
   "cell_type": "markdown",
   "id": "5b82b88d-941a-4fcd-8394-a3ba9cf3799a",
   "metadata": {},
   "source": [
    "The completed code is in `$IOT_PROJECTS/robot/code`."
   ]
  },
  {
   "cell_type": "code",
   "execution_count": 4,
   "id": "f5edc2be-c23b-4b6c-b87b-da8ae4a3940a",
   "metadata": {},
   "outputs": [
    {
     "name": "stdout",
     "output_type": "stream",
     "text": [
      "MCU: start Comm @ 1000000 baud\n",
      "     \n",
      "fs  = 2.0\n",
      "pwm = 10000.0\n",
      "duty1 = 0.0\n",
      "CMD_STATE = 1 -87 -1 0 0 0 706 0 pitch=-87.99\n",
      "CMD_STATE = 2 -87 0 0 0 0 700 1084 pitch=-87.99\n",
      "duty1 = 10.0\n",
      "CMD_STATE = 3 -87 0 0 10 0 2765 1076 pitch=-87.99\n",
      "CMD_STATE = 4 -87 0 0 10 0 1617 3141 pitch=-87.99\n",
      "duty1 = 20.0\n",
      "CMD_STATE = 5 -87 1 0 20 0 704 1993 pitch=-87.99\n",
      "CMD_STATE = 6 -87 0 0 20 0 700 1080 pitch=-87.99\n",
      "duty1 = 30.0\n",
      "CMD_STATE = 7 -87 276 0 30 0 2507 1076 pitch=-87.99\n",
      "CMD_STATE = 8 -87 311 0 30 0 2757 2883 pitch=-87.99\n",
      "duty1 = 40.0\n",
      "CMD_STATE = 9 -87 578 0 40 0 2540 3133 pitch=-87.99\n",
      "CMD_STATE = 10 -87 608 0 40 0 2176 2916 pitch=-87.99\n",
      "duty1 = 50.0\n",
      "CMD_STATE = 11 -87 872 0 50 0 986 2552 pitch=-87.99\n",
      "CMD_STATE = 12 -87 902 0 50 0 702 1362 pitch=-87.99\n",
      "duty1 = 60.0\n",
      "CMD_STATE = 13 -87 1128 0 60 0 704 1078 pitch=-87.85\n",
      "CMD_STATE = 14 -87 1163 0 60 0 2529 1080 pitch=-87.85\n",
      "duty1 = 70.0\n",
      "CMD_STATE = 15 -87 1424 0 70 0 2532 2905 pitch=-87.85\n",
      "CMD_STATE = 16 -87 1451 0 70 0 2758 2908 pitch=-87.85\n",
      "duty1 = 80.0\n",
      "CMD_STATE = 17 -87 1711 0 80 0 2011 3135 pitch=-87.85\n",
      "CMD_STATE = 18 -87 1747 0 80 0 831 2387 pitch=-87.98\n",
      "duty1 = 90.0\n",
      "CMD_STATE = 19 -87 2003 0 90 0 707 1207 pitch=-87.83\n",
      "CMD_STATE = 20 -87 2042 0 90 0 705 1083 pitch=-87.83\n",
      "duty1 = 100.0\n",
      "CMD_STATE = 21 -87 2279 0 100 0 2511 1081 pitch=-87.83\n",
      "CMD_STATE = 22 -87 2320 0 100 0 2532 2887 pitch=-87.83\n"
     ]
    }
   ],
   "source": [
    "!python $IOT_PROJECTS/robot/code/rpi/duty_control.py"
   ]
  },
  {
   "cell_type": "code",
   "execution_count": 13,
   "id": "bf7e98a7-2901-4255-93c2-796e1cc98e71",
   "metadata": {},
   "outputs": [
    {
     "name": "stdout",
     "output_type": "stream",
     "text": [
      "MCU: start Comm @ 1000000 baud\n",
      "     \n",
      "get(PARAM_FS) =          5\n",
      "get(PARAM_FS) =          7\n",
      "CMD_STATE = 1 0 0 0 0 0 697 0 pitch=0.00\n",
      "CMD_STATE = 2 0 0 0 0 0 693 1075 pitch=0.00\n",
      "CMD_STATE = 3 0 0 0 0 0 692 1069 pitch=0.00\n",
      "CMD_STATE = 4 0 0 0 0 0 2500 1068 pitch=0.00\n",
      "CMD_STATE = 5 0 0 0 0 0 2505 2876 pitch=-0.24\n",
      "CMD_STATE = 6 0 0 0 0 0 697 2881 pitch=-0.20\n",
      "CMD_STATE = 7 0 0 0 0 0 696 1073 pitch=-0.32\n",
      "CMD_STATE = 8 0 0 0 0 0 2505 1071 pitch=-0.41\n",
      "CMD_STATE = 9 0 0 0 0 0 697 2880 pitch=-0.46\n",
      "done!\n"
     ]
    }
   ],
   "source": [
    "!python $IOT_PROJECTS/robot/code/rpi/run.py"
   ]
  },
  {
   "cell_type": "code",
   "execution_count": null,
   "id": "792905ca-198f-4408-bf5c-4c63ecc79c4e",
   "metadata": {},
   "outputs": [],
   "source": []
  }
 ],
 "metadata": {
  "kernelspec": {
   "display_name": "Python 3 (ipykernel)",
   "language": "python",
   "name": "python3"
  },
  "language_info": {
   "codemirror_mode": {
    "name": "ipython",
    "version": 3
   },
   "file_extension": ".py",
   "mimetype": "text/x-python",
   "name": "python",
   "nbconvert_exporter": "python",
   "pygments_lexer": "ipython3",
   "version": "3.9.7"
  }
 },
 "nbformat": 4,
 "nbformat_minor": 5
}
