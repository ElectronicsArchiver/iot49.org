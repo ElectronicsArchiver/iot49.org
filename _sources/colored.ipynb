{
 "cells": [
  {
   "cell_type": "code",
   "execution_count": 2,
   "id": "46a68ebd-51ba-4a4a-ba87-26d0008a0090",
   "metadata": {},
   "outputs": [
    {
     "data": {
      "text/plain": [
       "'\\x1b[32mDirectories match\\n\\x1b[0m'"
      ]
     },
     "execution_count": 2,
     "metadata": {},
     "output_type": "execute_result"
    }
   ],
   "source": [
    "%%host\n",
    "\n",
    "from termcolor import colored\n",
    "\n",
    "colored('Directories match\\n', 'green')"
   ]
  },
  {
   "cell_type": "code",
   "execution_count": 1,
   "id": "d7671643-96b1-4e11-9e88-babfff0fe3b9",
   "metadata": {},
   "outputs": [
    {
     "name": "stdout",
     "output_type": "stream",
     "text": [
      "\u001b[46m\u001b[30mConnected to balance @ serial:///dev/ttyUSB1\u001b[0m\n"
     ]
    }
   ],
   "source": [
    "%connect balance"
   ]
  },
  {
   "cell_type": "code",
   "execution_count": 1,
   "id": "e370006b-03b6-4260-80dc-fb196985befa",
   "metadata": {},
   "outputs": [
    {
     "name": "stdout",
     "output_type": "stream",
     "text": [
      "\u001b[32mDirectories match\n",
      "\u001b[0m\u001b[0m"
     ]
    }
   ],
   "source": [
    "%rsync"
   ]
  },
  {
   "cell_type": "code",
   "execution_count": null,
   "id": "8980a5ec-06f8-459b-a5db-731dff4e47f5",
   "metadata": {},
   "outputs": [],
   "source": []
  }
 ],
 "metadata": {
  "kernelspec": {
   "display_name": "IoT",
   "language": "python",
   "name": "iot_kernel"
  },
  "language_info": {
   "codemirror_mode": {
    "name": "python",
    "version": 3
   },
   "file_extension": ".py",
   "mimetype": "text/x-python",
   "name": "python",
   "pygments_lexer": "python3",
   "version": "3"
  }
 },
 "nbformat": 4,
 "nbformat_minor": 5
}
