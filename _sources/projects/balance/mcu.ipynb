{
 "cells": [
  {
   "cell_type": "markdown",
   "id": "eb51b125-33b7-4a59-9af5-1a16c2928ddf",
   "metadata": {},
   "source": [
    "# Microcontroller"
   ]
  },
  {
   "cell_type": "code",
   "execution_count": null,
   "id": "ac0e1e87-3d76-4540-9733-1357842f4323",
   "metadata": {},
   "outputs": [],
   "source": []
  },
  {
   "cell_type": "markdown",
   "id": "1bb31ad4-75d2-4d55-8217-424fb3942be6",
   "metadata": {},
   "source": [
    "![](figures/huzzah32-pinout.png)"
   ]
  },
  {
   "cell_type": "code",
   "execution_count": null,
   "id": "092a47ac-8f82-4048-a3ab-af2065ecd18f",
   "metadata": {},
   "outputs": [],
   "source": []
  }
 ],
 "metadata": {
  "kernelspec": {
   "display_name": "IoT",
   "language": "python",
   "name": "iot_kernel"
  },
  "language_info": {
   "codemirror_mode": {
    "name": "python",
    "version": 3
   },
   "file_extension": ".py",
   "mimetype": "text/x-python",
   "name": "python",
   "pygments_lexer": "python3",
   "version": "3"
  }
 },
 "nbformat": 4,
 "nbformat_minor": 5
}
