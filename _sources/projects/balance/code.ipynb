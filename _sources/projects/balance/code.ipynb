{
 "cells": [
  {
   "cell_type": "markdown",
   "id": "39dfb33d-26b3-4fe3-bc13-5c3ddc857cd6",
   "metadata": {},
   "source": [
    "# MicroPython Code\n",
    "\n",
    "ADCs map analog input voltage to a digital code. The figure below shows the relationship for several gain settings. Since our signal is centered around $V_\\textrm{ref}\\approx 1.65V$ we use the 11dB attenuation setting. \n",
    "\n",
    "![](figures/esp32_adc_vin.png)\n",
    "\n",
    "Below is the code to setup and read the ADC, adapted from the example in the [MicroPython documentation](https://docs.micropython.org/en/latest/esp32/quickref.html#adc-analog-to-digital-conversion).\n"
   ]
  },
  {
   "cell_type": "code",
   "execution_count": 1,
   "id": "ffc03e00-89ec-4374-8e4c-11e10ace205f",
   "metadata": {},
   "outputs": [
    {
     "name": "stdout",
     "output_type": "stream",
     "text": [
      "\u001b[0m\u001b[0mhuzzah32  serial:///dev/ttyUSB0  \u001b[0m\n",
      "\u001b[0m\u001b[46m\u001b[30mConnected to huzzah32 @ serial:///dev/ttyUSB0\u001b[0m\n",
      "out = 1789  ref = 1729   delta =   60\n",
      "\u001b[0mout = 1776  ref = 1719   delta =   57\n",
      "\u001b[0mout = 1776  ref = 1717   delta =   59\n",
      "\u001b[0mout = 1776  ref = 1724   delta =   52\n",
      "\u001b[0mout = 1781  ref = 1709   delta =   72\n",
      "\u001b[0mout = 1776  ref = 1713   delta =   63\n",
      "\u001b[0mout = 1783  ref = 1727   delta =   56\n",
      "\u001b[0mout = 1778  ref = 1723   delta =   55\n",
      "\u001b[0mout = 1808  ref = 1721   delta =   87\n",
      "\u001b[0mout = 1781  ref = 1715   delta =   66\n",
      "\u001b[0m"
     ]
    }
   ],
   "source": [
    "%discover\n",
    "%connect huzzah32\n",
    "\n",
    "from machine import ADC, Pin\n",
    "import time\n",
    "\n",
    "# configure ADC3 (output of the INA126)\n",
    "out = ADC(Pin(39))\n",
    "out.atten(ADC.ATTN_11DB)\n",
    "\n",
    "# configure ADC6 (Vref)\n",
    "ref = ADC(Pin(34))\n",
    "ref.atten(ADC.ATTN_11DB)\n",
    "\n",
    "# read the ADCs in a loop and display the result\n",
    "# _ just means that we don't care for the loop counter\n",
    "for _ in range(10):\n",
    "    vout = out.read()\n",
    "    vref = ref.read()\n",
    "    print(\"out = {:4}  ref = {:4}   delta = {:4}\".format(vout, vref, vout-vref))\n",
    "    time.sleep(1)"
   ]
  },
  {
   "cell_type": "markdown",
   "id": "17ca50e9-9606-4e75-8020-8a02ccdd851d",
   "metadata": {},
   "source": [
    "Playing around with the scale, you can see that the output (`delta`) changes when you put a weight (e.g. your finger) on the scale. But even with no weight applied, the `delta` is not zero. This error is called \"offset\" and comes from inacurracies in the load cell, the INA216, and the ADC.\n",
    "\n",
    "Further, values reported by the ADC change even for constant weight. This \"noise\" is the result of electrical interference and the ADC.\n",
    "\n",
    "Let's try averaging a few samples to see if we can reduce the noise:"
   ]
  },
  {
   "cell_type": "code",
   "execution_count": 1,
   "id": "43f05115-3194-4b41-80e7-9fc0ad1f68ec",
   "metadata": {},
   "outputs": [
    {
     "name": "stdout",
     "output_type": "stream",
     "text": [
      "\u001b[0mN =   1  out = 1807  ref = 1725   delta =   82\n",
      "\u001b[0mN =   1  out = 1782  ref = 1722   delta =   60\n",
      "\u001b[0mN =   1  out = 1792  ref = 1725   delta =   67\n",
      "\u001b[0mN =   1  out = 1776  ref = 1728   delta =   48\n",
      "\u001b[0mN =   1  out = 1776  ref = 1731   delta =   45\n",
      "\u001b[0m\n",
      "\u001b[0mN =  10  out = 1779  ref = 1719   delta =   60\n",
      "\u001b[0mN =  10  out = 1781  ref = 1724   delta =   57\n",
      "\u001b[0mN =  10  out = 1780  ref = 1727   delta =   53\n",
      "\u001b[0mN =  10  out = 1778  ref = 1723   delta =   55\n",
      "\u001b[0mN =  10  out = 1778  ref = 1728   delta =   51\n",
      "\u001b[0m\n",
      "\u001b[0mN = 100  out = 1780  ref = 1724   delta =   56\n",
      "\u001b[0mN = 100  out = 1780  ref = 1723   delta =   57\n",
      "\u001b[0mN = 100  out = 1779  ref = 1725   delta =   54\n",
      "\u001b[0mN = 100  out = 1778  ref = 1723   delta =   54\n",
      "\u001b[0mN = 100  out = 1778  ref = 1722   delta =   55\n",
      "\u001b[0m\n",
      "\u001b[0m"
     ]
    }
   ],
   "source": [
    "for N in [1, 10, 100]:\n",
    "    for _ in range(5):\n",
    "        vout = 0\n",
    "        vref = 0\n",
    "        for _ in range(N):\n",
    "            vout += out.read()\n",
    "            vref += ref.read()\n",
    "        vout /= N\n",
    "        vref /= N\n",
    "        print(\"N = {:3}  out = {:4.0f}  ref = {:4.0f}   delta = {:4.0f}\".format(\n",
    "            N, vout, vref, vout-vref))\n",
    "        time.sleep(1)\n",
    "    print()"
   ]
  },
  {
   "cell_type": "markdown",
   "id": "69315139-a3e8-4bb9-befd-14887f1f93ac",
   "metadata": {},
   "source": [
    "In these tests I did not apply any force to the scale. \n",
    "\n",
    "Averaging definitely helps. In my trials it reduced the noise (variations of `delta`) from almost 40 without averaging (N=1) to less than 5 (N=100), an almost ten-fold improvement!\n",
    "\n",
    "Let's update the code again, this time first measuring the offset and then subtracting it from subsequent measurements. We also create a function for reading the ADC and averaging its outputs. In `read_adc` we average the difference, a small optimization to keep the sum smaller, even for large N. "
   ]
  },
  {
   "cell_type": "code",
   "execution_count": 1,
   "id": "0d81d705-77de-421c-8e70-fe511d36435f",
   "metadata": {},
   "outputs": [
    {
     "name": "stdout",
     "output_type": "stream",
     "text": [
      "\u001b[0mweight =    0\n",
      "\u001b[0mweight =   -0\n",
      "\u001b[0mweight =    2\n",
      "\u001b[0mweight =  267\n",
      "\u001b[0mweight =  361\n",
      "\u001b[0mweight =   -0\n",
      "\u001b[0mweight =    0\n",
      "\u001b[0mweight =    3\n",
      "\u001b[0mweight = -435\n",
      "\u001b[0mweight = -308\n",
      "\u001b[0mweight =    0\n",
      "\u001b[0mweight =   -2\n",
      "\u001b[0mweight =    2\n",
      "\u001b[0mweight =    2\n",
      "\u001b[0mweight =   -0\n",
      "\u001b[0mweight =   -0\n",
      "\u001b[0mweight =    0\n",
      "\u001b[0mweight =    1\n",
      "\u001b[0mweight =    0\n",
      "\u001b[0mweight =   -1\n",
      "\u001b[0m"
     ]
    }
   ],
   "source": [
    "def read_adc(out, ref, N=100):\n",
    "    sum = 0\n",
    "    for _ in range(N):\n",
    "        sum += out.read() - ref.read()\n",
    "    return sum/N\n",
    "\n",
    "# measure the offset\n",
    "offset = read_adc(out, ref)\n",
    "\n",
    "# weigh ...\n",
    "for _ in range(20):\n",
    "    weight = read_adc(out, ref) - offset\n",
    "    print(\"weight = {:4.0f}\".format(weight))\n",
    "    time.sleep(1)"
   ]
  },
  {
   "cell_type": "markdown",
   "id": "6bd8ea03-3f6a-4040-a6a7-8331184d5458",
   "metadata": {},
   "source": [
    "Not perfect but quite usable.\n",
    "\n",
    "Let's now calibrate the scale so it's output is in grams. For this we need a reference with known weight. If you do not have calibrated weights just get something with a weight close to the full scale of your load cell, get another scale to determine its weight, and then put it on your scale."
   ]
  },
  {
   "cell_type": "code",
   "execution_count": 1,
   "id": "5a332f51-7264-40c4-8d34-93a271f2abdd",
   "metadata": {},
   "outputs": [
    {
     "name": "stdout",
     "output_type": "stream",
     "text": [
      "\u001b[0mweight =    0\n",
      "\u001b[0mweight =    1\n",
      "\u001b[0mweight =  854\n",
      "\u001b[0mweight =  841\n",
      "\u001b[0mweight =  839\n",
      "\u001b[0m"
     ]
    }
   ],
   "source": [
    "offset = read_adc(out, ref)\n",
    "\n",
    "for _ in range(5):\n",
    "    print(\"weight = {:4.0f}\".format(read_adc(out, ref) - offset))\n",
    "    time.sleep(2)"
   ]
  },
  {
   "cell_type": "markdown",
   "id": "f4867094-3b96-4f84-aa5c-8b644bfa8fb8",
   "metadata": {},
   "source": [
    "My reference weighs 500grams. The output of the scale is about 842 (averaged), so let's redo the test with the output scaled by 500/842."
   ]
  },
  {
   "cell_type": "code",
   "execution_count": 1,
   "id": "bc755d46-da69-43ca-975c-d84ad292c625",
   "metadata": {},
   "outputs": [
    {
     "name": "stdout",
     "output_type": "stream",
     "text": [
      "\u001b[0mweight =    0 grams\n",
      "\u001b[0mweight =    6 grams\n",
      "\u001b[0mweight = -499 grams\n",
      "\u001b[0mweight = -497 grams\n",
      "\u001b[0mweight = -498 grams\n",
      "\u001b[0m"
     ]
    }
   ],
   "source": [
    "offset = read_adc(out, ref)\n",
    "\n",
    "for _ in range(5):\n",
    "    weight = read_adc(out, ref) - offset\n",
    "    weight_scaled = weight * 500 / 843\n",
    "    print(\"weight = {:4.0f} grams\".format(weight_scaled))\n",
    "    time.sleep(2)"
   ]
  },
  {
   "cell_type": "markdown",
   "id": "d28c58f4-e476-458b-b81a-049be451679d",
   "metadata": {},
   "source": [
    "Ups, I forgot to remove the weight before I started the test. Now it comes out negative: I removed 500grams.\n",
    "\n",
    "Actually that's quite useful, we can use this feature to implement a \"tare\" function: a button that, when pressed, zeroes the output. Very useful when you bake a cake to \"null\" the weight of the container you put the contents in."
   ]
  },
  {
   "cell_type": "code",
   "execution_count": null,
   "id": "56ae4f37-b23a-46e1-bf5b-81eecd147359",
   "metadata": {},
   "outputs": [],
   "source": []
  }
 ],
 "metadata": {
  "kernelspec": {
   "display_name": "IoT",
   "language": "python",
   "name": "iot_kernel"
  },
  "language_info": {
   "codemirror_mode": {
    "name": "python",
    "version": 3
   },
   "file_extension": ".py",
   "mimetype": "text/x-python",
   "name": "python",
   "pygments_lexer": "python3",
   "version": "3"
  }
 },
 "nbformat": 4,
 "nbformat_minor": 5
}
