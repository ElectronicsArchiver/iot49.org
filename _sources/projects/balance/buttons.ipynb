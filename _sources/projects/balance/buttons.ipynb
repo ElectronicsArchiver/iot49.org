{
 "cells": [
  {
   "cell_type": "markdown",
   "id": "9f90efb5-92d8-4d7d-bcef-6b3c2e389946",
   "metadata": {},
   "source": [
    "# Buttons\n",
    "\n",
    "To implement a \"tare\" function we need to add a button to our scale. Reading buttons is quite easy, just connect one terminal of the button to ground and the other to an input of the microcontroller.\n",
    "\n",
    "Whenever you press the button, the microcontroller input is zero. But what happens when you let the button go? The input is disconnected and it's value is undefined!\n",
    "\n",
    "That's easily fixed by adding a resistor between the microcontroller input and the supply, 3.3V. Now the input is at 3.3V, pulled up by the resistor. Pressing the button will pull it down to 0V. Since the current flowing into the input is very small, you can use a large resistor (e.g. 100kOhm) to minimize power dissipation. \n",
    "\n",
    "The need for such \"pull-up resistors\" arises frequently. Because of this, many microcontrollers have such resistors built-in that can be enabled with software.\n",
    "\n",
    "The code below assumes a button connected to `IO14`. The code for configuring the button with the pull-up enabled is below:"
   ]
  },
  {
   "cell_type": "code",
   "execution_count": 1,
   "id": "a50e931b-fc02-4066-9122-536c2564a5ea",
   "metadata": {},
   "outputs": [
    {
     "name": "stdout",
     "output_type": "stream",
     "text": [
      "\u001b[0m\u001b[0m\u001b[46m\u001b[30mConnected to huzzah32 @ serial:///dev/ttyUSB0\u001b[0m\n",
      "pressed\n",
      "\u001b[0mreleased\n",
      "\u001b[0mpressed\n",
      "\u001b[0mreleased\n",
      "\u001b[0mpressed\n",
      "\u001b[0mreleased\n",
      "\u001b[0mpressed\n",
      "\u001b[0m"
     ]
    }
   ],
   "source": [
    "%connect huzzah32\n",
    "\n",
    "from machine import Pin\n",
    "import time\n",
    "\n",
    "button = Pin(14, mode=Pin.IN, pull=Pin.PULL_UP)\n",
    "\n",
    "start = time.ticks_ms()\n",
    "last_state = button.value()\n",
    "\n",
    "while time.ticks_diff(time.ticks_ms(), start) < 10000:\n",
    "    state = button.value()\n",
    "    if state != last_state:\n",
    "        if state == 0:\n",
    "            print(\"pressed\")\n",
    "        else:\n",
    "            print(\"released\")\n",
    "        last_state = state"
   ]
  },
  {
   "cell_type": "markdown",
   "id": "c250ebc1-0077-42ac-aef7-4a3bcdc29b5f",
   "metadata": {},
   "source": [
    "`ticks_diff` is used to measure a ten second interval. The details are [here](ticks.ipynb)."
   ]
  }
 ],
 "metadata": {
  "kernelspec": {
   "display_name": "IoT",
   "language": "python",
   "name": "iot_kernel"
  },
  "language_info": {
   "codemirror_mode": {
    "name": "python",
    "version": 3
   },
   "file_extension": ".py",
   "mimetype": "text/x-python",
   "name": "python",
   "pygments_lexer": "python3",
   "version": "3"
  }
 },
 "nbformat": 4,
 "nbformat_minor": 5
}
