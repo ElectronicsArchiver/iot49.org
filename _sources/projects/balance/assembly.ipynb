{
 "cells": [
  {
   "cell_type": "markdown",
   "id": "7b487aff-cc62-4e5a-8da7-03483d7eef52",
   "metadata": {},
   "source": [
    "# Assembly\n",
    "\n",
    "The picture below shows the assembled scale with an optional [display](https://www.adafruit.com/product/2900) mounted on top of the Huzzah32. \n",
    "\n",
    "![](figures/scale.jpg)\n",
    "\n",
    "I used laser cut acrylic for the load cell. \n",
    "\n",
    "![](figures/acrylic.svg)\n",
    "\n",
    "The load cell is \"sandwiched\" between the base and the tray, with a spacer on either side to permit it to allow it to move. \n",
    "\n",
    "![](figures/scale_side.jpg)\n",
    "\n",
    "\n"
   ]
  },
  {
   "cell_type": "code",
   "execution_count": null,
   "id": "fbf86379-1651-4ba9-aa21-e9696aaadf5c",
   "metadata": {},
   "outputs": [],
   "source": []
  }
 ],
 "metadata": {
  "kernelspec": {
   "display_name": "IoT",
   "language": "python",
   "name": "iot_kernel"
  },
  "language_info": {
   "codemirror_mode": {
    "name": "python",
    "version": 3
   },
   "file_extension": ".py",
   "mimetype": "text/x-python",
   "name": "python",
   "pygments_lexer": "python3",
   "version": "3"
  }
 },
 "nbformat": 4,
 "nbformat_minor": 5
}
