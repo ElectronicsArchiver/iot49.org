{
 "cells": [
  {
   "cell_type": "markdown",
   "id": "dc85d920-5588-4489-a47d-b3d4b3e88677",
   "metadata": {},
   "source": [
    "# Precision Scale"
   ]
  },
  {
   "cell_type": "code",
   "execution_count": null,
   "id": "a95fc8f6-96db-4fb8-bae4-61ca7da99961",
   "metadata": {},
   "outputs": [],
   "source": []
  }
 ],
 "metadata": {
  "kernelspec": {
   "display_name": "IoT",
   "language": "python",
   "name": "iot_kernel"
  },
  "language_info": {
   "codemirror_mode": {
    "name": "python",
    "version": 3
   },
   "file_extension": ".py",
   "mimetype": "text/x-python",
   "name": "python",
   "pygments_lexer": "python3",
   "version": "3"
  }
 },
 "nbformat": 4,
 "nbformat_minor": 5
}
