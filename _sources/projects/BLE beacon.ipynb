{
 "cells": [
  {
   "cell_type": "markdown",
   "id": "25c964e6-f573-4d23-861e-9d3b59ef45ef",
   "metadata": {},
   "source": [
    "# BLE Beacon Scanner\n",
    "\n"
   ]
  },
  {
   "cell_type": "markdown",
   "id": "de80ac4f-2a33-41cd-9662-9574be956914",
   "metadata": {},
   "source": [
    "esp32 and host (Pi)"
   ]
  },
  {
   "cell_type": "code",
   "execution_count": null,
   "id": "2c3edf9f-864f-4816-acd3-9ddd50555719",
   "metadata": {},
   "outputs": [],
   "source": []
  }
 ],
 "metadata": {
  "kernelspec": {
   "display_name": "IoT",
   "language": "python",
   "name": "iot_kernel"
  },
  "language_info": {
   "codemirror_mode": {
    "name": "python",
    "version": 3
   },
   "file_extension": ".py",
   "mimetype": "text/x-python",
   "name": "python",
   "pygments_lexer": "python3",
   "version": "3"
  }
 },
 "nbformat": 4,
 "nbformat_minor": 5
}
