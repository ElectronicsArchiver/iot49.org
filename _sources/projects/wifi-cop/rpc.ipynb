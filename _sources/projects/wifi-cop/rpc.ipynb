{
 "cells": [
  {
   "cell_type": "markdown",
   "id": "3ea41e70-e452-4ad3-b58f-d74fd1628cfa",
   "metadata": {},
   "source": [
    "# RPC\n",
    "\n",
    "Python is ideally suited for encapsulating calls for remote execution. Let's cook up a simple class to check out how this could work. \n",
    "\n",
    "It's standard Python - you can run this on any (Micro)Python interpreter."
   ]
  },
  {
   "cell_type": "code",
   "execution_count": 1,
   "id": "82efd945-d646-4e07-a89a-6df6c6162aef",
   "metadata": {},
   "outputs": [
    {
     "name": "stdout",
     "output_type": "stream",
     "text": [
      "\u001b[46m\u001b[30mConnected to esp32 @ serial:///dev/ttyUSB0\u001b[0m\n"
     ]
    }
   ],
   "source": [
    "%connect esp32"
   ]
  },
  {
   "cell_type": "code",
   "execution_count": 1,
   "id": "355e0d8f-488b-449a-ac12-374d38215818",
   "metadata": {},
   "outputs": [
    {
     "name": "stdout",
     "output_type": "stream",
     "text": [
      "ADD  rpc test: 5 + 7 = 12\n",
      "NAME rpc test\n",
      "STR  Demo rpc test\n"
     ]
    }
   ],
   "source": [
    "class Demo:\n",
    "    \n",
    "    def __init__(self, name):\n",
    "        self._name = name\n",
    "        \n",
    "    def add(self, a, b):\n",
    "        return \"{}: {} + {} = {}\".format(self._name, a, b, a+b)\n",
    "    \n",
    "    @property\n",
    "    def name(self):\n",
    "        return self._name\n",
    "    \n",
    "    def __str__(self):\n",
    "        return \"Demo {}\".format(self._name)\n",
    "    \n",
    "d = Demo(\"rpc test\")\n",
    "print(\"ADD \", d.add(5, 7))\n",
    "print(\"NAME\", d.name)\n",
    "print(\"STR \", d)"
   ]
  },
  {
   "cell_type": "markdown",
   "id": "73672d6c-9175-4fa0-baff-f5af619a59cc",
   "metadata": {},
   "source": [
    "To perform these operations remotely, we need a handle to the remote *Demo* instance *d*. Let's create a *Proxy* for this purpose: the proxy exists on the client, the object (*d* in the example) on the server. \n",
    "\n",
    "For development we can run both parts in the same interpreter."
   ]
  },
  {
   "cell_type": "code",
   "execution_count": null,
   "id": "d0dc63e9-0144-4857-a373-30d9a9c5da7f",
   "metadata": {},
   "outputs": [],
   "source": []
  }
 ],
 "metadata": {
  "kernelspec": {
   "display_name": "IoT",
   "language": "python",
   "name": "iot_kernel"
  },
  "language_info": {
   "codemirror_mode": {
    "name": "python",
    "version": 3
   },
   "file_extension": ".py",
   "mimetype": "text/x-python",
   "name": "python",
   "pygments_lexer": "python3",
   "version": "3"
  }
 },
 "nbformat": 4,
 "nbformat_minor": 5
}
