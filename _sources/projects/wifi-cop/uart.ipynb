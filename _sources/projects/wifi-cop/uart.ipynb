{
 "cells": [
  {
   "cell_type": "markdown",
   "id": "23b18430-a3c4-49cc-a056-d7f75776e20e",
   "metadata": {},
   "source": [
    "# UART"
   ]
  },
  {
   "cell_type": "code",
   "execution_count": null,
   "id": "516f577c-77d1-46f9-9cd2-cc4c3df5f9be",
   "metadata": {},
   "outputs": [],
   "source": []
  }
 ],
 "metadata": {
  "kernelspec": {
   "display_name": "IoT",
   "language": "python",
   "name": "iot_kernel"
  },
  "language_info": {
   "codemirror_mode": {
    "name": "python",
    "version": 3
   },
   "file_extension": ".py",
   "mimetype": "text/x-python",
   "name": "python",
   "pygments_lexer": "python3",
   "version": "3"
  }
 },
 "nbformat": 4,
 "nbformat_minor": 5
}
