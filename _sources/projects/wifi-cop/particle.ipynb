{
 "cells": [
  {
   "cell_type": "markdown",
   "id": "b6a6b8ba-84bc-4040-a1b9-676a4b020700",
   "metadata": {},
   "source": [
    "# MicroPython on a Particle Argon\n",
    "\n",
    "* Upload esp32 'firmware.bin' to / on Argon\n",
    "    * e.g. on mac with copy; takes forever"
   ]
  },
  {
   "cell_type": "code",
   "execution_count": 2,
   "id": "5c777fe3-ae64-4f90-98b6-b4744364a3a3",
   "metadata": {},
   "outputs": [
    {
     "name": "stdout",
     "output_type": "stream",
     "text": [
      "\u001b[0m\u001b[0margon  serial:///dev/ttyACM0  \u001b[0m\n",
      "\u001b[0m\u001b[46m\u001b[30mConnected to argon @ serial:///dev/ttyACM0\u001b[0m\n",
      "\u001b[0m\u001b[32mADD     /boot.py\n",
      "\u001b[0m\u001b[0m"
     ]
    },
    {
     "name": "stderr",
     "output_type": "stream",
     "text": [
      "Traceback (most recent call last):\n",
      "  File \"<stdin>\", line 1, in <module>\n",
      "OSError: [Errno 30] Read-only filesystem\n",
      "\u001b[0m\n"
     ]
    }
   ],
   "source": [
    "%discover\n",
    "%connect argon\n",
    "%rsync -u"
   ]
  },
  {
   "cell_type": "code",
   "execution_count": 3,
   "id": "74fedc06-d77b-43cf-bc05-e4623c1f573c",
   "metadata": {},
   "outputs": [
    {
     "name": "stdout",
     "output_type": "stream",
     "text": [
      "\u001b[0m\u001b[0mStored 'md5sum' (str)\n"
     ]
    }
   ],
   "source": [
    "%%host\n",
    "\n",
    "import os\n",
    "\n",
    "build=os.path.expanduser(\"~/micropython/ports/esp32/build-GENERIC_OTA\")\n",
    "firmware = os.path.join(build, 'firmware.bin')\n",
    "\n",
    "import hashlib\n",
    "md5sum = hashlib.md5(open(firmware,'rb').read()).hexdigest()\n",
    "\n",
    "%store md5sum"
   ]
  },
  {
   "cell_type": "code",
   "execution_count": 3,
   "id": "bc5ce2c4-5ab9-4035-825d-6d91d52e3be2",
   "metadata": {},
   "outputs": [
    {
     "name": "stdout",
     "output_type": "stream",
     "text": [
      "\u001b[0m\u001b[0m\u001b[0m\n",
      "\u001b[46m\u001b[31m!!!!!!!!!!!!!!!!!!!!!!!!!!!!!!!\u001b[0m\n",
      "\u001b[46m\u001b[31m!!!!!   softreset ...     !!!!!\u001b[0m\n",
      "\u001b[46m\u001b[31m!!!!!!!!!!!!!!!!!!!!!!!!!!!!!!!\u001b[0m\n",
      "\u001b[0m\n",
      "\u001b[0mEnter flasher ...\n",
      "Resetting\n",
      "\u001b[0m"
     ]
    },
    {
     "name": "stderr",
     "output_type": "stream",
     "text": [
      "Traceback (most recent call last):\n",
      "  File \"<stdin>\", line 4, in <module>\n",
      "  File \"/lib/repl32/flasher.py\", line 33, in __enter__\n",
      "  File \"/lib/repl32/adafruit_miniesptool.py\", line 225, in chip_name\n",
      "  File \"/lib/repl32/adafruit_miniesptool.py\", line 212, in chip_type\n",
      "  File \"/lib/repl32/adafruit_miniesptool.py\", line 413, in read_register\n",
      "  File \"/lib/repl32/adafruit_miniesptool.py\", line 325, in check_command\n",
      "NameError: local variable referenced before assignment\n",
      "\u001b[0m\n"
     ]
    }
   ],
   "source": [
    "%softreset\n",
    "%store -r md5sum\n",
    "\n",
    "from repl32.flasher import Flasher\n",
    "\n",
    "print(\"Enter flasher ...\")\n",
    "with Flasher() as flasher:\n",
    "    print(\"erase ...\")\n",
    "    flasher.erase(dry_run=True)\n",
    "    print(\"flash ...\")\n",
    "    flasher.flash_file('firmware.bin', md5=md5, dry_run=True)"
   ]
  },
  {
   "cell_type": "code",
   "execution_count": null,
   "id": "de6f47aa-69eb-4707-990e-7ad50ddeb6ac",
   "metadata": {},
   "outputs": [],
   "source": []
  }
 ],
 "metadata": {
  "kernelspec": {
   "display_name": "IoT",
   "language": "python",
   "name": "iot_kernel"
  },
  "language_info": {
   "codemirror_mode": {
    "name": "python",
    "version": 3
   },
   "file_extension": ".py",
   "mimetype": "text/x-python",
   "name": "python",
   "pygments_lexer": "python3",
   "version": "3"
  }
 },
 "nbformat": 4,
 "nbformat_minor": 5
}
