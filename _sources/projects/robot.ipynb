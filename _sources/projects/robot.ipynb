{
 "cells": [
  {
   "cell_type": "markdown",
   "id": "adb954d7-112b-4e85-819c-c91afa9721b1",
   "metadata": {},
   "source": [
    "# Cloud\n",
    "\n",
    "Most IoT projects communicate with services located in the \"cloud\". Typically these run on computers located in data centers, such as those offered by e.g. [Amazon](https://aws.amazon.com/), [IBM](https://www.ibm.com/watson), [Microsoft](https://azure.microsoft.com/), and many others.\n",
    "\n",
    "While they provide reliability and scalability (when your project takes off), for development it is sometimes simpler to rely on local services. Why not turn our Raspberry PI or NUC into our very own data center? \n",
    "\n",
    "```{figure} figures/aws.png\n",
    ":width: 400px\n",
    "\n",
    "Like a Raspberry PI, just scaled up.\n",
    "```\n",
    "\n",
    "\n",
    "*ide49* already provides an MQTT broker, a service usually located in the cloud. Why not provide others for data storage, visualization, etc?"
   ]
  },
  {
   "cell_type": "code",
   "execution_count": null,
   "id": "1e7d9511-c5ec-42bd-a96b-44753c20ebc8",
   "metadata": {},
   "outputs": [],
   "source": []
  }
 ],
 "metadata": {
  "kernelspec": {
   "display_name": "IoT",
   "language": "python",
   "name": "iot_kernel"
  },
  "language_info": {
   "codemirror_mode": {
    "name": "python",
    "version": 3
   },
   "file_extension": ".py",
   "mimetype": "text/x-python",
   "name": "python",
   "pygments_lexer": "python3",
   "version": "3"
  }
 },
 "nbformat": 4,
 "nbformat_minor": 5
}
