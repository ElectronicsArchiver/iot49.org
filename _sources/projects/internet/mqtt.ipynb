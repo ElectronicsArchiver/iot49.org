{
 "cells": [
  {
   "cell_type": "markdown",
   "id": "3337b39e-1bc7-44fe-80f7-112d5d44fb49",
   "metadata": {},
   "source": [
    "# MQTT"
   ]
  },
  {
   "cell_type": "markdown",
   "id": "fca8550b-5178-47e1-bf64-8ed7b9870ba4",
   "metadata": {},
   "source": [
    "* [Web mqtt client](http://www.hivemq.com/demos/websocket-client/)\n",
    "* Command line tools: mosquitto_pub, mosquitto_sub"
   ]
  },
  {
   "cell_type": "code",
   "execution_count": 4,
   "id": "b11daa40-be37-4801-b7fb-a5829cd1c04d",
   "metadata": {},
   "outputs": [
    {
     "name": "stdout",
     "output_type": "stream",
     "text": [
      "\u001b[0m\u001b[0m\n",
      "publish demo/topic_0 = msg 0\n",
      "message received: demo/topic_0 = b'msg 0'\n",
      "\n",
      "publish demo/topic_1 = msg 1\n",
      "message received: demo/topic_1 = b'msg 1'\n",
      "\n",
      "publish demo/topic_2 = msg 2\n",
      "message received: demo/topic_2 = b'msg 2'\n",
      "\n",
      "publish demo/topic_3 = msg 3\n",
      "message received: demo/topic_3 = b'msg 3'\n",
      "\n",
      "publish demo/topic_4 = msg 4\n",
      "message received: demo/topic_4 = b'msg 4'\n",
      "\n",
      "disconnected, rc=0\n"
     ]
    }
   ],
   "source": [
    "%%host\n",
    "\n",
    "from paho.mqtt.client import Client\n",
    "from threading import Event\n",
    "import time\n",
    "\n",
    "USE_WS = False\n",
    "BROKER = '10.39.40.200'\n",
    "\n",
    "if USE_WS:\n",
    "    PORT = 9001\n",
    "    TRANSPORT = 'websockets'\n",
    "else:\n",
    "    PORT = 1883\n",
    "    TRANSPORT = 'tcp'\n",
    "\n",
    "# on_message runs on a different thread ...\n",
    "connected = Event()\n",
    "\n",
    "def on_message(client, userdata, message):\n",
    "    print(f\"message received: {message.topic} = {message.payload}\")\n",
    "\n",
    "def on_connect(client, userdata, flags, rc):\n",
    "    global connected\n",
    "    client.subscribe('#')\n",
    "    connected.set()\n",
    "    \n",
    "def on_disconnect(client, userdata, rc):\n",
    "    global connected\n",
    "    connected.clear()\n",
    "    print(f\"disconnected, rc={rc}\") \n",
    "    \n",
    "client = Client(\"client-socks\", transport=TRANSPORT)\n",
    "client.on_message = on_message\n",
    "client.on_connect = on_connect\n",
    "client.on_disconnect = on_disconnect\n",
    "client.connect(BROKER, PORT)\n",
    "\n",
    "# start a separate thread listening to messages\n",
    "client.loop_start()\n",
    "\n",
    "# wait for connection before publishing\n",
    "connected.wait()\n",
    "\n",
    "for i in range(5):\n",
    "    topic = f\"demo/topic_{i}\"\n",
    "    msg   = f\"msg {i}\"\n",
    "    print(f\"\\npublish {topic} = {msg}\")\n",
    "    client.publish(topic, msg)\n",
    "    time.sleep(0.1)\n",
    "\n",
    "# keep listening to messages\n",
    "time.sleep(20)\n",
    "\n",
    "client.disconnect()\n",
    "print()"
   ]
  },
  {
   "cell_type": "markdown",
   "id": "19bbd3ca-a860-4e57-b0dd-fdb9be9162b5",
   "metadata": {},
   "source": []
  }
 ],
 "metadata": {
  "kernelspec": {
   "display_name": "IoT",
   "language": "python",
   "name": "iot_kernel"
  },
  "language_info": {
   "codemirror_mode": {
    "name": "python",
    "version": 3
   },
   "file_extension": ".py",
   "mimetype": "text/x-python",
   "name": "python",
   "pygments_lexer": "python3",
   "version": "3"
  }
 },
 "nbformat": 4,
 "nbformat_minor": 5
}
