{
 "cells": [
  {
   "cell_type": "markdown",
   "id": "c4f7281f-abdf-41c3-85c1-591720a7d8d1",
   "metadata": {},
   "source": [
    "# Sockets\n",
    "\n",
    "Once an internet connection has been established, MicroPython uses [sockets](https://docs.micropython.org/en/latest/library/usocket.html) to access resources on the network, just like CPython (and pretty much [all programming languages](https://en.wikipedia.org/wiki/Network_socket)).\n",
    "\n",
    "Sockets are quite low level; frequently higher level libraries can be used instead. But if you want to write your own webserver, for example, you likely will use sockets.\n",
    "\n",
    "Examples presented are adapted from the [MicroPython github repository](https://github.com/micropython/micropython/tree/master/examples/network). Check them out for additional information.\n",
    "\n",
    "## http Client\n",
    "\n",
    "The code below first looks up the ip address of the server (`google.com`). It then creates a `socket`, connects to it at port 80 and downloads 2000 bytes. "
   ]
  },
  {
   "cell_type": "code",
   "execution_count": 1,
   "id": "0df7eb05-87f8-44d7-9ef7-a4cb7523e89d",
   "metadata": {
    "tags": [
     "hide-output"
    ]
   },
   "outputs": [
    {
     "name": "stdout",
     "output_type": "stream",
     "text": [
      "\u001b[0m\u001b[0mAddress information: [(2, 1, 0, 'google.com', ('216.58.194.174', 80))]\n",
      "\u001b[0m\n",
      "Response:\n",
      "\u001b[0mHTTP/1.0 200 OK\n",
      "Date: Thu, 22 Jul 2021 03:08:27 GMT\n",
      "Expires: -1\n",
      "Cache-Control: private, max-age=0\n",
      "Content-Type: text/html; charset=ISO-8859-1\n",
      "P3P: CP=\"This is not a P3P policy! See g.co/p3phelp for more info.\"\n",
      "Server: gws\n",
      "X-XSS-Protection: 0\n",
      "X-Frame-Options: SAMEORIGIN\n",
      "Set-Cookie: 1P_JAR=2021-07-22-03; expires=Sat, 21-Aug-2021 03:08:27 GMT; path=/; domain=.google.com; Secure\n",
      "Set-Cookie: NID=219=R1eiu3eJy1QMHo1SQIl73n5yc_rtUafRdRoyA9J3l3t5e_NhZyyIkut1XIGY7qd35-IKc-wW3WNeYC1swiM9dfwDKJoJIyY9NiociLLKP7UIPzdGpfirkxf2_8bNfTsRh4PCKRb3Nk_2FOUyAZYyTuOrFMXkgDq8HwcUWH8zgQE; expires=Fri, 21-Jan-2022 03:08:27 GMT; path=/; domain=.google.com; HttpOnly\n",
      "Accept-Ranges: none\n",
      "Vary: Accept-Encoding\n",
      "\n",
      "<!doctype html><html itemscope=\"\" itemtype=\"http://schema.org/WebPage\" lang=\"en\"><head><meta content=\"Search the world's information, including webpages, images, videos and more. Google has many special features to help you find exactly what you're looking for.\" name=\"description\"><meta content=\"noodp\" name=\"robots\"><meta content=\"text/html; charset=UTF-8\" http-equiv=\"Content-Type\"><meta content=\"/images/branding/googleg/1x/googleg_standard_color_128dp.png\" itemprop=\"image\"><title>Google</title><script nonce=\"nACootAAy4uBXGeQN4xAog==\">(function(){window.google={kEI:'K-H4YL6WIdP89APtmK_gDg',kEXPI:'0,18167,754048,1,530320,56873,954,5105,206,4804,926,1390,383,246,5,1354,4936,314,1122516,1197729,554,302679,26305,51223,16115,17444,1954,9286,17572,4859,1361,284,9007,3029,2815,1929,12835,4020,978,13228,2677,1170,4192,6430,1142,13385,4520,2776,918,5081,1593,1279,2212,530,149,1103,842,1981,4314,3514,606,2023,1777,520,14670,3227,2845,7,5599,6755,5096,7877,5036,1483,1372,552,908,2,941,2614,3783,8927,432,3,346,1244,1,5445,148,11323,2652,4,3821,11,1242,5797,74,1983,1523,1103,2015,4067,7434,3824,3050,2658,4242,3113,32,5663,7965,2305,639,37,1456,5586,3772,4048,1945,770,665,5797,2560,4094,3138,6,614,294,3,3541,1,5349,9361,1,1813,283,38,874,5992,12346,180,2,1394,756,769,8,1,1272,1715,2,3057,2 ...\n",
      "\u001b[0m"
     ]
    }
   ],
   "source": [
    "%connect esp32 -q\n",
    "import socket\n",
    "\n",
    "ai = socket.getaddrinfo('google.com', 80)\n",
    "print(\"Address information:\", ai)\n",
    "addr = ai[0][-1]\n",
    "\n",
    "s = socket.socket()\n",
    "s.connect(addr)\n",
    "s.write(b\"GET / HTTP/1.0\\r\\n\\r\\n\")\n",
    "\n",
    "print(\"\\nResponse:\")\n",
    "print(s.read(2000).decode(), \"...\")\n",
    "\n",
    "s.close()"
   ]
  },
  {
   "cell_type": "markdown",
   "id": "78786fdb-90c9-45c5-be3b-816941f06e1c",
   "metadata": {},
   "source": [
    "The response is quite wordy with embedded graphics meant for visualization in a browser, not parse by a microcontroller. Some sites, e.g. for weather data, can produce simpler responses optimized for parsing by machines.\n",
    "\n",
    "## http Server\n",
    "\n",
    "Let's do the opposite and create a simple webserver."
   ]
  },
  {
   "cell_type": "code",
   "execution_count": 1,
   "id": "e9aa1422-9247-46e8-919d-90b128bf73e9",
   "metadata": {
    "tags": [
     "hide-output"
    ]
   },
   "outputs": [
    {
     "name": "stdout",
     "output_type": "stream",
     "text": [
      "\u001b[0m\u001b[0mListening, connect your browser to http://10.39.40.135:8080/\n",
      "\u001b[0mRequest from\n",
      "b\u001b[0m'GET / HTTP/1.1\\r\\n'\n",
      "\u001b[0mb'Host: 10.39.40.135:8080\\r\\n'\n",
      "\u001b[0mb'Connection: keep-alive\\r\\n'\n",
      "b'DNT: 1\\r\\n'\n",
      "\u001b[0mb'Upgrade-Insecure-Requests: 1\\r\\n'\n",
      "\u001b[0mb'User-Agent: Mozilla/5.0 (Macintosh; Intel Mac OS X 10_15_7) AppleWebKit/537.36 (KHTML, like Gecko) Chrome/91.0.4472.164 Safari/537.36\\r\\n'\n",
      "\u001b[0mb\u001b[0m'Accept: text/html,application/xhtml+xml,application/xml;q=0.9,image/avif,image/webp,image/apng,*/*;q=0.8,application/signed-exchange;v=b3;q=0.9\\r\\n'\n",
      "b'Accept-Encoding: gzip, deflate\\r\\n'\n",
      "\u001b[0mb'Accept-Language: en-US,en;q=0.9,de-CH;q=0.8,de;q=0.7,fr-FR;q=0.6,fr;q=0.5,zh-HK;q=0.4,zh-CN;q=0.3,zh-TW;q=0.2,zh;q=0.1\\r\\n'\n",
      "\n",
      "Request from\n",
      "\u001b[0mb'GET /favicon.ico HTTP/1.1\\r\\n'\n",
      "\u001b[0mb'Host: 10.39.40.135:8080\\r\\n'\n",
      "\u001b[0mb'Connection: keep-alive\\r\\n'\n",
      "\u001b[0mb'User-Agent: Mozilla/5.0 (Macintosh; Intel Mac OS X 10_15_7) AppleWebKit/537.36 (KHTML, like Gecko) Chrome/91.0.4472.164 Safari/537.36\\r\\n'\n",
      "b'DNT: 1\\r\\n'\n",
      "\u001b[0mb'Accept: image/avif,image/webp,image/apng,image/svg+xml,image/*,*/*;q=0.8\\r\\n'\n",
      "b'Referer: http://10.39.40.135:8080/\\r\\n'\n",
      "\u001b[0mb'Accept-Encoding: gzip, deflate\\r\\n'\n",
      "\u001b[0mb'Accept-Language: en-US,en;q=0.9,de-CH;q=0.8,de;q=0.7,fr-FR;q=0.6,fr;q=0.5,zh-HK;q=0.4,zh-CN;q=0.3,zh-TW;q=0.2,zh;q=0.1\\r\\n'\n",
      "\n",
      "Request from\n",
      "\u001b[0mb'GET / HTTP/1.1\\r\\n'\n",
      "\u001b[0mb'Host: 10.39.40.135:8080\\r\\n'\n",
      "\u001b[0mb'Connection: keep-alive\\r\\n'\n",
      "\u001b[0mb'Cache-Control: max-age=0\\r\\n'\n",
      "b'DNT: 1\\r\\n'\n",
      "\u001b[0mb'Upgrade-Insecure-Requests: 1\\r\\n'\n",
      "\u001b[0mb'User-Agent: Mozilla/5.0 (Macintosh; Intel Mac OS X 10_15_7) AppleWebKit/537.36 (KHTML, like Gecko) Chrome/91.0.4472.164 Safari/537.36\\r\\n'\n",
      "\u001b[0mb\u001b[0m'Accept: text/html,application/xhtml+xml,application/xml;q=0.9,image/avif,image/webp,image/apng,*/*;q=0.8,application/signed-exchange;v=b3;q=0.9\\r\\n'\n",
      "b'Accept-Encoding: gzip, deflate\\r\\n'\n",
      "\u001b[0mb\u001b[0m'Accept-Language: en-US,en;q=0.9,de-CH;q=0.8,de;q=0.7,fr-FR;q=0.6,fr;q=0.5,zh-HK;q=0.4,zh-CN;q=0.3,zh-TW;q=0.2,zh;q=0.1\\r\\n'\n",
      "\n",
      "Request from\n",
      "\u001b[0mb'GET /favicon.ico HTTP/1.1\\r\\n'\n",
      "\u001b[0mb'Host: 10.39.40.135:8080\\r\\n'\n",
      "\u001b[0mb'Connection: keep-alive\\r\\n'\n",
      "\u001b[0mb'Pragma: no-cache\\r\\n'\n",
      "\u001b[0mb'Cache-Control: no-cache\\r\\n'\n",
      "\u001b[0mb'User-Agent: Mozilla/5.0 (Macintosh; Intel Mac OS X 10_15_7) AppleWebKit/537.36 (KHTML, like Gecko) Chrome/91.0.4472.164 Safari/537.36\\r\\n'\n",
      "b'DNT: 1\\r\\n'\n",
      "\u001b[0mb'Accept: image/avif,image/webp,image/apng,image/svg+xml,image/*,*/*;q=0.8\\r\\n'\n",
      "\u001b[0mb'Referer: http://10.39.40.135:8080/\\r\\n'\n",
      "\u001b[0mb'Accept-Encoding: gzip, deflate\\r\\n'\n",
      "\u001b[0mb'Accept-Language: en-US,en;q=0.9,de-CH;q=0.8,de;q=0.7,fr-FR;q=0.6,fr;q=0.5,zh-HK;q=0.4,zh-CN;q=0.3,zh-TW;q=0.2,zh;q=0.1\\r\\n'\n",
      "\n",
      "\u001b[0m"
     ]
    },
    {
     "name": "stderr",
     "output_type": "stream",
     "text": [
      "Interrupted\u001b[0m\n"
     ]
    }
   ],
   "source": [
    "%connect esp32 -q\n",
    "\n",
    "import socket, network\n",
    "\n",
    "\n",
    "CONTENT = b\"\"\"\\\n",
    "HTTP/1.0 200 OK\n",
    "\n",
    "Hello #{} from MicroPython!\n",
    "\"\"\"\n",
    "\n",
    "PORT = 8080\n",
    "\n",
    "\n",
    "def webserver():\n",
    "    my_ip = network.WLAN(network.STA_IF).ifconfig()[0]\n",
    "    s = socket.socket()\n",
    "\n",
    "    # Binding to all interfaces - server will be accessible to other hosts!\n",
    "    ai = socket.getaddrinfo(\"0.0.0.0\", PORT)\n",
    "    addr = ai[0][-1]\n",
    "\n",
    "    s.setsockopt(socket.SOL_SOCKET, socket.SO_REUSEADDR, 1)\n",
    "    s.bind(addr)\n",
    "    s.listen(5)\n",
    "    print(\"Listening, connect your browser to http://{}:{}/\".format(my_ip, PORT))\n",
    "\n",
    "    try:\n",
    "        counter = 0\n",
    "        while True:\n",
    "            client_sock, client_addr = s.accept()\n",
    "\n",
    "            print(\"Request from\".format(client_addr))\n",
    "            req = client_sock.readline()\n",
    "            print(\"\\nRequest:\")\n",
    "            print(req)\n",
    "            while True:\n",
    "                h = client_sock.readline()\n",
    "                if h == b\"\" or h == b\"\\r\\n\":\n",
    "                    break\n",
    "                print(h)\n",
    "            client_sock.write(CONTENT.format(counter))\n",
    "\n",
    "            client_sock.close()\n",
    "            counter += 1\n",
    "            print()\n",
    "    finally:\n",
    "        s.close()\n",
    "\n",
    "webserver()"
   ]
  },
  {
   "cell_type": "markdown",
   "id": "7b36b2bc-64d4-4804-9f1d-219ce9cc81ac",
   "metadata": {},
   "source": [
    "Click the `http` link above to open a browser window. Notice two things:\n",
    "\n",
    "1. The hello counter increases by two everytime you refresh the page in the browser. The reason is that the browser (at least mine) make two requests each time it loads the page.\n",
    "\n",
    "2. The browser sends lots of data with each request. The kind of browser, the languages it speaks, etc. That's helpful for marketers to track users, but it's a bit over the top for small microcontrollers with limited memory and processing power. \n",
    "\n",
    "We'll check out more efficient means for microcontrollers to communicate over the internet. \n",
    "\n",
    "## Secure Client\n",
    "\n",
    "The secure, https, client is almost the same except that the port has been changed from 80 to 443 and the line `s = ssl.wrap_socket(s)` been added."
   ]
  },
  {
   "cell_type": "code",
   "execution_count": 1,
   "id": "c810776b-6331-45dd-ba36-e1820fdfd3f3",
   "metadata": {
    "tags": [
     "hide-output"
    ]
   },
   "outputs": [
    {
     "name": "stdout",
     "output_type": "stream",
     "text": [
      "\u001b[0m\u001b[0m\u001b[46m\u001b[30mConnected to esp32 @ serial:///dev/ttyUSB0\u001b[0m\n",
      "\u001b[0m\u001b[0m\n",
      "\u001b[46m\u001b[31m!!!!!!!!!!!!!!!!!!!!!!!!!!!!!!!\u001b[0m\n",
      "\u001b[46m\u001b[31m!!!!!   softreset ...     !!!!!\u001b[0m\n",
      "\u001b[46m\u001b[31m!!!!!!!!!!!!!!!!!!!!!!!!!!!!!!!\u001b[0m\n",
      "\u001b[0m\n",
      "Address information: [(2, 1, 0, 'google.com', ('216.58.194.174', 443))]\n",
      "\u001b[0m\n",
      "Response:\n",
      "\u001b[0mHTTP/1.0 200 OK\n",
      "Date: Thu, 22 Jul 2021 03:05:33 GMT\n",
      "Expires: -1\n",
      "Cache-Control: private, max-age=0\n",
      "Content-Type: text/html; charset=ISO-8859-1\n",
      "P3P: CP=\"This is not a P3P policy! See g.co/p3phelp for more info.\"\n",
      "Server: gws\n",
      "X-XSS-Protection: 0\n",
      "X-Frame-Options: SAMEORIGIN\n",
      "Set-Cookie: 1P_JAR=2021-07-22-03; expires=Sat, 21-Aug-2021 03:05:33 GMT; path=/; domain=.google.com; Secure\n",
      "Set-Cookie: NID=219=rjuTN3Kqr-3ZPMHKtq8jQjursFOga8OXMutFBj2WQzFgu6RWcH3siOduyS4k8FdDltMeoieIF612FtjMk1FeHPxhHzonnAw1J8LFjOcg7N4J45x9oBw2i5d4xrlcaN55HX_4JJXOI8hqNt5GRTSf8AXtMKpm_OGirlei0Fca3IU; expires=Fri, 21-Jan-2022 03:05:33 GMT; path=/; domain=.google.com; HttpOnly\n",
      "Alt-Svc: h3=\":443\"; ma=2592000,h3-29=\":443\"; ma=2592000,h3-T051=\":443\"; ma=2592000,h3-Q050=\":443\"; ma=2592000,h3-Q046=\":443\"; ma=2592000,h3-Q043=\":443\"; ma=2592000,quic=\":443\"; ma=2592000; v=\"46,43\"\n",
      "Accept-Ranges: none\n",
      "Vary: Accept-Encoding\n",
      "\n",
      "<!doctype html><html itemscope=\"\" itemtype=\"http://schema.org/WebPage\" lang=\"en\"><head><meta content=\"Search the world's information, including webpages, images, videos and more. Google has many special features to help you find exactly what you're looking for.\" name=\"description\"><meta content=\"noodp\" name=\"robots\"><meta content=\"text/html; charset=UTF-8\" http-equiv=\"Content-Type\"><meta content=\"/images/branding/googleg/1x/googleg_standard_color_128dp.png\" itemprop=\"image\"><title>Google</title><script nonce=\"c6vjeNqb6uKpWxzJI0fCQQ==\">(function(){window.google={kEI:'feD4YMPwDb_M0PEP9c6SiAs',kEXPI:'0,772215,1,530320,56873,954,755,4349,207,4804,2316,383,246,5,1354,4936,314,1122516,1197739,544,104,328880,51223,16115,17444,11240,17572,4858,1362,283,9008,3022,2822,14764,4020,978,13228,1838,2009,10622,1142,13386,4518,2776,919,2372,4302,1279,2212,530,149,1103,840,1983,4314,4120,2025,1775,520,14670,3227,1990,855,7,12354,5096,7877,3747,1289,1483,1371,553,908,2,3555,12710,432,3,346,1244,1,5445,148,11323,2652,4,1253,274,2305,1236,5803,74,1983,2627,2014,4067,7434,2110,1714,3050,2658,4164,79,\n",
      "\u001b[0m"
     ]
    }
   ],
   "source": [
    "%connect esp32\n",
    "%softreset\n",
    "\n",
    "import socket, ssl\n",
    "\n",
    "ai = socket.getaddrinfo(\"google.com\", 443)\n",
    "print(\"Address information:\", ai)\n",
    "addr = ai[0][-1]\n",
    "\n",
    "s = socket.socket()\n",
    "s.connect(addr)\n",
    "s = ssl.wrap_socket(s)\n",
    "\n",
    "s.write(b\"GET / HTTP/1.0\\r\\n\\r\\n\")\n",
    "\n",
    "print(\"\\nResponse:\")\n",
    "print(s.read(2000).decode())\n",
    "\n",
    "s.close()"
   ]
  },
  {
   "cell_type": "markdown",
   "id": "8029cddc-71db-426e-b032-29e2e9dd7d2c",
   "metadata": {},
   "source": [
    "## Secure Server\n",
    "\n",
    "* MicroPython ssl broken? Apparently a memory issue:\n",
    "    * [Github issue](https://github.com/micropython/micropython/issues/5543)\n",
    "    * [Forum Post](https://forum.micropython.org/viewtopic.php?f=18&t=10375&hilit=cert)\n",
    "* [CPython Tutorial](https://realpython.com/python-https/)\n",
    "\n",
    "Secure webservers use a certificate and a private key to encrypt data and \"prove\" their identity to the web client (e.g. browser).\n",
    "\n",
    "First we find the IP address of the microcontroller and save it in the jupyter store to access it later from bash."
   ]
  },
  {
   "cell_type": "code",
   "execution_count": 9,
   "id": "bb913eab-1be0-499b-ad5d-f316d00be8e0",
   "metadata": {},
   "outputs": [
    {
     "name": "stdout",
     "output_type": "stream",
     "text": [
      "\u001b[0m\u001b[0m\u001b[0m\u001b[0mmicrocontroller IP: 10.39.40.135\u001b[0m\n"
     ]
    }
   ],
   "source": [
    "# get IP and save in the Jupyter store\n",
    "import network\n",
    "my_ip = network.WLAN(network.STA_IF).ifconfig()[0]\n",
    "%store my_ip\n",
    "\n",
    "# retrieve it on the host (CPython) and assign it to a shell environment variable\n",
    "%%host\n",
    "%store -r my_ip\n",
    "os.environ[\"my_ip\"] = my_ip\n",
    "\n",
    "# verify that bash has the correct IP\n",
    "%%bash\n",
    "echo \"microcontroller IP:\" $my_ip"
   ]
  },
  {
   "cell_type": "markdown",
   "id": "f474a41f-2368-4f01-bca6-a7363bd2fee0",
   "metadata": {},
   "source": [
    "Now we create the \"configuration\" from which the certificate and key will be generated. Change the values in the `[req_distinguished_name]` section if you wish (the defaults are ok)."
   ]
  },
  {
   "cell_type": "code",
   "execution_count": null,
   "id": "5053cdd3-3f9c-4c84-9aba-c8043a9454df",
   "metadata": {},
   "outputs": [],
   "source": [
    "%cd $IOT_PROJECTS/internet\n",
    "!mkdir -p ssl\n",
    "%cd ssl"
   ]
  },
  {
   "cell_type": "code",
   "execution_count": 12,
   "id": "31979a12-f9b0-4c3b-af9b-2d4797216ece",
   "metadata": {},
   "outputs": [
    {
     "name": "stdout",
     "output_type": "stream",
     "text": [
      "\u001b[0m\u001b[0mcwd = /home/iot/iot49.org/docs/projects/internet\u001b[0m\n",
      "\u001b[0mcwd = /home/iot/iot49.org/docs/projects/internet/ssl\u001b[0m\n",
      "\u001b[0mcert.conf\u001b[0m\n"
     ]
    }
   ],
   "source": [
    "%%bash\n",
    "cat << EOF >cert.conf\n",
    "[req]\n",
    "distinguished_name = req_distinguished_name\n",
    "x509_extensions = v3_req\n",
    "prompt = no\n",
    "[req_distinguished_name]\n",
    "C = US\n",
    "ST = CA\n",
    "L = San Francisco\n",
    "O = MicroPython Webserver\n",
    "OU = iot49\n",
    "CN = iot49\n",
    "[v3_req]\n",
    "keyUsage = critical, digitalSignature, keyAgreement\n",
    "extendedKeyUsage = serverAuth\n",
    "subjectAltName = @alt_names\n",
    "[alt_names]\n",
    "DNS.1 = $my_ip\n",
    "IP.1  = $my_ip\n",
    "EOF"
   ]
  },
  {
   "cell_type": "markdown",
   "id": "24c0ae24-ac24-4b61-ab0a-8f7e5dfe8b80",
   "metadata": {},
   "source": [
    "The next step is to generate the key and cert files from the configuration."
   ]
  },
  {
   "cell_type": "code",
   "execution_count": 12,
   "id": "03dd83da-2ca3-4542-b51e-bd998572208a",
   "metadata": {},
   "outputs": [
    {
     "name": "stdout",
     "output_type": "stream",
     "text": [
      "\u001b[0m\u001b[0mGenerating a RSA private key\u001b[0m\n",
      ".........+++++\u001b[0m\n",
      ".....................+++++\u001b[0m\n",
      "writing new private key to 'cert.key'\u001b[0m\n",
      "-----\u001b[0m\n",
      "total 12\u001b[0m\n",
      "-rw-r--r-- 1 iot iot  366 Jul 22 09:58 cert.conf\u001b[0m\n",
      "-rw-r--r-- 1 iot iot 1350 Jul 22 10:00 cert.crt\u001b[0m\n",
      "-rw------- 1 iot iot 1704 Jul 22 10:00 cert.key\u001b[0m\n"
     ]
    }
   ],
   "source": [
    "%%bash\n",
    "\n",
    "openssl req -x509 -nodes -days 3650 -newkey rsa:2048 \\\n",
    "    -keyout cert.key -out cert.crt -config cert.conf       "
   ]
  }
 ],
 "metadata": {
  "kernelspec": {
   "display_name": "IoT",
   "language": "python",
   "name": "iot_kernel"
  },
  "language_info": {
   "codemirror_mode": {
    "name": "python",
    "version": 3
   },
   "file_extension": ".py",
   "mimetype": "text/x-python",
   "name": "python",
   "pygments_lexer": "python3",
   "version": "3"
  }
 },
 "nbformat": 4,
 "nbformat_minor": 5
}
