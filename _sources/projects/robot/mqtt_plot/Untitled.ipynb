{
 "cells": [
  {
   "cell_type": "code",
   "execution_count": 49,
   "id": "9380ebe0-35fb-49d7-a6e6-7c7cb9228c17",
   "metadata": {},
   "outputs": [
    {
     "name": "stdout",
     "output_type": "stream",
     "text": [
      "2.0\n",
      "(1.0, 2.700000047683716)\n"
     ]
    }
   ],
   "source": [
    "import struct\n",
    "\n",
    "p = struct.pack(\"!2f\", 1, 2.7)\n",
    "print(len(p)/4)\n",
    "f = struct.unpack(f\"!{len(p)//4}f\", p)\n",
    "print(f)"
   ]
  },
  {
   "cell_type": "code",
   "execution_count": 23,
   "id": "4a7086fa-f6bd-4782-ac67-c1d2f61e8ef7",
   "metadata": {},
   "outputs": [],
   "source": [
    "from bokeh.models import ColumnDataSource\n",
    "\n",
    "cn = [\"a\", \"b\", \"c\", \"d\"]\n",
    "\n",
    "cds = ColumnDataSource(data={ t: [] for t in cn })     "
   ]
  },
  {
   "cell_type": "code",
   "execution_count": 34,
   "id": "d6e24035-ea9a-4938-ac08-aa0701986f2d",
   "metadata": {},
   "outputs": [],
   "source": [
    "d = {\"a\": [4.5], \"b\": [4.5], \"c\": [4.5], \"d\": [4.5]}"
   ]
  },
  {
   "cell_type": "code",
   "execution_count": 48,
   "id": "4a6e36b7-5ee2-4618-91b8-acc9ee7e5ff0",
   "metadata": {},
   "outputs": [
    {
     "name": "stdout",
     "output_type": "stream",
     "text": [
      "{'a': array([4.5]), 'b': array([4.5]), 'c': array([4.5]), 'd': array([nan])}\n",
      "f1 {'a': array([1.]), 'b': array([2.70000005]), 'c': array([3.]), 'd': array([nan])}\n",
      "f2 {'a': array([1.]), 'b': array([2.70000005]), 'c': array([3.]), 'd': array([nan])}\n",
      "f3 {'a': array([2.70000005]), 'b': array([3.]), 'c': array([nan]), 'd': array([nan])}\n"
     ]
    }
   ],
   "source": [
    "from numpy import array\n",
    "\n",
    "cn = [\"a\", \"b\", \"c\", \"d\"]\n",
    "\n",
    "cds = ColumnDataSource(data={ t: [] for t in cn })     \n",
    "d1 = {\"a\": [4.5], \"b\": [4.5], \"c\": [4.5], \"d\": [4.5]}\n",
    "d2 = {\"a\": 4.5, \"b\": 4.5, \"c\": 4.5, \"dx\": 4.5, \"x\": 4}\n",
    "cds.stream(d1)\n",
    "\n",
    "df = { c: array([d2.get(c, float('nan'))]) for c in cn }\n",
    "cds.stream(df)\n",
    "print(df)\n",
    "\n",
    "f1 = (1.0, 2.700000047683716, 3.0, float('nan'))\n",
    "f2 = (1.0, 2.700000047683716, 3.0, float('nan'), 7)\n",
    "f3 = (2.700000047683716, 3.0, float('nan'))\n",
    "\n",
    "f3 = list(f3)\n",
    "f3.extend([array(float('nan'))]*(len(cn)-len(f3)))\n",
    "\n",
    "print(\"f1\", { c: array([f1[i]]) for i,c in enumerate(cn) })\n",
    "print(\"f2\", { c: array([f2[i]]) for i,c in enumerate(cn) })\n",
    "print(\"f3\", { c: array([f3[i]]) for i,c in enumerate(cn) })\n"
   ]
  },
  {
   "cell_type": "code",
   "execution_count": null,
   "id": "2547e858-e1af-4d4e-b02f-bb602b82a04c",
   "metadata": {},
   "outputs": [],
   "source": []
  }
 ],
 "metadata": {
  "kernelspec": {
   "display_name": "Python 3 (ipykernel)",
   "language": "python",
   "name": "python3"
  },
  "language_info": {
   "codemirror_mode": {
    "name": "ipython",
    "version": 3
   },
   "file_extension": ".py",
   "mimetype": "text/x-python",
   "name": "python",
   "nbconvert_exporter": "python",
   "pygments_lexer": "ipython3",
   "version": "3.9.7"
  }
 },
 "nbformat": 4,
 "nbformat_minor": 5
}
