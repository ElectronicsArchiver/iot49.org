{
 "cells": [
  {
   "cell_type": "markdown",
   "id": "2da8d939-32f4-4d7e-87b1-6ecb4008daee",
   "metadata": {},
   "source": [
    "# MQTT Plot\n",
    "\n",
    "MQTT Plot is a simple python app that plots data sent by MQTT and renders it in a dynamic plot. The following messages are recognized (`MQTT_TOPIC_ROOT` is defined in mqtt_plot/config.py):\n",
    "\n",
    "* Initialize plot:\n",
    "  * Topic: `MQTT_TOPIC_ROOT/new`\n",
    "  * Message (json): `{ \"columns\": [ \"time [s]\", \"y1\", \"y2\", ... ], \"rollover\": 200 }`\n",
    "  * Declaration of the data column names. The number and names of columns is arbitrary. `rollover` specifies the number of points shown. Once more than that many points are received, the plot scrolls to the left. \n",
    "* Json data:\n",
    "  * Topic: `MQTT_TOPIC_ROOT/add`\n",
    "  * Message (json): `{ \"time [s]\": 5.39, \"y1\": 0, \"y2\": -0.3 }`\n",
    "  * Data to plot. Typically and (endless) stream.\n",
    "* Binary data (`from struct import pack`)\n",
    "  * Topic: `MQTT_TOPIC_ROOT/bin`\n",
    "  * Message (binary): `pack(\"!3f\", data)`\n",
    "  * Send binary data (32-bit floats), alternative to send json. The number and order of floats sent must match the columns specified during initialization.\n",
    "\n",
    "First update the configuration file `$IOT_PROJECTS/mqtt_plot/config.py`. Set `MQTT_BROKER` to match the address of your MQTT broker.\n",
    "\n",
    "Then start the server from the command line:\n",
    "\n",
    "```bash\n",
    "cd $IOT_PROJECTS/robot\n",
    "python -m mqtt_plot\n",
    "```\n",
    "\n",
    "Launch the MQTT data producer (e.g. a microcontroller), first sending to the `new` topic to initialize the plot, followed by data. Open a browser window at the URL indicated by the application (e.g. `http://iot49.local:5006`).\n",
    "\n",
    "To test the application (without setting up a device to send MQTT data), run the code below to send \"sample\" data (update `MQTT_BROKER` to match your configuration):"
   ]
  },
  {
   "cell_type": "code",
   "execution_count": 9,
   "id": "76510886-be77-4b93-9253-c3f89f1df9dd",
   "metadata": {},
   "outputs": [
    {
     "name": "stdout",
     "output_type": "stream",
     "text": [
      "sending data ...\n",
      "so long\n"
     ]
    }
   ],
   "source": [
    "import paho.mqtt.client as mqtt\n",
    "from time import sleep\n",
    "import json, math\n",
    "\n",
    "MQTT_BROKER = \"10.39.40.200\"\n",
    "TOPIC_ROOT = \"vis\"\n",
    "\n",
    "client = mqtt.Client(clean_session=True, protocol=mqtt.MQTTv311)\n",
    "client.connect(MQTT_BROKER, port=1883, keepalive=60)\n",
    "\n",
    "print(\"sending data ...\")\n",
    "client.publish(f\"{TOPIC_ROOT}/new\", json.dumps({\n",
    "    \"columns\": [ \"time [s]\", \"sin\", \"cos\" ],\n",
    "    \"rollover\": 200,\n",
    "    \"args\": { \"title\": \"MQTT Plot Demo\" },\n",
    "    # \"layout\": \"scatter_plot\"\n",
    "}))\n",
    "\n",
    "try:\n",
    "    t = 0\n",
    "    while True:\n",
    "        client.publish(f\"{TOPIC_ROOT}/add\", \n",
    "                       json.dumps({ \"time [s]\": t, \"sin\": math.sin(t), \"cos\": math.cos(t) }))\n",
    "        t += 0.1\n",
    "        sleep(0.01)\n",
    "except KeyboardInterrupt:\n",
    "    print(\"so long\")"
   ]
  },
  {
   "cell_type": "markdown",
   "id": "14ebf738-5382-4d6a-81ff-ec99bb01531b",
   "metadata": {},
   "source": [
    "```{figure} figures/mqtt_plot_demo.png\n",
    ":width: 350px\n",
    "\n",
    "MQTT Plot Demo\n",
    "```"
   ]
  },
  {
   "cell_type": "markdown",
   "id": "71aabe2c-3067-4e4d-99aa-d84ce130fbfc",
   "metadata": {},
   "source": [
    "## Customization\n",
    "\n",
    "MQTT Plot makes use of the [Bokeh Visualization Library](https://bokeh.org/). This library offers extensive control and customizations (see [examples](https://docs.bokeh.org/en/latest/docs/gallery.html)).\n",
    "\n",
    "To customize the output of MQTT Plot, edit a copy of the file `$IOT_PROJECTS/robot/mqtt_plot/layouts/line_plot`). Then in the `new` topic, specify layout to use for plotting, like so (replace `scatter_plot` with the name of your file):\n",
    "\n",
    "`{ \"columns\": [ \"time [s]\", \"y1\", \"y2\", ... ], \"layout\": \"scatter_plot\" }`"
   ]
  },
  {
   "cell_type": "code",
   "execution_count": null,
   "id": "6bac6d3f-85a9-422b-af47-34737c231754",
   "metadata": {},
   "outputs": [],
   "source": []
  }
 ],
 "metadata": {
  "kernelspec": {
   "display_name": "Python 3 (ipykernel)",
   "language": "python",
   "name": "python3"
  },
  "language_info": {
   "codemirror_mode": {
    "name": "ipython",
    "version": 3
   },
   "file_extension": ".py",
   "mimetype": "text/x-python",
   "name": "python",
   "nbconvert_exporter": "python",
   "pygments_lexer": "ipython3",
   "version": "3.9.7"
  }
 },
 "nbformat": 4,
 "nbformat_minor": 5
}
