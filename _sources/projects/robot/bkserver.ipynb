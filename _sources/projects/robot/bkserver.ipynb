{
 "cells": [
  {
   "cell_type": "markdown",
   "id": "87db217d-7b45-471b-b4aa-e499ebf5c2e2",
   "metadata": {},
   "source": [
    "# Embedded Bokeh Server\n",
    "\n",
    "* Docs: https://docs.bokeh.org/en/latest/docs/user_guide/server.html#embedding-bokeh-server-as-a-library\n",
    "\n",
    "* Stackoverflow: https://stackoverflow.com/questions/54069272/how-to-run-a-bokeh-server-without-bokeh-server-show-command\n",
    "* args:\n",
    "https://github.com/bokeh/bokeh/blob/branch-3.0/bokeh/command/subcommands/serve.py\n"
   ]
  },
  {
   "cell_type": "code",
   "execution_count": null,
   "id": "371d8a9a-a415-440b-8446-ad16d38ea7fc",
   "metadata": {},
   "outputs": [],
   "source": [
    "# bokeh serve --show app --allow-websocket-origin server.local:5006\n"
   ]
  },
  {
   "cell_type": "code",
   "execution_count": 8,
   "id": "022a6fd2-038d-4f16-91da-606bd6d69052",
   "metadata": {},
   "outputs": [
    {
     "name": "stdout",
     "output_type": "stream",
     "text": [
      "Overwriting bkapp.py\n"
     ]
    }
   ],
   "source": [
    "%%writefile bkapp.py\n",
    "\n",
    "from bokeh.layouts import column\n",
    "from bokeh.models import ColumnDataSource, Slider\n",
    "from bokeh.plotting import figure\n",
    "from bokeh.sampledata.sea_surface_temperature import sea_surface_temperature\n",
    "from bokeh.server.server import Server\n",
    "from bokeh.themes import Theme\n",
    "\n",
    "\n",
    "def bkapp(doc):\n",
    "    df = sea_surface_temperature.copy()\n",
    "    source = ColumnDataSource(data=df)\n",
    "\n",
    "    plot = figure(x_axis_type='datetime', y_range=(0, 25), y_axis_label='Temperature (Celsius)',\n",
    "                  title=\"Sea Surface Temperature at 43.18, -70.43\")\n",
    "    plot.line('time', 'temperature', source=source)\n",
    "\n",
    "    def callback(attr, old, new):\n",
    "        if new == 0:\n",
    "            data = df\n",
    "        else:\n",
    "            data = df.rolling('{0}D'.format(new)).mean()\n",
    "        source.data = ColumnDataSource.from_df(data)\n",
    "\n",
    "    slider = Slider(start=0, end=30, value=0, step=1, title=\"Smoothing by N Days\")\n",
    "    slider.on_change('value', callback)\n",
    "\n",
    "    doc.add_root(column(slider, plot))\n",
    "\n",
    "    # doc.theme = Theme(filename=\"theme.yaml\")\n",
    "\n",
    "# Setting num_procs here means we can't touch the IOLoop before now, we must\n",
    "# let Server handle that. If you need to explicitly handle IOLoops then you\n",
    "# will need to use the lower level BaseServer class.\n",
    "import os\n",
    "print(f'start DNS_NAME = {os.getenv(\"DNS_NAME\")}')\n",
    "server = Server({'/': bkapp}, num_procs=1, port=5007, allow_websocket_origin= [ \"server.local:5007\" ])\n",
    "server.start()\n",
    "\n",
    "if __name__ == '__main__':\n",
    "    print('Opening Bokeh application on http://server.local:5007/')\n",
    "\n",
    "    server.io_loop.add_callback(server.show, \"/\")\n",
    "    server.io_loop.start()\n"
   ]
  },
  {
   "cell_type": "code",
   "execution_count": null,
   "id": "c0efc1e9-9e24-4597-bfb8-0ee9de3a579b",
   "metadata": {},
   "outputs": [],
   "source": []
  }
 ],
 "metadata": {
  "kernelspec": {
   "display_name": "Python 3 (ipykernel)",
   "language": "python",
   "name": "python3"
  },
  "language_info": {
   "codemirror_mode": {
    "name": "ipython",
    "version": 3
   },
   "file_extension": ".py",
   "mimetype": "text/x-python",
   "name": "python",
   "nbconvert_exporter": "python",
   "pygments_lexer": "ipython3",
   "version": "3.9.7"
  }
 },
 "nbformat": 4,
 "nbformat_minor": 5
}
