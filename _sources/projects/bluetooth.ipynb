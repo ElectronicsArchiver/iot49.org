{
 "cells": [
  {
   "cell_type": "markdown",
   "id": "04c856dd-6154-4ae4-9a1c-687cc78a663b",
   "metadata": {},
   "source": [
    "# Bluetooth\n",
    "\n",
    "Bluetooth is available on the host (provided it's supported by the hardware, e.g. the Raspberry PI) and select microcontrollers (e.g. the ESP32).\n",
    "\n",
    "This section contains a collection of sample code."
   ]
  }
 ],
 "metadata": {
  "kernelspec": {
   "display_name": "IoT",
   "language": "python",
   "name": "iot_kernel"
  },
  "language_info": {
   "codemirror_mode": {
    "name": "python",
    "version": 3
   },
   "file_extension": ".py",
   "mimetype": "text/x-python",
   "name": "python",
   "pygments_lexer": "python3",
   "version": "3"
  }
 },
 "nbformat": 4,
 "nbformat_minor": 5
}
