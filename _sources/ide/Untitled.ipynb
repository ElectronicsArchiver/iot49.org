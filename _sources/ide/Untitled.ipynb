{
 "cells": [
  {
   "cell_type": "code",
   "execution_count": 1,
   "id": "d977ccc4-18ec-4876-bb2f-0a0eec76f9c4",
   "metadata": {},
   "outputs": [
    {
     "name": "stdout",
     "output_type": "stream",
     "text": [
      "\u001b[0m\u001b[0m/dev/ttyAMA0\u001b[0m\n",
      "  hwid         fe201000.serial\u001b[0m\n",
      "\u001b[0m\n",
      "\u001b[0mNo devices available\u001b[0m\n"
     ]
    }
   ],
   "source": [
    "%discover -a\n",
    "%discover -v"
   ]
  },
  {
   "cell_type": "code",
   "execution_count": null,
   "id": "b1a413ed-8fac-4b69-a272-5c384f16cd25",
   "metadata": {},
   "outputs": [],
   "source": []
  }
 ],
 "metadata": {
  "kernelspec": {
   "display_name": "IoT",
   "language": "python",
   "name": "iot_kernel"
  },
  "language_info": {
   "codemirror_mode": {
    "name": "python",
    "version": 3
   },
   "file_extension": ".py",
   "mimetype": "text/x-python",
   "name": "python",
   "pygments_lexer": "python3",
   "version": "3"
  }
 },
 "nbformat": 4,
 "nbformat_minor": 5
}
