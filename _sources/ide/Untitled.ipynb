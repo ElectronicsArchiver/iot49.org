{
 "cells": [
  {
   "cell_type": "code",
   "execution_count": 1,
   "id": "3c741f57-6a49-442d-90d2-4c740638b7da",
   "metadata": {},
   "outputs": [
    {
     "name": "stdout",
     "output_type": "stream",
     "text": [
      "\u001b[0m\u001b[0mUSER       PID %CPU %MEM    VSZ   RSS TTY      STAT START   TIME COMMAND\u001b[0m\n",
      "root         1  0.0  0.0   5400  1092 pts/0    Ss+  Jul16   0:00 /bin/bash /usr/local/bin/start.sh\u001b[0m\n",
      "root        30  0.2  0.0  19676  2552 ?        Ss   Jul16   1:53 /lib/systemd/systemd-udevd --daemon\u001b[0m\n",
      "root        78  0.0  0.0   8708   836 pts/0    S+   Jul16   0:00 sudo --preserve-env=BALENA --preserve-env=BALENA_APP_ID --preserve-env=BALENA_APP_NAME --preserve-env=BALENA_DEVICE_ARCH --preserve-env=BALENA_DEVICE_NAME_AT_INIT --preserve-env=BALENA_DEVICE_TYPE --preserve-env=BALENA_DEVICE_UUID --preserve-env=BALENA_HOST_OS_VERSION --preserve-env=BALENA_SERVICE_HANDOVER_COMPLETE_PATH --preserve-env=BALENA_SERVICE_NAME --preserve-env=BALENA_SUPERVISOR_ADDRESS --preserve-env=BALENA_SUPERVISOR_API_KEY --preserve-env=BALENA_SUPERVISOR_HOST --preserve-env=BALENA_SUPERVISOR_PORT --preserve-env=PYTHON_DBUS_VERSION --preserve-env=PYTHON_VERSION --preserve-env=DNS_NAME --preserve-env=IOT_PROJECTS --preserve-env=SAMBA --preserve-env=SAMBA_SERVER_IP --preserve-env=SAMBA_PASSWORD --preserve-env=TZ -i -u iot /bin/bash\u001b[0m\n",
      "iot         81  0.0  0.0   5400   996 pts/0    S+   Jul16   0:00 /bin/bash\u001b[0m\n",
      "iot         87  0.1  0.8 563092 70708 pts/0    Rl+  Jul16   1:00 /usr/local/bin/python3.8 /usr/local/bin/jupyter-lab --ip=172.17.0.1 --port=8888 --no-browser --ServerApp.base_url=/jupyter --ServerApp.token= --ServerApp.password= --NotebookNotary.db_file=/service-config/iot-home/.ipython/sqlite_db_file.lock\u001b[0m\n",
      "iot        479  0.0  0.0   5748  2920 pts/1    Ss+  Jul16   0:01 /bin/bash\u001b[0m\n",
      "iot       1471 17.5  0.7 635532 58640 ?        Ssl  09:50   0:03 /usr/local/bin/python -m iot_kernel -f /service-config/iot-home/.local/share/jupyter/runtime/kernel-462dd11f-a6e3-44a6-996d-2530196d7be0.json\u001b[0m\n",
      "root      1502  0.0  0.0  19676  2232 ?        S    09:50   0:00 /lib/systemd/systemd-udevd --daemon\u001b[0m\n",
      "root      1503  0.0  0.0  19676  2232 ?        S    09:50   0:00 /lib/systemd/systemd-udevd --daemon\u001b[0m\n",
      "root      1504  0.0  0.0  19676  2232 ?        S    09:50   0:00 /lib/systemd/systemd-udevd --daemon\u001b[0m\n",
      "root      1505  0.0  0.0  19676  2232 ?        S    09:50   0:00 /lib/systemd/systemd-udevd --daemon\u001b[0m\n",
      "root      1506  0.0  0.0  19676  2232 ?        S    09:50   0:00 /lib/systemd/systemd-udevd --daemon\u001b[0m\n",
      "root      1507  0.0  0.0  19676  2232 ?        S    09:50   0:00 /lib/systemd/systemd-udevd --daemon\u001b[0m\n",
      "root      1508  0.0  0.0  19676  2232 ?        S    09:50   0:00 /lib/systemd/systemd-udevd --daemon\u001b[0m\n",
      "root      1509  0.0  0.0  19676  2232 ?        S    09:50   0:00 /lib/systemd/systemd-udevd --daemon\u001b[0m\n",
      "root      1510  0.0  0.0  19676  2232 ?        S    09:50   0:00 /lib/systemd/systemd-udevd --daemon\u001b[0m\n",
      "iot       1511  0.0  0.0   2384   752 ?        S    09:50   0:00 /bin/sh -c ps -ugxa\u001b[0m\n",
      "iot       1512  0.0  0.0   9388  2928 ?        R    09:50   0:00 ps -ugxa\u001b[0m\n"
     ]
    }
   ],
   "source": [
    "%%bash\n",
    "\n",
    "ps -ugxa"
   ]
  },
  {
   "cell_type": "code",
   "execution_count": null,
   "id": "0e7fc221-ef54-4df0-82ab-418681357e77",
   "metadata": {},
   "outputs": [],
   "source": []
  }
 ],
 "metadata": {
  "kernelspec": {
   "display_name": "IoT",
   "language": "python",
   "name": "iot_kernel"
  },
  "language_info": {
   "codemirror_mode": {
    "name": "python",
    "version": 3
   },
   "file_extension": ".py",
   "mimetype": "text/x-python",
   "name": "python",
   "pygments_lexer": "python3",
   "version": "3"
  }
 },
 "nbformat": 4,
 "nbformat_minor": 5
}
