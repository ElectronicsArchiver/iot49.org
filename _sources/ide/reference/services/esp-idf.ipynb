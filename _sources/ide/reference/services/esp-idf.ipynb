{
 "cells": [
  {
   "cell_type": "markdown",
   "id": "b4ff729d-51b0-4219-acb2-ff4a76b77aa2",
   "metadata": {},
   "source": [
    "# [ESP IDF](https://docs.espressif.com/projects/esp-idf/en/latest/esp32/get-started/index.html)\n",
    "\n",
    "**Note:** No version for 64-bit Linux, see error below\n",
    "\n",
    "```\n",
    "ERROR: tool xtensa-esp32-elf does not have versions compatible with platform linux-arm64\n",
    "```"
   ]
  },
  {
   "cell_type": "code",
   "execution_count": 1,
   "id": "fde5e3d1-21e4-40f9-8d47-a342aa7d515c",
   "metadata": {
    "tags": [
     "hide-output"
    ]
   },
   "outputs": [
    {
     "name": "stdout",
     "output_type": "stream",
     "text": [
      "\u001b[0m\u001b[0m"
     ]
    },
    {
     "name": "stderr",
     "output_type": "stream",
     "text": [
      "Cloning into 'esp-idf'...\n",
      "Checking out files: 100% (8739/8739), done.Checking out files:  26% (2273/8739)   Checking out files:  27% (2360/8739)   Checking out files:  28% (2447/8739)   Checking out files:  29% (2535/8739)   Checking out files:  30% (2622/8739)   Checking out files:  31% (2710/8739)   Checking out files:  32% (2797/8739)   Checking out files:  33% (2884/8739)   Checking out files:  34% (2972/8739)   Checking out files:  35% (3059/8739)   Checking out files:  36% (3147/8739)   Checking out files:  37% (3234/8739)   Checking out files:  38% (3321/8739)   Checking out files:  39% (3409/8739)   Checking out files:  40% (3496/8739)   Checking out files:  41% (3583/8739)   Checking out files:  42% (3671/8739)   Checking out files:  43% (3758/8739)   Checking out files:  44% (3846/8739)   Checking out files:  45% (3933/8739)   Checking out files:  46% (4020/8739)   Checking out files:  47% (4108/8739)   Checking out files:  48% (4195/8739)   Checking out files:  49% (4283/8739)   Checking out files:  50% (4370/8739)   Checking out files:  50% (4377/8739)   Checking out files:  51% (4457/8739)   Checking out files:  52% (4545/8739)   Checking out files:  53% (4632/8739)   Checking out files:  54% (4720/8739)   Checking out files:  55% (4807/8739)   Checking out files:  56% (4894/8739)   Checking out files:  57% (4982/8739)   Checking out files:  58% (5069/8739)   Checking out files:  59% (5157/8739)   Checking out files:  60% (5244/8739)   Checking out files:  61% (5331/8739)   Checking out files:  62% (5419/8739)   Checking out files:  63% (5506/8739)   Checking out files:  64% (5593/8739)   Checking out files:  65% (5681/8739)   Checking out files:  66% (5768/8739)   Checking out files:  67% (5856/8739)   Checking out files:  68% (5943/8739)   Checking out files:  69% (6030/8739)   Checking out files:  70% (6118/8739)   Checking out files:  71% (6205/8739)   Checking out files:  72% (6293/8739)   Checking out files:  73% (6380/8739)   Checking out files:  74% (6467/8739)   Checking out files:  75% (6555/8739)   Checking out files:  76% (6642/8739)   Checking out files:  77% (6730/8739)   Checking out files:  77% (6784/8739)   Checking out files:  78% (6817/8739)   Checking out files:  79% (6904/8739)   Checking out files:  80% (6992/8739)   Checking out files:  81% (7079/8739)   Checking out files:  82% (7166/8739)   Checking out files:  83% (7254/8739)   Checking out files:  84% (7341/8739)   Checking out files:  85% (7429/8739)   Checking out files:  86% (7516/8739)   Checking out files:  87% (7603/8739)   Checking out files:  88% (7691/8739)   Checking out files:  89% (7778/8739)   Checking out files:  90% (7866/8739)   Checking out files:  91% (7953/8739)   Checking out files:  92% (8040/8739)   Checking out files:  93% (8128/8739)   Checking out files:  94% (8215/8739)   Checking out files:  95% (8303/8739)   Checking out files:  96% (8390/8739)   Checking out files:  97% (8477/8739)   Checking out files:  98% (8565/8739)   Checking out files:  99% (8652/8739)   Checking out files: 100% (8739/8739)   \n",
      "\u001b[0mSubmodule 'components/asio/asio' (https://github.com/espressif/asio.git) registered for path 'components/asio/asio'\n",
      "\u001b[0mSubmodule 'components/bootloader/subproject/components/micro-ecc/micro-ecc' (https://github.com/kmackay/micro-ecc.git) registered for path 'components/bootloader/subproject/components/micro-ecc/micro-ecc'\n",
      "\u001b[0mSubmodule 'components/bt/controller/lib_esp32' (https://github.com/espressif/esp32-bt-lib.git) registered for path 'components/bt/controller/lib_esp32'\n",
      "\u001b[0mSubmodule 'components/bt/controller/lib_esp32c3_family' (https://github.com/espressif/esp32c3-bt-lib.git) registered for path 'components/bt/controller/lib_esp32c3_family'\n",
      "Submodule 'components/bt/host/nimble/nimble' (https://github.com/espressif/esp-nimble.git) registered for path 'components/bt/host/nimble/nimble'\n",
      "\u001b[0mSubmodule 'components/cbor/tinycbor' (https://github.com/intel/tinycbor.git) registered for path 'components/cbor/tinycbor'\n",
      "Submodule 'components/cmock/CMock' (https://github.com/ThrowTheSwitch/CMock.git) registered for path 'components/cmock/CMock'\n",
      "Submodule 'components/coap/libcoap' (https://github.com/obgm/libcoap.git) registered for path 'components/coap/libcoap'\n",
      "Submodule 'components/esp_phy/lib' (https://github.com/espressif/esp-phy-lib.git) registered for path 'components/esp_phy/lib'\n",
      "\u001b[0mSubmodule 'components/esp_wifi/lib' (https://github.com/espressif/esp32-wifi-lib.git) registered for path 'components/esp_wifi/lib'\n",
      "\u001b[0mSubmodule 'components/esptool_py/esptool' (https://github.com/espressif/esptool.git) registered for path 'components/esptool_py/esptool'\n",
      "\u001b[0mSubmodule 'components/expat/expat' (https://github.com/libexpat/libexpat.git) registered for path 'components/expat/expat'\n",
      "\u001b[0mSubmodule 'components/json/cJSON' (https://github.com/DaveGamble/cJSON.git) registered for path 'components/json/cJSON'\n",
      "Submodule 'components/libsodium/libsodium' (https://github.com/jedisct1/libsodium.git) registered for path 'components/libsodium/libsodium'\n",
      "Submodule 'components/lwip/lwip' (https://github.com/espressif/esp-lwip.git) registered for path 'components/lwip/lwip'\n",
      "Submodule 'components/mbedtls/mbedtls' (https://github.com/espressif/mbedtls.git) registered for path 'components/mbedtls/mbedtls'\n",
      "Submodule 'components/mqtt/esp-mqtt' (https://github.com/espressif/esp-mqtt.git) registered for path 'components/mqtt/esp-mqtt'\n",
      "Submodule 'components/nghttp/nghttp2' (https://github.com/nghttp2/nghttp2.git) registered for path 'components/nghttp/nghttp2'\n",
      "Submodule 'components/openthread/openthread' (https://github.com/espressif/openthread.git) registered for path 'components/openthread/openthread'\n",
      "Submodule 'components/protobuf-c/protobuf-c' (https://github.com/protobuf-c/protobuf-c.git) registered for path 'components/protobuf-c/protobuf-c'\n",
      "Submodule 'components/spiffs/spiffs' (https://github.com/pellepl/spiffs.git) registered for path 'components/spiffs/spiffs'\n",
      "Submodule 'components/tinyusb/tinyusb' (https://github.com/espressif/tinyusb.git) registered for path 'components/tinyusb/tinyusb'\n",
      "Submodule 'components/unity/unity' (https://github.com/ThrowTheSwitch/Unity.git) registered for path 'components/unity/unity'\n",
      "\u001b[0mSubmodule 'examples/build_system/cmake/import_lib/main/lib/tinyxml2' (https://github.com/leethomason/tinyxml2.git) registered for path 'examples/build_system/cmake/import_lib/main/lib/tinyxml2'\n",
      "Submodule 'examples/peripherals/secure_element/atecc608_ecdsa/components/esp-cryptoauthlib' (https://github.com/espressif/esp-cryptoauthlib.git) registered for path 'examples/peripherals/secure_element/atecc608_ecdsa/components/esp-cryptoauthlib'\n",
      "Cloning into '/home/iot/scratch/esp/esp-idf/components/asio/asio'...\n",
      "\u001b[0mCloning into '/home/iot/scratch/esp/esp-idf/components/bt/controller/lib_esp32c3_family'...\n",
      "Cloning into '/home/iot/scratch/esp/esp-idf/components/bootloader/subproject/components/micro-ecc/micro-ecc'...\n",
      "Cloning into '/home/iot/scratch/esp/esp-idf/components/cbor/tinycbor'...\n",
      "Cloning into '/home/iot/scratch/esp/esp-idf/components/bt/controller/lib_esp32'...\n",
      "\u001b[0mCloning into '/home/iot/scratch/esp/esp-idf/components/cmock/CMock'...\n",
      "\u001b[0mCloning into '/home/iot/scratch/esp/esp-idf/components/coap/libcoap'...\n",
      "\u001b[0mCloning into '/home/iot/scratch/esp/esp-idf/components/esp_phy/lib'...\n",
      "Cloning into '/home/iot/scratch/esp/esp-idf/components/bt/host/nimble/nimble'...\n",
      "\u001b[0mCloning into '/home/iot/scratch/esp/esp-idf/components/expat/expat'...\n",
      "\u001b[0mCloning into '/home/iot/scratch/esp/esp-idf/components/esptool_py/esptool'...\n",
      "\u001b[0mCloning into '/home/iot/scratch/esp/esp-idf/components/esp_wifi/lib'...\n",
      "\u001b[0mCloning into '/home/iot/scratch/esp/esp-idf/components/json/cJSON'...\n",
      "Cloning into '/home/iot/scratch/esp/esp-idf/components/libsodium/libsodium'...\n",
      "Cloning into '/home/iot/scratch/esp/esp-idf/components/mqtt/esp-mqtt'...\n",
      "Cloning into '/home/iot/scratch/esp/esp-idf/components/lwip/lwip'...\n",
      "Cloning into '/home/iot/scratch/esp/esp-idf/components/mbedtls/mbedtls'...\n",
      "Cloning into '/home/iot/scratch/esp/esp-idf/components/protobuf-c/protobuf-c'...\n",
      "Cloning into '/home/iot/scratch/esp/esp-idf/components/nghttp/nghttp2'...\n",
      "Cloning into '/home/iot/scratch/esp/esp-idf/components/spiffs/spiffs'...\n",
      "Cloning into '/home/iot/scratch/esp/esp-idf/components/unity/unity'...\n",
      "Cloning into '/home/iot/scratch/esp/esp-idf/examples/build_system/cmake/import_lib/main/lib/tinyxml2'...\n",
      "\u001b[0mCloning into '/home/iot/scratch/esp/esp-idf/examples/peripherals/secure_element/atecc608_ecdsa/components/esp-cryptoauthlib'...\n",
      "\u001b[0mCloning into '/home/iot/scratch/esp/esp-idf/components/tinyusb/tinyusb'...\n",
      "\u001b[0mCloning into '/home/iot/scratch/esp/esp-idf/components/openthread/openthread'...\n",
      "\u001b[0m"
     ]
    },
    {
     "name": "stdout",
     "output_type": "stream",
     "text": [
      "Submodule path 'components/asio/asio': checked out 'f31694c9f1746ba189a4bcae2e34db15135ddb22'\n",
      "\u001b[0mSubmodule path 'components/bootloader/subproject/components/micro-ecc/micro-ecc': checked out 'd037ec89546fad14b5c4d5456c2e23a71e554966'\n",
      "\u001b[0mSubmodule path 'components/bt/controller/lib_esp32': checked out 'b5b115873cc84ab1114409a23e6ce13edeef39ae'\n",
      "\u001b[0mSubmodule path 'components/bt/controller/lib_esp32c3_family': checked out '4b93865b52ab92f0b7777ed415b6598b96ac1d6d'\n",
      "\u001b[0mSubmodule path 'components/bt/host/nimble/nimble': checked out '5bb7b402275210ed6f97fe4bd6e452bf0f659452'\n",
      "\u001b[0mSubmodule path 'components/cbor/tinycbor': checked out '7c349dbb6b8d76db39383b226d3ebdf59b8ab37d'\n",
      "\u001b[0mSubmodule path 'components/cmock/CMock': checked out 'eeecc49ce8af123cf8ad40efdb9673e37b56230f'\n",
      "\u001b[0m"
     ]
    },
    {
     "name": "stderr",
     "output_type": "stream",
     "text": [
      "Submodule 'vendor/c_exception' (https://github.com/throwtheswitch/cexception.git) registered for path 'components/cmock/CMock/vendor/c_exception'\n",
      "\u001b[0mSubmodule 'vendor/unity' (https://github.com/throwtheswitch/unity.git) registered for path 'components/cmock/CMock/vendor/unity'\n",
      "\u001b[0mCloning into '/home/iot/scratch/esp/esp-idf/components/cmock/CMock/vendor/c_exception'...\n",
      "\u001b[0mCloning into '/home/iot/scratch/esp/esp-idf/components/cmock/CMock/vendor/unity'...\n",
      "\u001b[0m"
     ]
    },
    {
     "name": "stdout",
     "output_type": "stream",
     "text": [
      "Submodule path 'components/cmock/CMock/vendor/c_exception': checked out '71b47be7c950f1bf5f7e5303779fa99a16224bb6'\n",
      "\u001b[0mSubmodule path 'components/cmock/CMock/vendor/unity': checked out 'cf949f45ca6d172a177b00da21310607b97bc7a7'\n",
      "\u001b[0mSubmodule path 'components/coap/libcoap': checked out '98954eb30a2e728e172a6cd29430ae5bc999b585'\n",
      "\u001b[0m"
     ]
    },
    {
     "name": "stderr",
     "output_type": "stream",
     "text": [
      "Submodule 'ext/tinydtls' (https://github.com/eclipse/tinydtls.git) registered for path 'components/coap/libcoap/ext/tinydtls'\n",
      "\u001b[0mCloning into '/home/iot/scratch/esp/esp-idf/components/coap/libcoap/ext/tinydtls'...\n",
      "\u001b[0m"
     ]
    },
    {
     "name": "stdout",
     "output_type": "stream",
     "text": [
      "Submodule path 'components/coap/libcoap/ext/tinydtls': checked out '7f8c86e501e690301630029fa9bae22424adf618'\n",
      "\u001b[0mSubmodule path 'components/esp_phy/lib': checked out 'f2c056340505399429dbc8792e7109b7c69f5d77'\n",
      "\u001b[0mSubmodule path 'components/esp_wifi/lib': checked out 'ebd0bc737e7dee849118df65ff294312c9141f91'\n",
      "\u001b[0mSubmodule path 'components/esptool_py/esptool': checked out '1c9fe7059738ecd8e2b77c66cf7e2be73e566c16'\n",
      "\u001b[0mSubmodule path 'components/expat/expat': checked out 'a28238bdeebc087071777001245df1876a11f5ee'\n",
      "\u001b[0mSubmodule path 'components/json/cJSON': checked out 'd2735278ed1c2e4556f53a7a782063b31331dbf7'\n",
      "\u001b[0mSubmodule path 'components/libsodium/libsodium': checked out '4f5e89fa84ce1d178a6765b8b46f2b6f91216677'\n",
      "\u001b[0mSubmodule path 'components/lwip/lwip': checked out '2195f7416fb3136831babf3e96c027a73075bd4f'\n",
      "\u001b[0mSubmodule path 'components/mbedtls/mbedtls': checked out '99c88bb7bd7c2d91c6873abd6e6d5ee04f4f164c'\n",
      "\u001b[0mSubmodule path 'components/mqtt/esp-mqtt': checked out 'f10321a53b53a146ee299cfecc320b89c0cf6611'\n",
      "\u001b[0mSubmodule path 'components/nghttp/nghttp2': checked out '8f7b008b158e12de0e58247afd170f127dbb6456'\n",
      "\u001b[0m"
     ]
    },
    {
     "name": "stderr",
     "output_type": "stream",
     "text": [
      "Submodule 'third-party/mruby' (https://github.com/mruby/mruby) registered for path 'components/nghttp/nghttp2/third-party/mruby'\n",
      "\u001b[0mSubmodule 'third-party/neverbleed' (https://github.com/tatsuhiro-t/neverbleed.git) registered for path 'components/nghttp/nghttp2/third-party/neverbleed'\n",
      "\u001b[0mCloning into '/home/iot/scratch/esp/esp-idf/components/nghttp/nghttp2/third-party/mruby'...\n",
      "\u001b[0mCloning into '/home/iot/scratch/esp/esp-idf/components/nghttp/nghttp2/third-party/neverbleed'...\n",
      "\u001b[0m"
     ]
    },
    {
     "name": "stdout",
     "output_type": "stream",
     "text": [
      "Submodule path 'components/nghttp/nghttp2/third-party/mruby': checked out '7c91efc1ffda769a5f1a872c646c82b00698f1b8'\n",
      "\u001b[0mSubmodule path 'components/nghttp/nghttp2/third-party/neverbleed': checked out 'b967ca054f48a36f82d8fcdd32e54ec5144f2751'\n",
      "\u001b[0mSubmodule path 'components/openthread/openthread': checked out 'd16edaa5ef73e9139ac9c9d3b71981bf21a5de17'\n",
      "\u001b[0mSubmodule path 'components/protobuf-c/protobuf-c': checked out 'dac1a65feac4ad72f612aab99f487056fbcf5c1a'\n",
      "\u001b[0mSubmodule path 'components/spiffs/spiffs': checked out 'f5e26c4e933189593a71c6b82cda381a7b21e41c'\n",
      "\u001b[0mSubmodule path 'components/tinyusb/tinyusb': checked out 'c4badd394eda18199c0196ed0be1e2d635f0a5f6'\n",
      "\u001b[0mSubmodule path 'components/unity/unity': checked out '7d2bf62b7e6afaf38153041a9d53c21aeeca9a25'\n",
      "\u001b[0mSubmodule path 'examples/build_system/cmake/import_lib/main/lib/tinyxml2': checked out '7e8e249990ec491ec15990cf95b6d871a66cf64a'\n",
      "\u001b[0mSubmodule path 'examples/peripherals/secure_element/atecc608_ecdsa/components/esp-cryptoauthlib': checked out 'bb672b0437485fc7420add178299631692b15ac3'\n",
      "\u001b[0m"
     ]
    }
   ],
   "source": [
    "%%service esp-idf\n",
    "\n",
    "mkdir -p scratch/esp\n",
    "cd scratch/esp\n",
    "git clone --recursive https://github.com/espressif/esp-idf.git"
   ]
  },
  {
   "cell_type": "code",
   "execution_count": 1,
   "id": "84648a7e-f732-4fff-a8a9-79e08f6f503d",
   "metadata": {},
   "outputs": [
    {
     "name": "stdout",
     "output_type": "stream",
     "text": [
      "\u001b[0m\u001b[0mDetecting the Python interpreter\n",
      "\u001b[0mChecking \"python\" ...\n",
      "\u001b[0mPython 3.8.10\n",
      "\u001b[0m\"python\" has been detected\n",
      "Installing ESP-IDF tools\n",
      "\u001b[0mInstalling tools: xtensa-esp32-elf, xtensa-esp32s2-elf, xtensa-esp32s3-elf, riscv32-esp-elf, esp32ulp-elf, esp32s2ulp-elf, openocd-esp32\n",
      "\u001b[0m"
     ]
    },
    {
     "name": "stderr",
     "output_type": "stream",
     "text": [
      "ERROR: tool xtensa-esp32-elf does not have versions compatible with platform linux-arm64\n",
      "\u001b[0m"
     ]
    }
   ],
   "source": [
    "%%service esp-idf\n",
    "\n",
    "cd scratch/esp/esp-idf\n",
    "./install.sh"
   ]
  },
  {
   "cell_type": "code",
   "execution_count": null,
   "id": "101d4201-2d85-4745-a49b-4afa022b3e7b",
   "metadata": {},
   "outputs": [],
   "source": []
  }
 ],
 "metadata": {
  "kernelspec": {
   "display_name": "IoT",
   "language": "python",
   "name": "iot_kernel"
  },
  "language_info": {
   "codemirror_mode": {
    "name": "python",
    "version": 3
   },
   "file_extension": ".py",
   "mimetype": "text/x-python",
   "name": "python",
   "pygments_lexer": "python3",
   "version": "3"
  }
 },
 "nbformat": 4,
 "nbformat_minor": 5
}
