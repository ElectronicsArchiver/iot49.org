{
 "cells": [
  {
   "cell_type": "markdown",
   "id": "b4ff729d-51b0-4219-acb2-ff4a76b77aa2",
   "metadata": {},
   "source": [
    "# [ESP IDF](https://docs.espressif.com/projects/esp-idf/en/latest/esp32/get-started/index.html)\n",
    "\n",
    "**Note:** No version for 64-bit Linux, see below:"
   ]
  },
  {
   "cell_type": "code",
   "execution_count": null,
   "id": "fde5e3d1-21e4-40f9-8d47-a342aa7d515c",
   "metadata": {
    "tags": [
     "hide-output"
    ]
   },
   "outputs": [
    {
     "name": "stdout",
     "output_type": "stream",
     "text": [
      "\u001b[0m\u001b[0m"
     ]
    },
    {
     "name": "stderr",
     "output_type": "stream",
     "text": [
      "Cloning into 'esp-idf'...\n",
      "Checking out files: 100% (8739/8739), done.Checking out files:  26% (2273/8739)   Checking out files:  27% (2360/8739)   Checking out files:  28% (2447/8739)   Checking out files:  29% (2535/8739)   Checking out files:  30% (2622/8739)   Checking out files:  31% (2710/8739)   Checking out files:  32% (2797/8739)   Checking out files:  33% (2884/8739)   Checking out files:  34% (2972/8739)   Checking out files:  35% (3059/8739)   Checking out files:  36% (3147/8739)   Checking out files:  37% (3234/8739)   Checking out files:  38% (3321/8739)   Checking out files:  39% (3409/8739)   Checking out files:  40% (3496/8739)   Checking out files:  41% (3583/8739)   Checking out files:  42% (3671/8739)   Checking out files:  43% (3758/8739)   Checking out files:  44% (3846/8739)   Checking out files:  45% (3933/8739)   Checking out files:  46% (4020/8739)   Checking out files:  47% (4108/8739)   Checking out files:  48% (4195/8739)   Checking out files:  49% (4283/8739)   Checking out files:  50% (4370/8739)   Checking out files:  50% (4377/8739)   Checking out files:  51% (4457/8739)   Checking out files:  52% (4545/8739)   Checking out files:  53% (4632/8739)   Checking out files:  54% (4720/8739)   Checking out files:  55% (4807/8739)   Checking out files:  56% (4894/8739)   Checking out files:  57% (4982/8739)   Checking out files:  58% (5069/8739)   Checking out files:  59% (5157/8739)   Checking out files:  60% (5244/8739)   Checking out files:  61% (5331/8739)   Checking out files:  62% (5419/8739)   Checking out files:  63% (5506/8739)   Checking out files:  64% (5593/8739)   Checking out files:  65% (5681/8739)   Checking out files:  66% (5768/8739)   Checking out files:  67% (5856/8739)   Checking out files:  68% (5943/8739)   Checking out files:  69% (6030/8739)   Checking out files:  70% (6118/8739)   Checking out files:  71% (6205/8739)   Checking out files:  72% (6293/8739)   Checking out files:  73% (6380/8739)   Checking out files:  74% (6467/8739)   Checking out files:  75% (6555/8739)   Checking out files:  76% (6642/8739)   Checking out files:  77% (6730/8739)   Checking out files:  77% (6784/8739)   Checking out files:  78% (6817/8739)   Checking out files:  79% (6904/8739)   Checking out files:  80% (6992/8739)   Checking out files:  81% (7079/8739)   Checking out files:  82% (7166/8739)   Checking out files:  83% (7254/8739)   Checking out files:  84% (7341/8739)   Checking out files:  85% (7429/8739)   Checking out files:  86% (7516/8739)   Checking out files:  87% (7603/8739)   Checking out files:  88% (7691/8739)   Checking out files:  89% (7778/8739)   Checking out files:  90% (7866/8739)   Checking out files:  91% (7953/8739)   Checking out files:  92% (8040/8739)   Checking out files:  93% (8128/8739)   Checking out files:  94% (8215/8739)   Checking out files:  95% (8303/8739)   Checking out files:  96% (8390/8739)   Checking out files:  97% (8477/8739)   Checking out files:  98% (8565/8739)   Checking out files:  99% (8652/8739)   Checking out files: 100% (8739/8739)   \n",
      "\u001b[0mSubmodule 'components/asio/asio' (https://github.com/espressif/asio.git) registered for path 'components/asio/asio'\n",
      "\u001b[0mSubmodule 'components/bootloader/subproject/components/micro-ecc/micro-ecc' (https://github.com/kmackay/micro-ecc.git) registered for path 'components/bootloader/subproject/components/micro-ecc/micro-ecc'\n",
      "\u001b[0mSubmodule 'components/bt/controller/lib_esp32' (https://github.com/espressif/esp32-bt-lib.git) registered for path 'components/bt/controller/lib_esp32'\n",
      "\u001b[0mSubmodule 'components/bt/controller/lib_esp32c3_family' (https://github.com/espressif/esp32c3-bt-lib.git) registered for path 'components/bt/controller/lib_esp32c3_family'\n",
      "Submodule 'components/bt/host/nimble/nimble' (https://github.com/espressif/esp-nimble.git) registered for path 'components/bt/host/nimble/nimble'\n",
      "\u001b[0mSubmodule 'components/cbor/tinycbor' (https://github.com/intel/tinycbor.git) registered for path 'components/cbor/tinycbor'\n",
      "Submodule 'components/cmock/CMock' (https://github.com/ThrowTheSwitch/CMock.git) registered for path 'components/cmock/CMock'\n",
      "Submodule 'components/coap/libcoap' (https://github.com/obgm/libcoap.git) registered for path 'components/coap/libcoap'\n",
      "Submodule 'components/esp_phy/lib' (https://github.com/espressif/esp-phy-lib.git) registered for path 'components/esp_phy/lib'\n",
      "\u001b[0mSubmodule 'components/esp_wifi/lib' (https://github.com/espressif/esp32-wifi-lib.git) registered for path 'components/esp_wifi/lib'\n",
      "\u001b[0mSubmodule 'components/esptool_py/esptool' (https://github.com/espressif/esptool.git) registered for path 'components/esptool_py/esptool'\n",
      "\u001b[0mSubmodule 'components/expat/expat' (https://github.com/libexpat/libexpat.git) registered for path 'components/expat/expat'\n",
      "\u001b[0mSubmodule 'components/json/cJSON' (https://github.com/DaveGamble/cJSON.git) registered for path 'components/json/cJSON'\n",
      "Submodule 'components/libsodium/libsodium' (https://github.com/jedisct1/libsodium.git) registered for path 'components/libsodium/libsodium'\n",
      "Submodule 'components/lwip/lwip' (https://github.com/espressif/esp-lwip.git) registered for path 'components/lwip/lwip'\n",
      "Submodule 'components/mbedtls/mbedtls' (https://github.com/espressif/mbedtls.git) registered for path 'components/mbedtls/mbedtls'\n",
      "Submodule 'components/mqtt/esp-mqtt' (https://github.com/espressif/esp-mqtt.git) registered for path 'components/mqtt/esp-mqtt'\n",
      "Submodule 'components/nghttp/nghttp2' (https://github.com/nghttp2/nghttp2.git) registered for path 'components/nghttp/nghttp2'\n",
      "Submodule 'components/openthread/openthread' (https://github.com/espressif/openthread.git) registered for path 'components/openthread/openthread'\n",
      "Submodule 'components/protobuf-c/protobuf-c' (https://github.com/protobuf-c/protobuf-c.git) registered for path 'components/protobuf-c/protobuf-c'\n",
      "Submodule 'components/spiffs/spiffs' (https://github.com/pellepl/spiffs.git) registered for path 'components/spiffs/spiffs'\n",
      "Submodule 'components/tinyusb/tinyusb' (https://github.com/espressif/tinyusb.git) registered for path 'components/tinyusb/tinyusb'\n",
      "Submodule 'components/unity/unity' (https://github.com/ThrowTheSwitch/Unity.git) registered for path 'components/unity/unity'\n",
      "\u001b[0mSubmodule 'examples/build_system/cmake/import_lib/main/lib/tinyxml2' (https://github.com/leethomason/tinyxml2.git) registered for path 'examples/build_system/cmake/import_lib/main/lib/tinyxml2'\n",
      "Submodule 'examples/peripherals/secure_element/atecc608_ecdsa/components/esp-cryptoauthlib' (https://github.com/espressif/esp-cryptoauthlib.git) registered for path 'examples/peripherals/secure_element/atecc608_ecdsa/components/esp-cryptoauthlib'\n",
      "Cloning into '/home/iot/scratch/esp/esp-idf/components/asio/asio'...\n",
      "\u001b[0mCloning into '/home/iot/scratch/esp/esp-idf/components/bt/controller/lib_esp32c3_family'...\n",
      "Cloning into '/home/iot/scratch/esp/esp-idf/components/bootloader/subproject/components/micro-ecc/micro-ecc'...\n",
      "Cloning into '/home/iot/scratch/esp/esp-idf/components/cbor/tinycbor'...\n",
      "Cloning into '/home/iot/scratch/esp/esp-idf/components/bt/controller/lib_esp32'...\n",
      "\u001b[0mCloning into '/home/iot/scratch/esp/esp-idf/components/cmock/CMock'...\n",
      "\u001b[0mCloning into '/home/iot/scratch/esp/esp-idf/components/coap/libcoap'...\n",
      "\u001b[0mCloning into '/home/iot/scratch/esp/esp-idf/components/esp_phy/lib'...\n",
      "Cloning into '/home/iot/scratch/esp/esp-idf/components/bt/host/nimble/nimble'...\n",
      "\u001b[0mCloning into '/home/iot/scratch/esp/esp-idf/components/expat/expat'...\n",
      "\u001b[0mCloning into '/home/iot/scratch/esp/esp-idf/components/esptool_py/esptool'...\n",
      "\u001b[0mCloning into '/home/iot/scratch/esp/esp-idf/components/esp_wifi/lib'...\n",
      "\u001b[0m"
     ]
    }
   ],
   "source": [
    "%%service esp-idf\n",
    "\n",
    "mkdir -p scratch/esp\n",
    "cd scratch/esp\n",
    "git clone --recursive https://github.com/espressif/esp-idf.git"
   ]
  },
  {
   "cell_type": "code",
   "execution_count": null,
   "id": "84648a7e-f732-4fff-a8a9-79e08f6f503d",
   "metadata": {},
   "outputs": [],
   "source": [
    "%%service esp-idf\n",
    "\n",
    "cd scratch/esp/esp-idf\n",
    "./install.sh"
   ]
  }
 ],
 "metadata": {
  "kernelspec": {
   "display_name": "IoT",
   "language": "python",
   "name": "iot_kernel"
  },
  "language_info": {
   "codemirror_mode": {
    "name": "python",
    "version": 3
   },
   "file_extension": ".py",
   "mimetype": "text/x-python",
   "name": "python",
   "pygments_lexer": "python3",
   "version": "3"
  }
 },
 "nbformat": 4,
 "nbformat_minor": 5
}
