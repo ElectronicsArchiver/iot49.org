{
 "cells": [
  {
   "cell_type": "markdown",
   "id": "fe49062c-09f1-4104-9a82-e46eed2839f4",
   "metadata": {},
   "source": [
    "# GCC"
   ]
  },
  {
   "cell_type": "markdown",
   "id": "e6bdbbe1-5670-443f-be8a-1aa17a22cce5",
   "metadata": {},
   "source": [
    "A [32-bit ARM cross compiler](https://developer.arm.com/tools-and-software/open-source-software/developer-tools/gnu-toolchain/gnu-rm) for building MicroPython."
   ]
  },
  {
   "cell_type": "code",
   "execution_count": null,
   "id": "07261d3c-c830-4346-bc41-8afd860b7d38",
   "metadata": {},
   "outputs": [],
   "source": []
  }
 ],
 "metadata": {
  "kernelspec": {
   "display_name": "IoT",
   "language": "python",
   "name": "iot_kernel"
  },
  "language_info": {
   "codemirror_mode": {
    "name": "python",
    "version": 3
   },
   "file_extension": ".py",
   "mimetype": "text/x-python",
   "name": "python",
   "pygments_lexer": "python3",
   "version": "3"
  }
 },
 "nbformat": 4,
 "nbformat_minor": 5
}
