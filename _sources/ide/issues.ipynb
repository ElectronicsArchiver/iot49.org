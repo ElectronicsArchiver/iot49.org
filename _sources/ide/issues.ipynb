{
 "cells": [
  {
   "cell_type": "markdown",
   "id": "9c5a3c49-dc53-4ab0-8451-ba77e2d9a872",
   "metadata": {},
   "source": [
    "# Issues"
   ]
  },
  {
   "cell_type": "markdown",
   "id": "e3097bb4-74f0-4d5f-b341-b0d67b89f202",
   "metadata": {},
   "source": [
    "## No `esp-idf/idf.py` on aarch64\n",
    "\n",
    "IDF not released for 64-Bit Linux. See https://github.com/espressif/esp-idf/issues/6432."
   ]
  },
  {
   "cell_type": "markdown",
   "id": "61ffb87c-ebe9-4ac2-949b-1edadd6f24c3",
   "metadata": {},
   "source": [
    "## Flashing DFU files not working\n",
    "\n",
    "Flashing DFU files (stm32) from the IDE is not working. "
   ]
  },
  {
   "cell_type": "markdown",
   "id": "26bd391c-b406-4890-bb2f-57323107b56b",
   "metadata": {},
   "source": [
    "## mDNS for `.local` domains not working\n",
    "\n",
    "### Workaround\n",
    "\n",
    "This sample code uses the `host` service (which supports mdns) to lookup the IP address and assigns it to the shell environment variable `OUT`:"
   ]
  },
  {
   "cell_type": "code",
   "execution_count": 1,
   "id": "8f0dd9d9-82ef-482e-8852-cb08eec1058b",
   "metadata": {},
   "outputs": [],
   "source": [
    "%%service host --out OUT\n",
    "ping -c 2 pi4server.local | awk -F\"[()]\" '{print $2}'"
   ]
  },
  {
   "cell_type": "code",
   "execution_count": 2,
   "id": "0028ca6e-058c-4884-880f-a687cd5b1856",
   "metadata": {},
   "outputs": [
    {
     "name": "stdout",
     "output_type": "stream",
     "text": [
      "10.39.40.151\n"
     ]
    }
   ],
   "source": [
    "!echo $OUT"
   ]
  },
  {
   "cell_type": "markdown",
   "id": "8ceb4995-54a3-41f2-bb4e-ca75f377445c",
   "metadata": {},
   "source": [
    "Optionally assign to CPython variable:"
   ]
  },
  {
   "cell_type": "code",
   "execution_count": 1,
   "id": "9b76a252-a2d2-4d44-ba3d-83390998429e",
   "metadata": {},
   "outputs": [
    {
     "name": "stdout",
     "output_type": "stream",
     "text": [
      "['10.39.40.151']\n"
     ]
    }
   ],
   "source": [
    "%%host\n",
    "out = !echo $OUT\n",
    "print(out)"
   ]
  },
  {
   "cell_type": "markdown",
   "id": "865c7d81-b8b0-4d19-8f05-875102f0cf12",
   "metadata": {},
   "source": [
    "### Solution?\n",
    "\n",
    "* Discussion: https://forums.balena.io/t/dns-resolver-in-container/341650/3\n",
    "* Proposed solution: https://github.com/balena-io-examples/balena-avahi\n",
    "    * tried in the jupyter container, then it would not start"
   ]
  },
  {
   "cell_type": "code",
   "execution_count": null,
   "id": "15d8f9c8-b949-4df8-817b-cc321144b9f5",
   "metadata": {},
   "outputs": [],
   "source": []
  }
 ],
 "metadata": {
  "kernelspec": {
   "display_name": "Python 3 (ipykernel)",
   "language": "python",
   "name": "python3"
  },
  "language_info": {
   "codemirror_mode": {
    "name": "ipython",
    "version": 3
   },
   "file_extension": ".py",
   "mimetype": "text/x-python",
   "name": "python",
   "nbconvert_exporter": "python",
   "pygments_lexer": "ipython3",
   "version": "3.8.11"
  }
 },
 "nbformat": 4,
 "nbformat_minor": 5
}
