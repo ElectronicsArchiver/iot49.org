{
 "cells": [
  {
   "cell_type": "markdown",
   "id": "9c5a3c49-dc53-4ab0-8451-ba77e2d9a872",
   "metadata": {},
   "source": [
    "# Issues"
   ]
  },
  {
   "cell_type": "markdown",
   "id": "d82b845d-ab22-4575-a2aa-ad8babcf3966",
   "metadata": {},
   "source": [
    "## Jupyter Lab Extensions\n",
    "\n",
    "Installing jupyterlab extensions does not work. They are stored in `/usr/local/share/jupyter/lab` which is owned by the container root. \n",
    "\n",
    "Installing with `--app-dir` does not solve the problem."
   ]
  },
  {
   "cell_type": "code",
   "execution_count": 3,
   "id": "8d0d2648-6154-4193-aa44-795da8ae21f7",
   "metadata": {},
   "outputs": [
    {
     "name": "stdout",
     "output_type": "stream",
     "text": [
      "\u001b[0mApplication directory:   /usr/local/share/jupyter/lab\n",
      "User Settings directory: /home/iot/.jupyter/lab/user-settings\n",
      "Workspaces directory: /home/iot/.jupyter/lab/workspaces\n"
     ]
    }
   ],
   "source": [
    "!jupyter lab paths"
   ]
  },
  {
   "cell_type": "markdown",
   "id": "60957080-9945-43e6-bd6a-52022caabc64",
   "metadata": {},
   "source": [
    "## `armv7hf` (32-Bit ARM) not supported \n",
    "\n",
    "![](figures/arm32_build_fail.png)\n",
    "\n",
    "Apparently bokeh (or paho?) not available:\n",
    "\n",
    "![](figures/arm32_build_fail_detail.png)"
   ]
  },
  {
   "cell_type": "code",
   "execution_count": null,
   "id": "ee8e7570-f1ae-43f9-a4eb-418f158b8270",
   "metadata": {},
   "outputs": [],
   "source": []
  },
  {
   "cell_type": "code",
   "execution_count": null,
   "id": "5fb866ce-ab5d-4e2b-a07f-94fa56fbd320",
   "metadata": {},
   "outputs": [],
   "source": []
  }
 ],
 "metadata": {
  "kernelspec": {
   "display_name": "IoT",
   "language": "python",
   "name": "iot_kernel"
  },
  "language_info": {
   "codemirror_mode": {
    "name": "python",
    "version": 3
   },
   "file_extension": ".py",
   "mimetype": "text/x-python",
   "name": "python",
   "pygments_lexer": "python3",
   "version": "3"
  }
 },
 "nbformat": 4,
 "nbformat_minor": 5
}
