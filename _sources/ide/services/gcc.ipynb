{
 "cells": [
  {
   "cell_type": "markdown",
   "id": "fe49062c-09f1-4104-9a82-e46eed2839f4",
   "metadata": {},
   "source": [
    "# GCC"
   ]
  },
  {
   "cell_type": "markdown",
   "id": "e6bdbbe1-5670-443f-be8a-1aa17a22cce5",
   "metadata": {},
   "source": [
    "An ARM cross compiler for building MicroPython."
   ]
  },
  {
   "cell_type": "code",
   "execution_count": null,
   "id": "912b3a57-a4a8-4a8e-ad13-9e0fcc22c0e5",
   "metadata": {},
   "outputs": [],
   "source": []
  }
 ],
 "metadata": {
  "kernelspec": {
   "display_name": "IoT",
   "language": "python",
   "name": "iot_kernel"
  },
  "language_info": {
   "codemirror_mode": {
    "name": "python",
    "version": 3
   },
   "file_extension": ".py",
   "mimetype": "text/x-python",
   "name": "python",
   "pygments_lexer": "python3",
   "version": "3"
  }
 },
 "nbformat": 4,
 "nbformat_minor": 5
}
