{
 "cells": [
  {
   "cell_type": "markdown",
   "id": "bc78e373-9e08-496b-bcdc-ba4d88b16bba",
   "metadata": {},
   "source": [
    "# Backup"
   ]
  },
  {
   "cell_type": "markdown",
   "id": "d03c401d-8870-434b-a704-c5deffc52610",
   "metadata": {},
   "source": [
    "Backup is a versatile application for backing up files on your Raspberry PI to the cloud or local storage. It is based on [Duplicati](https://www.duplicati.com/).\n",
    "\n",
    "See [configuration](../configuration.ipynb) for setup instructions."
   ]
  },
  {
   "cell_type": "code",
   "execution_count": null,
   "id": "dc1d8c4d-29af-4749-86ce-89066ed18f38",
   "metadata": {},
   "outputs": [],
   "source": []
  }
 ],
 "metadata": {
  "kernelspec": {
   "display_name": "IoT",
   "language": "python",
   "name": "iot_kernel"
  },
  "language_info": {
   "codemirror_mode": {
    "name": "python",
    "version": 3
   },
   "file_extension": ".py",
   "mimetype": "text/x-python",
   "name": "python",
   "pygments_lexer": "python3",
   "version": "3"
  }
 },
 "nbformat": 4,
 "nbformat_minor": 5
}
