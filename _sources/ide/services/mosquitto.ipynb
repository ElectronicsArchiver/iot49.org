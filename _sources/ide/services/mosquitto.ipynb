{
 "cells": [
  {
   "cell_type": "markdown",
   "id": "e5176bd6-4dd5-4860-9cba-58ff01723006",
   "metadata": {},
   "source": [
    "# MQTT"
   ]
  },
  {
   "cell_type": "code",
   "execution_count": null,
   "id": "808df914-1f64-49be-84f5-1e954114d1b8",
   "metadata": {},
   "outputs": [],
   "source": []
  }
 ],
 "metadata": {
  "kernelspec": {
   "display_name": "IoT",
   "language": "python",
   "name": "iot_kernel"
  },
  "language_info": {
   "codemirror_mode": {
    "name": "python",
    "version": 3
   },
   "file_extension": ".py",
   "mimetype": "text/x-python",
   "name": "python",
   "pygments_lexer": "python3",
   "version": "3"
  }
 },
 "nbformat": 4,
 "nbformat_minor": 5
}
