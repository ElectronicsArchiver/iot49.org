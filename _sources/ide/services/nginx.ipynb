{
 "cells": [
  {
   "cell_type": "markdown",
   "id": "a8cfd0bf-493a-4945-9534-691ad9e31b37",
   "metadata": {},
   "source": [
    "# Nginx"
   ]
  },
  {
   "cell_type": "markdown",
   "id": "647127eb-3357-4875-ac35-0ddf18cd9736",
   "metadata": {},
   "source": [
    "Reverse proxy, see `/service-config/nginx/nginx.conf`."
   ]
  },
  {
   "cell_type": "code",
   "execution_count": null,
   "id": "72185626-b000-4200-b1a3-3ed6afc866a1",
   "metadata": {},
   "outputs": [],
   "source": []
  }
 ],
 "metadata": {
  "kernelspec": {
   "display_name": "IoT",
   "language": "python",
   "name": "iot_kernel"
  },
  "language_info": {
   "codemirror_mode": {
    "name": "python",
    "version": 3
   },
   "file_extension": ".py",
   "mimetype": "text/x-python",
   "name": "python",
   "pygments_lexer": "python3",
   "version": "3"
  }
 },
 "nbformat": 4,
 "nbformat_minor": 5
}
