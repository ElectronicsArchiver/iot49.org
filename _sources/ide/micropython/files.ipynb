{
 "cells": [
  {
   "cell_type": "markdown",
   "id": "999690cb-be51-42b9-89f7-7f3e6e4afbe7",
   "metadata": {},
   "source": [
    "# File Management\n",
    "\n",
    "In additional to the usual file operations (`%cp`, `%rm`, etc), the `%rlist`, `%rdiff`, and `%rsync` magics efficiently copy libraries from the host to the microcontroller."
   ]
  },
  {
   "cell_type": "markdown",
   "id": "9ae43b10-e21b-49c6-9cea-1d6e6708cd86",
   "metadata": {},
   "source": [
    "## Environment Variables\n",
    "\n",
    "|    Name      |   Default Value          |  Description   |\n",
    "| ------------ | ------------------------ | :------------- |\n",
    "| IOT          | `~`                      | |\n",
    "| IOT49        | `$IOT/iot49`             | |\n",
    "| IOT_DEVICES  | `./devices:.:$IOT49/devices`        | Locations of [device configuration](device_configuration) yaml files |\n",
    "| IOT_SECRETS  | `./lib/secrets.py:./secrets.py:$IOT49/libs/secrets.py` | Location of [*secrets.py*](secrets), first found |\n",
    "| IOT_LIBS     | `./lib:.:$IOT49/lib`            | Locations of MicroPython libraries |\n"
   ]
  },
  {
   "cell_type": "code",
   "execution_count": 8,
   "id": "c8e41979-d8c2-461a-a242-1f29feb3f8a5",
   "metadata": {},
   "outputs": [
    {
     "name": "stdout",
     "output_type": "stream",
     "text": [
      "\u001b[0m\u001b[0m\u001b[46m\u001b[30mConnected to huzzah32 @ serial:///dev/ttyUSB1\u001b[0m\n",
      "\u001b[0m    139  Dec 31 23:00 1999  \u001b[34mboot.py\u001b[0m\n",
      "\u001b[0m"
     ]
    }
   ],
   "source": [
    "%connect huzzah32\n",
    "\n",
    "# list files on microcontroller\n",
    "%rlist"
   ]
  },
  {
   "cell_type": "code",
   "execution_count": 7,
   "id": "07a2a9b2-0b34-4614-9e53-3828b8e60b11",
   "metadata": {},
   "outputs": [
    {
     "name": "stdout",
     "output_type": "stream",
     "text": [
      "\u001b[0m\u001b[0m# This file is executed on every boot (including wake-boot from deepsleep)\n",
      "#import esp\n",
      "#esp.osdebug(None)\n",
      "#import webrepl\n",
      "#webrepl.start()\n",
      "\u001b[0m\u001b[0m\n"
     ]
    }
   ],
   "source": [
    "%cat boot.py"
   ]
  },
  {
   "cell_type": "code",
   "execution_count": 5,
   "id": "bfeb6aed-3689-4dc6-9ddb-7631de4981b4",
   "metadata": {},
   "outputs": [
    {
     "name": "stdout",
     "output_type": "stream",
     "text": [
      "\u001b[0m\u001b[0m\u001b[32mDirectories match\n",
      "\u001b[0m\u001b[0m"
     ]
    }
   ],
   "source": [
    "# show differences but do not commit any operations\n",
    "%rdiff"
   ]
  },
  {
   "cell_type": "code",
   "execution_count": 5,
   "id": "28926e45-6ac2-45ad-bf04-4f2ab4174642",
   "metadata": {},
   "outputs": [
    {
     "name": "stdout",
     "output_type": "stream",
     "text": [
      "\u001b[0m\u001b[0m\u001b[32mDirectories match\n",
      "\u001b[0m\u001b[0m"
     ]
    }
   ],
   "source": [
    "# synchronize the microcontroller flash to the host\n",
    "# by default, %rsync deletes files on the microcontroller that are not present on the host\n",
    "# specify -u to upload data only\n",
    "\n",
    "%rsync -u"
   ]
  },
  {
   "cell_type": "markdown",
   "id": "57daa54c-bf95-4b9e-b326-69f794605d12",
   "metadata": {},
   "source": [
    "(device_configuration)=\n",
    "## Device Configuration\n",
    "\n",
    "### Simple\n",
    "\n",
    "Save device configurations in [yaml format](https://en.wikipedia.org/wiki/YAML) in `~/iot49/devices`. A simple example:\n",
    "\n",
    "```yaml\n",
    "huzzah32:\n",
    "    uid: 24:0a:c4:12:87:7c\n",
    "    resources:\n",
    "        - pystone.py\n",
    "        - secrets.py\n",
    "        - bno055\n",
    "```\n",
    "\n",
    "Resources is a list of python source files and packages stored in path-like environment variable `IOT_LIBS`."
   ]
  },
  {
   "cell_type": "code",
   "execution_count": 1,
   "id": "13bf7e6e-0f1e-4128-ae56-ddf0cbbad1ec",
   "metadata": {
    "tags": [
     "hide-cell"
    ]
   },
   "outputs": [
    {
     "name": "stdout",
     "output_type": "stream",
     "text": [
      "\u001b[0m\u001b[0m\u001b[46m\u001b[30mConnected to huzzah32 @ serial:///dev/ttyUSB1\u001b[0m\n",
      "\u001b[0m"
     ]
    }
   ],
   "source": [
    "%connect huzzah32\n",
    "\n",
    "# start with a clean slate\n",
    "%rm -rf /lib"
   ]
  },
  {
   "cell_type": "code",
   "execution_count": 1,
   "id": "35d5cd9f-3bc2-4d2c-af56-b015b9ad19eb",
   "metadata": {},
   "outputs": [
    {
     "name": "stdout",
     "output_type": "stream",
     "text": [
      "\u001b[0m\u001b[0m\u001b[32mADD     /lib/bno055/bno055.py\n",
      "\u001b[0m\u001b[0m\u001b[32mADD     /lib/bno055/bno055_base.py\n",
      "\u001b[0m\u001b[0m\u001b[32mADD     /lib/bno055/bno055_test.py\n",
      "\u001b[0m\u001b[0m\u001b[32mADD     /lib/pystone.py\n",
      "\u001b[0m\u001b[0m\u001b[32mADD     /lib/secrets.py\n",
      "\u001b[0m\u001b[0m"
     ]
    }
   ],
   "source": [
    "%rsync"
   ]
  },
  {
   "cell_type": "code",
   "execution_count": 1,
   "id": "49e700da-adcb-4d4a-8f24-066c66919b2a",
   "metadata": {},
   "outputs": [
    {
     "name": "stdout",
     "output_type": "stream",
     "text": [
      "\u001b[0m\u001b[0m                            \u001b[32mlib/\u001b[0m\n",
      "\u001b[0m                                \u001b[32mbno055/\u001b[0m\n",
      "\u001b[0m   6491  Jun 29 18:41 2021          \u001b[34mbno055.py\u001b[0m\n",
      "\u001b[0m   5598  Jun 29 18:41 2021          \u001b[34mbno055_base.py\u001b[0m\n",
      "\u001b[0m   1078  Jun 29 18:41 2021          \u001b[34mbno055_test.py\u001b[0m\n",
      "\u001b[0m   7933  Jun 29 18:41 2021      \u001b[34mpystone.py\u001b[0m\n",
      "\u001b[0m    317  Jun 29 18:41 2021      \u001b[34msecrets.py\u001b[0m\n",
      "\u001b[0m"
     ]
    }
   ],
   "source": [
    "%rlist"
   ]
  },
  {
   "cell_type": "code",
   "execution_count": 1,
   "id": "df8848ea-bb51-4e8c-827f-ce3a1325c132",
   "metadata": {},
   "outputs": [
    {
     "name": "stdout",
     "output_type": "stream",
     "text": [
      "\u001b[0m\u001b[0m\u001b[32mDirectories match\n",
      "\u001b[0m\u001b[0m\u001b[0m\u001b[0m\n",
      "\u001b[46m\u001b[31m!!!!!!!!!!!!!!!!!!!!!!!!!!!!!!!\u001b[0m\n",
      "\u001b[46m\u001b[31m!!!!!   softreset ...     !!!!!\u001b[0m\n",
      "\u001b[46m\u001b[31m!!!!!!!!!!!!!!!!!!!!!!!!!!!!!!!\u001b[0m\n",
      "\u001b[0m\n",
      "Pystone(1.2) time for 2000 passes = 1.968 seconds\n",
      "This machine benchmarks at 1016.26 pystones/second\n",
      "\u001b[0m"
     ]
    }
   ],
   "source": [
    "%rsync\n",
    "%softreset\n",
    "\n",
    "import pystone\n",
    "pystone.main(2000)"
   ]
  },
  {
   "cell_type": "markdown",
   "id": "d1ee0b95-e6ff-493e-84d2-a2290d76e3b4",
   "metadata": {},
   "source": [
    "### Custom Destination\n",
    "\n",
    "By default, resources are installed in the `/lib` folder on the microcontroller. Files like `boot.py` instead go to a special location. Updated configuration:\n",
    "\n",
    "```yaml\n",
    "huzzah32:\n",
    "    uid: 24:0a:c4:12:87:7c\n",
    "    resources:\n",
    "        - esp32:\n",
    "            install-dir: /\n",
    "            unpack: true\n",
    "        - pystone.py\n",
    "        - secrets.py: /\n",
    "        - bno055\n",
    "```\n",
    "\n",
    "`install-dir` overwrites the default (`/lib`) and `unpack` indicates that the resource should not be treated as a package but instead the contents should be uploaded. The default for `unpack` is `false` if `__init__.py` is present, and `false` otherwise.\n",
    "\n",
    "`secrets.py: /` is a shorthand for\n",
    "\n",
    "```yaml\n",
    "- secrets.py:\n",
    "    install-dir: /\n",
    "```"
   ]
  },
  {
   "cell_type": "code",
   "execution_count": 1,
   "id": "0e1869da-d191-4075-b18f-e8166b2db148",
   "metadata": {
    "tags": []
   },
   "outputs": [
    {
     "name": "stdout",
     "output_type": "stream",
     "text": [
      "\u001b[0m\u001b[0m\u001b[34mUPDATE  /boot.py\n",
      "\u001b[0m\u001b[0m\u001b[0m   1787  Jun 29 18:58 2021  \u001b[34mboot.py\u001b[0m\n",
      "\u001b[0m                            \u001b[32mlib/\u001b[0m\n",
      "\u001b[0m                                \u001b[32mbno055/\u001b[0m\n",
      "\u001b[0m   6491  Jun 29 18:41 2021          \u001b[34mbno055.py\u001b[0m\n",
      "\u001b[0m   5598  Jun 29 18:41 2021          \u001b[34mbno055_base.py\u001b[0m\n",
      "\u001b[0m   1078  Jun 29 18:41 2021          \u001b[34mbno055_test.py\u001b[0m\n",
      "\u001b[0m                                \u001b[32mota32/\u001b[0m\n",
      "\u001b[0m     51  Jun 29 18:46 2021          \u001b[34m__init__.py\u001b[0m\n",
      "\u001b[0m   2048  Jun 29 18:46 2021          \u001b[34mopen_url.py\u001b[0m\n",
      "\u001b[0m   3489  Jun 29 18:46 2021          \u001b[34mota.py\u001b[0m\n",
      "\u001b[0m   7933  Jun 29 18:41 2021      \u001b[34mpystone.py\u001b[0m\n",
      "\u001b[0m    418  Jun 29 18:46 2021  \u001b[34mmp_main.py\u001b[0m\n",
      "\u001b[0m    317  Jun 29 18:48 2021  \u001b[34msecrets.py\u001b[0m\n",
      "\u001b[0m     52  Jun 29 18:46 2021  \u001b[34mwebrepl_cfg.py\u001b[0m\n",
      "\u001b[0m"
     ]
    }
   ],
   "source": [
    "%rsync\n",
    "%rlist"
   ]
  },
  {
   "cell_type": "code",
   "execution_count": 1,
   "id": "fff8f76c-c51c-4f46-a375-96218c67d6d4",
   "metadata": {},
   "outputs": [
    {
     "name": "stdout",
     "output_type": "stream",
     "text": [
      "\u001b[0m\u001b[0m\u001b[0m\n",
      "\u001b[46m\u001b[31m!!!!!!!!!!!!!!!!!!!!!!!!!!!!!!!\u001b[0m\n",
      "\u001b[46m\u001b[31m!!!!!   softreset ...     !!!!!\u001b[0m\n",
      "\u001b[46m\u001b[31m!!!!!!!!!!!!!!!!!!!!!!!!!!!!!!!\u001b[0m\n",
      "\u001b[0m\n",
      "WebREPL daemon started on ws://10.39.40.163:8266\n",
      "Started webrepl in normal mode\n",
      "\u001b[0m"
     ]
    }
   ],
   "source": [
    "%softreset\n",
    "import boot"
   ]
  },
  {
   "cell_type": "code",
   "execution_count": 1,
   "id": "918e39f1-ee18-440d-a765-be3b0789cc0c",
   "metadata": {},
   "outputs": [
    {
     "name": "stdout",
     "output_type": "stream",
     "text": [
      "\u001b[0m\u001b[0m\u001b[46m\u001b[30mConnected to huzzah32 @ ws://10.39.40.163:8266\u001b[0m\n"
     ]
    }
   ],
   "source": [
    "%connect 'ws://10.39.40.163:8266'"
   ]
  },
  {
   "cell_type": "code",
   "execution_count": 1,
   "id": "b224134a-c760-4597-a21d-f95319e40505",
   "metadata": {},
   "outputs": [
    {
     "name": "stdout",
     "output_type": "stream",
     "text": [
      "\u001b[0m10.39.40.163\n",
      "\u001b[0m"
     ]
    }
   ],
   "source": [
    "import network\n",
    "wlan = network.WLAN(network.STA_IF)\n",
    "print(wlan.ifconfig()[0])"
   ]
  },
  {
   "cell_type": "markdown",
   "id": "4277fa3c-737e-483c-83c0-9b1044c74514",
   "metadata": {},
   "source": [
    "### Full Example\n",
    "\n",
    "This particular `stm32` processor has a small on-chip flash partition at `/flash` used for `boot.py` and the code to mount an external flash chip at `/spi`. Libraries that do not need to be on `/flash` are installed in `/spi/lib`.\n",
    "\n",
    "The configuration also specifies a custom library path that is searched instead of `$IOT_LIBS`.\n",
    "\n",
    "```yaml\n",
    "test-stm32:\n",
    "    uid: 27:00:55:00:09:50:52:42:4e:30:39:20\n",
    "    libs:\n",
    "        - $IOT49/libs\n",
    "        - $IOT/projects/airlift/libs\n",
    "    install-dir: /spi/lib\n",
    "    resources:\n",
    "        - stm32: \n",
    "            install-dir: /flash\n",
    "            unpack: true\n",
    "        - secrets.py: /spi\n",
    "        - neopixel.py\n",
    "        - airlift_client:\n",
    "            unpack: true\n",
    "        - mp_server:\n",
    "            unpack: true\n",
    "            install-dir: /spi/lib/mp\n",
    "```"
   ]
  },
  {
   "cell_type": "markdown",
   "id": "f3e5efa4-9e90-4dc4-94f4-d245c80ce62d",
   "metadata": {},
   "source": [
    "(secrets)=\n",
    "## secrets.py\n",
    "\n",
    "A Python file used to define confidential information such as passwords. Example:\n",
    "\n",
    "```python\n",
    "# secrets.py\n",
    "\n",
    "# wifi\n",
    "wifi_ssid = 'WIFI_SSID'\n",
    "wifi_pwd  = 'WIFI_PASSWORD'\n",
    "\n",
    "# timezone\n",
    "tz_offset = -8*3600    # PST\n",
    "\n",
    "# mp wireless \"repl\" password\n",
    "mp_pwd  = '&(*HFODjpwdlsdf30i%^&'\n",
    "\n",
    "# webrepl password, 4 .. 9 characters\n",
    "webrepl_pwd = 'fjlkflsad'\n",
    "\n",
    "# https://openweathermap.org/\n",
    "openweathermap_apiid = \"354f336ac61afasf2b73af8f\"\n",
    "```\n",
    "\n",
    "Some of these variables (e.g `webrepl_pwd`) are used by MicroPython and *ide49*."
   ]
  },
  {
   "cell_type": "code",
   "execution_count": null,
   "id": "326e8bfb-dcc8-46bd-b15b-093b93b00959",
   "metadata": {},
   "outputs": [],
   "source": []
  }
 ],
 "metadata": {
  "kernelspec": {
   "display_name": "IoT",
   "language": "python",
   "name": "iot_kernel"
  },
  "language_info": {
   "codemirror_mode": {
    "name": "python",
    "version": 3
   },
   "file_extension": ".py",
   "mimetype": "text/x-python",
   "name": "python",
   "pygments_lexer": "python3",
   "version": "3"
  }
 },
 "nbformat": 4,
 "nbformat_minor": 5
}
