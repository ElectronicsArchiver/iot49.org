{
 "cells": [
  {
   "cell_type": "markdown",
   "id": "434850e5-703d-4fc5-ba43-1b63bce24b98",
   "metadata": {},
   "source": [
    "# Flash\n",
    "\n",
    "The first step in flashing MicroPython to a microcontroller is to find its port. This is most easily accomplished with the `%discover --all` magic: "
   ]
  },
  {
   "cell_type": "code",
   "execution_count": 2,
   "id": "32f613b2-7640-4b3f-aa84-4f2ac891c933",
   "metadata": {},
   "outputs": [
    {
     "name": "stdout",
     "output_type": "stream",
     "text": [
      "\u001b[0m\u001b[0m/dev/ttyUSB0\u001b[0m\n",
      "  hwid         USB VID:PID=10C4:EA60 SER=015589DF LOCATION=1-1.1\u001b[0m\n",
      "  manufacturer Silicon Labs\u001b[0m\n",
      "  product      CP2104 USB to UART Bridge Controller\u001b[0m\n",
      "  interface    CP2104 USB to UART Bridge Controller\u001b[0m\n",
      "\u001b[0m\n",
      "/dev/ttyAMA0\u001b[0m\n",
      "  hwid         fe201000.serial\u001b[0m\n",
      "\u001b[0m\n"
     ]
    }
   ],
   "source": [
    "%discover --all"
   ]
  },
  {
   "cell_type": "markdown",
   "id": "d1ca920b-e307-4791-86b3-b5934e3fb36d",
   "metadata": {},
   "source": [
    "## ESP32\n",
    "\n",
    "[Micropython.org](https://micropython.org/download/) has compiled interpreter binaries for select architectures. For ESP32, choose \"Generic ESP32 module\", unless a more specific version is available. Update the `firmware` and `port` variables in the script below, then execute.\n",
    "\n",
    "You can also [build](compile.ipynb) (customized) MicroPython firmware with *ide49*."
   ]
  },
  {
   "cell_type": "code",
   "execution_count": 2,
   "id": "6c09fc93-7739-4ef2-b33b-b85d3360b788",
   "metadata": {
    "tags": [
     "hide-output"
    ]
   },
   "outputs": [
    {
     "name": "stdout",
     "output_type": "stream",
     "text": [
      "\u001b[0m\u001b[0m  % Total    % Received % Xferd  Average Speed   Time    Time     Time  Current\u001b[0m\n",
      "                                 Dload  Upload   Total   Spent    Left  Speed\u001b[0m\n",
      "100 1475k  100 1475k    0     0   344k      0  0:00:04  0:00:04 --:--:--  344k\u001b[0m\n",
      "esptool.py v3.1\u001b[0m\n",
      "Serial port /dev/ttyUSB0\u001b[0m\n",
      "Connecting....\u001b[0m\n",
      "Detecting chip type... ESP32\u001b[0m\n",
      "Chip is ESP32-D0WDQ6 (revision 1)\u001b[0m\n",
      "Features: WiFi, BT, Dual Core, Coding Scheme None\u001b[0m\n",
      "Crystal is 40MHz\u001b[0m\n",
      "MAC: 24:0a:c4:12:87:7c\u001b[0m\n",
      "Uploading stub...\u001b[0m\n",
      "Running stub...\u001b[0m\n",
      "Stub running...\u001b[0m\n",
      "Erasing flash (this may take a while)...\u001b[0m\n",
      "Chip erase completed successfully in 5.3s\u001b[0m\n",
      "Hard resetting via RTS pin...\u001b[0m\n",
      "esptool.py v3.1\u001b[0m\n",
      "Serial port /dev/ttyUSB0\u001b[0m\n",
      "Connecting....\u001b[0m\n",
      "Detecting chip type... ESP32\u001b[0m\n",
      "Chip is ESP32-D0WDQ6 (revision 1)\u001b[0m\n",
      "Features: WiFi, BT, Dual Core, Coding Scheme None\u001b[0m\n",
      "Crystal is 40MHz\u001b[0m\n",
      "MAC: 24:0a:c4:12:87:7c\u001b[0m\n",
      "Uploading stub...\u001b[0m\n",
      "Running stub...\u001b[0m\n",
      "Stub running...\u001b[0m\n",
      "Changing baud rate to 460800\u001b[0m\n",
      "Changed.\u001b[0m\n",
      "Configuring flash size...\u001b[0m\n",
      "Flash will be erased from 0x00001000 to 0x00171fff...\u001b[0m\n",
      "Compressed 1510544 bytes to 976957...\u001b[0m\n",
      "Writing at 0x00001000... (1 %)\u001b[0m\n",
      "Writing at 0x000111e1... (3 %)\u001b[0m\n",
      "Writing at 0x00019c9f... (5 %)\u001b[0m\n",
      "Writing at 0x00022690... (6 %)\u001b[0m\n",
      "Writing at 0x00029089... (8 %)\u001b[0m\n",
      "Writing at 0x00031b4a... (10 %)\u001b[0m\n",
      "Writing at 0x0003d0df... (11 %)\u001b[0m\n",
      "Writing at 0x00047987... (13 %)\u001b[0m\n",
      "Writing at 0x00053b47... (15 %)\u001b[0m\n",
      "Writing at 0x000599d5... (16 %)\u001b[0m\n",
      "Writing at 0x0005f3db... (18 %)\u001b[0m\n",
      "Writing at 0x00064979... (20 %)\u001b[0m\n",
      "Writing at 0x000698ff... (21 %)\u001b[0m\n",
      "Writing at 0x0006e9e0... (23 %)\u001b[0m\n",
      "Writing at 0x00073e23... (25 %)\u001b[0m\n",
      "Writing at 0x00079127... (26 %)\u001b[0m\n",
      "Writing at 0x0007e140... (28 %)\u001b[0m\n",
      "Writing at 0x00082d19... (30 %)\u001b[0m\n",
      "Writing at 0x000886ca... (31 %)\u001b[0m\n",
      "Writing at 0x0008e80b... (33 %)\u001b[0m\n",
      "Writing at 0x00093c3c... (35 %)\u001b[0m\n",
      "Writing at 0x00098e11... (36 %)\u001b[0m\n",
      "Writing at 0x0009ef14... (38 %)\u001b[0m\n",
      "Writing at 0x000a44a4... (40 %)\u001b[0m\n",
      "Writing at 0x000a9a58... (41 %)\u001b[0m\n",
      "Writing at 0x000af8b4... (43 %)\u001b[0m\n",
      "Writing at 0x000b5add... (45 %)\u001b[0m\n",
      "Writing at 0x000bb950... (46 %)\u001b[0m\n",
      "Writing at 0x000c0995... (48 %)\u001b[0m\n",
      "Writing at 0x000c670c... (50 %)\u001b[0m\n",
      "Writing at 0x000cc267... (51 %)\u001b[0m\n",
      "Writing at 0x000d14bc... (53 %)\u001b[0m\n",
      "Writing at 0x000d6384... (55 %)\u001b[0m\n",
      "Writing at 0x000db342... (56 %)\u001b[0m\n",
      "Writing at 0x000e0572... (58 %)\u001b[0m\n",
      "Writing at 0x000e56f9... (60 %)\u001b[0m\n",
      "Writing at 0x000ead9b... (61 %)\u001b[0m\n",
      "Writing at 0x000f0916... (63 %)\u001b[0m\n",
      "Writing at 0x000f6209... (65 %)\u001b[0m\n",
      "Writing at 0x000faeee... (66 %)\u001b[0m\n",
      "Writing at 0x0010094c... (68 %)\u001b[0m\n",
      "Writing at 0x00105da0... (70 %)\u001b[0m\n",
      "Writing at 0x0010b1bd... (71 %)\u001b[0m\n",
      "Writing at 0x001108cb... (73 %)\u001b[0m\n",
      "Writing at 0x00115a6a... (75 %)\u001b[0m\n",
      "Writing at 0x0011af8d... (76 %)\u001b[0m\n",
      "Writing at 0x00120281... (78 %)\u001b[0m\n",
      "Writing at 0x00125957... (80 %)\u001b[0m\n",
      "Writing at 0x0012adc0... (81 %)\u001b[0m\n",
      "Writing at 0x001304ef... (83 %)\u001b[0m\n",
      "Writing at 0x00135d36... (85 %)\u001b[0m\n",
      "Writing at 0x0013b6ed... (86 %)\u001b[0m\n",
      "Writing at 0x00141383... (88 %)\u001b[0m\n",
      "Writing at 0x0014632c... (90 %)\u001b[0m\n",
      "Writing at 0x0014bec4... (91 %)\u001b[0m\n",
      "Writing at 0x00152a2c... (93 %)\u001b[0m\n",
      "Writing at 0x0015ca92... (95 %)\u001b[0m\n",
      "Writing at 0x00162ada... (96 %)\u001b[0m\n",
      "Writing at 0x001680de... (98 %)\u001b[0m\n",
      "Writing at 0x0016d422... (100 %)\u001b[0m\n",
      "Wrote 1510544 bytes (976957 compressed) at 0x00001000 in 24.1 seconds (effective 501.3 kbit/s)...\u001b[0m\n",
      "Hash of data verified.\u001b[0m\n",
      "\u001b[0m\n",
      "Leaving...\u001b[0m\n",
      "Hard resetting via RTS pin...\u001b[0m\n"
     ]
    }
   ],
   "source": [
    "%%bash \n",
    "\n",
    "port=/dev/ttyUSB0\n",
    "firmware=esp32-20210623-v1.16.bin\n",
    "curl -O https://micropython.org/resources/firmware/$firmware\n",
    "    \n",
    "esptool.py -p $port erase_flash\n",
    "esptool.py -p $port -b 460800 write_flash -z 0x1000 $firmware\n",
    "\n",
    "rm $firmware"
   ]
  },
  {
   "cell_type": "code",
   "execution_count": 2,
   "id": "10f31efa-98a7-4e3b-96d8-f7d8216059b2",
   "metadata": {},
   "outputs": [
    {
     "name": "stdout",
     "output_type": "stream",
     "text": [
      "\u001b[0m\u001b[0m24:0a:c4:12:87:7c  serial:///dev/ttyUSB0  24:0a:c4:12:87:7c\u001b[0m\n"
     ]
    }
   ],
   "source": [
    "%discover"
   ]
  },
  {
   "cell_type": "code",
   "execution_count": 2,
   "id": "05343693-ad12-4c71-8d19-8dfb1fd1fd57",
   "metadata": {},
   "outputs": [
    {
     "name": "stdout",
     "output_type": "stream",
     "text": [
      "\u001b[0m\u001b[0m\u001b[46m\u001b[30mConnected to 24:0a:c4:12:87:7c @ serial:///dev/ttyUSB0\u001b[0m\n",
      "(\u001b[0mname='micropython', version=(1, 16, 0), mpy=10757)\n",
      "\u001b[0m"
     ]
    }
   ],
   "source": [
    "%connect 24:0a:c4:12:87:7c\n",
    "import sys\n",
    "print(sys.implementation)"
   ]
  },
  {
   "cell_type": "code",
   "execution_count": null,
   "id": "067fb6a3-c42b-4290-8683-2330864cc8b3",
   "metadata": {},
   "outputs": [],
   "source": []
  }
 ],
 "metadata": {
  "kernelspec": {
   "display_name": "IoT",
   "language": "python",
   "name": "iot_kernel"
  },
  "language_info": {
   "codemirror_mode": {
    "name": "python",
    "version": 3
   },
   "file_extension": ".py",
   "mimetype": "text/x-python",
   "name": "python",
   "pygments_lexer": "python3",
   "version": "3"
  }
 },
 "nbformat": 4,
 "nbformat_minor": 5
}
