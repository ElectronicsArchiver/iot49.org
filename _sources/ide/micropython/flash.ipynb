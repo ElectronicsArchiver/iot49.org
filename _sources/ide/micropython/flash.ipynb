{
 "cells": [
  {
   "cell_type": "markdown",
   "id": "434850e5-703d-4fc5-ba43-1b63bce24b98",
   "metadata": {},
   "source": [
    "# Flashing\n",
    "\n",
    "Flashing is the process of installing MicroPython on a microcontroller. The exact instructions vary. Below are the steps for installing MicroPython on an ESP32.\n",
    "\n",
    "The first step in flashing MicroPython to a microcontroller is to find its port. The `%discover --all` magic reports this information: "
   ]
  },
  {
   "cell_type": "code",
   "execution_count": 1,
   "id": "32f613b2-7640-4b3f-aa84-4f2ac891c933",
   "metadata": {},
   "outputs": [
    {
     "name": "stdout",
     "output_type": "stream",
     "text": [
      "/dev/ttyUSB0\n",
      "  hwid         USB VID:PID=10C4:EA60 SER=0160D2BE LOCATION=1-4\n",
      "  manufacturer Silicon Labs\n",
      "  product      CP2104 USB to UART Bridge Controller\n",
      "  interface    CP2104 USB to UART Bridge Controller\n",
      "\n"
     ]
    }
   ],
   "source": [
    "%discover --all"
   ]
  },
  {
   "cell_type": "markdown",
   "id": "82605877-262f-4882-b926-423e5b597229",
   "metadata": {},
   "source": [
    "A controller is installed at port `/dev/ttyUSB0`. The exact port name varies, and may even change if you unplug and replug the device."
   ]
  },
  {
   "cell_type": "markdown",
   "id": "d1ca920b-e307-4791-86b3-b5934e3fb36d",
   "metadata": {},
   "source": [
    "## ESP32\n",
    "\n",
    "[Micropython.org](https://micropython.org/download/) has compiled interpreter binaries for select architectures. For ESP32, choose \"Generic ESP32 module\", unless a more specific version is available. Update the `firmware` and `port` variables in the script below, then execute.\n",
    "\n",
    "You can also [build](compile.ipynb) (customized) MicroPython firmware with *ide49*."
   ]
  },
  {
   "cell_type": "code",
   "execution_count": 2,
   "id": "6c09fc93-7739-4ef2-b33b-b85d3360b788",
   "metadata": {
    "collapsed": true,
    "jupyter": {
     "outputs_hidden": true
    },
    "tags": [
     "hide-output"
    ]
   },
   "outputs": [
    {
     "name": "stdout",
     "output_type": "stream",
     "text": [
      "\u001b[0m\u001b[0m  % Total    % Received % Xferd  Average Speed   Time    Time     Time  Current\u001b[0m\n",
      "                                 Dload  Upload   Total   Spent    Left  Speed\u001b[0m\n",
      "100 1475k  100 1475k    0     0   344k      0  0:00:04  0:00:04 --:--:--  344k\u001b[0m\n",
      "esptool.py v3.1\u001b[0m\n",
      "Serial port /dev/ttyUSB0\u001b[0m\n",
      "Connecting....\u001b[0m\n",
      "Detecting chip type... ESP32\u001b[0m\n",
      "Chip is ESP32-D0WDQ6 (revision 1)\u001b[0m\n",
      "Features: WiFi, BT, Dual Core, Coding Scheme None\u001b[0m\n",
      "Crystal is 40MHz\u001b[0m\n",
      "MAC: 24:0a:c4:12:87:7c\u001b[0m\n",
      "Uploading stub...\u001b[0m\n",
      "Running stub...\u001b[0m\n",
      "Stub running...\u001b[0m\n",
      "Erasing flash (this may take a while)...\u001b[0m\n",
      "Chip erase completed successfully in 5.3s\u001b[0m\n",
      "Hard resetting via RTS pin...\u001b[0m\n",
      "esptool.py v3.1\u001b[0m\n",
      "Serial port /dev/ttyUSB0\u001b[0m\n",
      "Connecting....\u001b[0m\n",
      "Detecting chip type... ESP32\u001b[0m\n",
      "Chip is ESP32-D0WDQ6 (revision 1)\u001b[0m\n",
      "Features: WiFi, BT, Dual Core, Coding Scheme None\u001b[0m\n",
      "Crystal is 40MHz\u001b[0m\n",
      "MAC: 24:0a:c4:12:87:7c\u001b[0m\n",
      "Uploading stub...\u001b[0m\n",
      "Running stub...\u001b[0m\n",
      "Stub running...\u001b[0m\n",
      "Changing baud rate to 460800\u001b[0m\n",
      "Changed.\u001b[0m\n",
      "Configuring flash size...\u001b[0m\n",
      "Flash will be erased from 0x00001000 to 0x00171fff...\u001b[0m\n",
      "Compressed 1510544 bytes to 976957...\u001b[0m\n",
      "Writing at 0x00001000... (1 %)\u001b[0m\n",
      "Writing at 0x000111e1... (3 %)\u001b[0m\n",
      "Writing at 0x00019c9f... (5 %)\u001b[0m\n",
      "Writing at 0x00022690... (6 %)\u001b[0m\n",
      "Writing at 0x00029089... (8 %)\u001b[0m\n",
      "Writing at 0x00031b4a... (10 %)\u001b[0m\n",
      "Writing at 0x0003d0df... (11 %)\u001b[0m\n",
      "Writing at 0x00047987... (13 %)\u001b[0m\n",
      "Writing at 0x00053b47... (15 %)\u001b[0m\n",
      "Writing at 0x000599d5... (16 %)\u001b[0m\n",
      "Writing at 0x0005f3db... (18 %)\u001b[0m\n",
      "Writing at 0x00064979... (20 %)\u001b[0m\n",
      "Writing at 0x000698ff... (21 %)\u001b[0m\n",
      "Writing at 0x0006e9e0... (23 %)\u001b[0m\n",
      "Writing at 0x00073e23... (25 %)\u001b[0m\n",
      "Writing at 0x00079127... (26 %)\u001b[0m\n",
      "Writing at 0x0007e140... (28 %)\u001b[0m\n",
      "Writing at 0x00082d19... (30 %)\u001b[0m\n",
      "Writing at 0x000886ca... (31 %)\u001b[0m\n",
      "Writing at 0x0008e80b... (33 %)\u001b[0m\n",
      "Writing at 0x00093c3c... (35 %)\u001b[0m\n",
      "Writing at 0x00098e11... (36 %)\u001b[0m\n",
      "Writing at 0x0009ef14... (38 %)\u001b[0m\n",
      "Writing at 0x000a44a4... (40 %)\u001b[0m\n",
      "Writing at 0x000a9a58... (41 %)\u001b[0m\n",
      "Writing at 0x000af8b4... (43 %)\u001b[0m\n",
      "Writing at 0x000b5add... (45 %)\u001b[0m\n",
      "Writing at 0x000bb950... (46 %)\u001b[0m\n",
      "Writing at 0x000c0995... (48 %)\u001b[0m\n",
      "Writing at 0x000c670c... (50 %)\u001b[0m\n",
      "Writing at 0x000cc267... (51 %)\u001b[0m\n",
      "Writing at 0x000d14bc... (53 %)\u001b[0m\n",
      "Writing at 0x000d6384... (55 %)\u001b[0m\n",
      "Writing at 0x000db342... (56 %)\u001b[0m\n",
      "Writing at 0x000e0572... (58 %)\u001b[0m\n",
      "Writing at 0x000e56f9... (60 %)\u001b[0m\n",
      "Writing at 0x000ead9b... (61 %)\u001b[0m\n",
      "Writing at 0x000f0916... (63 %)\u001b[0m\n",
      "Writing at 0x000f6209... (65 %)\u001b[0m\n",
      "Writing at 0x000faeee... (66 %)\u001b[0m\n",
      "Writing at 0x0010094c... (68 %)\u001b[0m\n",
      "Writing at 0x00105da0... (70 %)\u001b[0m\n",
      "Writing at 0x0010b1bd... (71 %)\u001b[0m\n",
      "Writing at 0x001108cb... (73 %)\u001b[0m\n",
      "Writing at 0x00115a6a... (75 %)\u001b[0m\n",
      "Writing at 0x0011af8d... (76 %)\u001b[0m\n",
      "Writing at 0x00120281... (78 %)\u001b[0m\n",
      "Writing at 0x00125957... (80 %)\u001b[0m\n",
      "Writing at 0x0012adc0... (81 %)\u001b[0m\n",
      "Writing at 0x001304ef... (83 %)\u001b[0m\n",
      "Writing at 0x00135d36... (85 %)\u001b[0m\n",
      "Writing at 0x0013b6ed... (86 %)\u001b[0m\n",
      "Writing at 0x00141383... (88 %)\u001b[0m\n",
      "Writing at 0x0014632c... (90 %)\u001b[0m\n",
      "Writing at 0x0014bec4... (91 %)\u001b[0m\n",
      "Writing at 0x00152a2c... (93 %)\u001b[0m\n",
      "Writing at 0x0015ca92... (95 %)\u001b[0m\n",
      "Writing at 0x00162ada... (96 %)\u001b[0m\n",
      "Writing at 0x001680de... (98 %)\u001b[0m\n",
      "Writing at 0x0016d422... (100 %)\u001b[0m\n",
      "Wrote 1510544 bytes (976957 compressed) at 0x00001000 in 24.1 seconds (effective 501.3 kbit/s)...\u001b[0m\n",
      "Hash of data verified.\u001b[0m\n",
      "\u001b[0m\n",
      "Leaving...\u001b[0m\n",
      "Hard resetting via RTS pin...\u001b[0m\n"
     ]
    }
   ],
   "source": [
    "%%bash \n",
    "\n",
    "# set the correct port (%discover -all)\n",
    "port=/dev/ttyUSB0\n",
    "\n",
    "# find the latest firmware at https://micropython.org/download/esp32/\n",
    "firmware=esp32-20210623-v1.16.bin\n",
    "\n",
    "# download\n",
    "curl -O https://micropython.org/resources/firmware/$firmware\n",
    "    \n",
    "# install (flash)\n",
    "esptool.py -p $port erase_flash\n",
    "esptool.py -p $port -b 460800 write_flash -z 0x1000 $firmware\n",
    "\n",
    "# optionally delete the downloaded firmware\n",
    "rm $firmware"
   ]
  },
  {
   "cell_type": "markdown",
   "id": "9e7da4fd-3499-470a-9132-47b1b55052a0",
   "metadata": {},
   "source": [
    "The device is now available:"
   ]
  },
  {
   "cell_type": "code",
   "execution_count": 2,
   "id": "10f31efa-98a7-4e3b-96d8-f7d8216059b2",
   "metadata": {},
   "outputs": [
    {
     "name": "stdout",
     "output_type": "stream",
     "text": [
      "\u001b[0m\u001b[0m24:0a:c4:12:87:7c  serial:///dev/ttyUSB0  24:0a:c4:12:87:7c\u001b[0m\n"
     ]
    }
   ],
   "source": [
    "%discover"
   ]
  },
  {
   "cell_type": "code",
   "execution_count": 2,
   "id": "05343693-ad12-4c71-8d19-8dfb1fd1fd57",
   "metadata": {},
   "outputs": [
    {
     "name": "stdout",
     "output_type": "stream",
     "text": [
      "\u001b[0m\u001b[0m\u001b[46m\u001b[30mConnected to 24:0a:c4:12:87:7c @ serial:///dev/ttyUSB0\u001b[0m\n",
      "(\u001b[0mname='micropython', version=(1, 16, 0), mpy=10757)\n",
      "\u001b[0m"
     ]
    }
   ],
   "source": [
    "%connect 24:0a:c4:12:87:7c\n",
    "import sys\n",
    "print(sys.implementation)"
   ]
  },
  {
   "cell_type": "markdown",
   "id": "f84c5c43-66cf-4b0d-9649-8149fca291dc",
   "metadata": {},
   "source": [
    "To flash firmware from a local file, update the `port` and `firmware` variables below, then run the cell."
   ]
  },
  {
   "cell_type": "code",
   "execution_count": 1,
   "id": "067fb6a3-c42b-4290-8683-2330864cc8b3",
   "metadata": {
    "collapsed": true,
    "jupyter": {
     "outputs_hidden": true
    },
    "tags": [
     "hide-output"
    ]
   },
   "outputs": [
    {
     "name": "stdout",
     "output_type": "stream",
     "text": [
      "esptool.py v3.2\n",
      "Serial port /dev/ttyUSB0\n",
      "Connecting.....\n",
      "Detecting chip type... Unsupported detection protocol, switching and trying again...\n",
      "Connecting.....\n",
      "Detecting chip type... ESP32\n",
      "Chip is ESP32-D0WDQ6 (revision 1)\n",
      "Features: WiFi, BT, Dual Core, Coding Scheme None\n",
      "Crystal is 40MHz\n",
      "MAC: 30:ae:a4:30:80:14\n",
      "Uploading stub...\n",
      "Running stub...\n",
      "Stub running...\n",
      "Erasing flash (this may take a while)...\n",
      "Chip erase completed successfully in 4.6s\n",
      "Hard resetting via RTS pin...\n",
      "esptool.py v3.2\n",
      "Serial port /dev/ttyUSB0\n",
      "Connecting.....\n",
      "Detecting chip type... Unsupported detection protocol, switching and trying again...\n",
      "Connecting....\n",
      "Detecting chip type... ESP32\n",
      "Chip is ESP32-D0WDQ6 (revision 1)\n",
      "Features: WiFi, BT, Dual Core, Coding Scheme None\n",
      "Crystal is 40MHz\n",
      "MAC: 30:ae:a4:30:80:14\n",
      "Uploading stub...\n",
      "Running stub...\n",
      "Stub running...\n",
      "Changing baud rate to 460800\n",
      "Changed.\n",
      "Configuring flash size...\n",
      "Flash will be erased from 0x00001000 to 0x00164fff...\n",
      "Compressed 1457072 bytes to 966988...\n",
      "Writing at 0x00001000... (1 %)\n",
      "Writing at 0x000099b2... (3 %)\n",
      "Writing at 0x00012347... (5 %)\n",
      "Writing at 0x0001939e... (6 %)\n",
      "Writing at 0x00022327... (8 %)\n",
      "Writing at 0x0002da89... (10 %)\n",
      "Writing at 0x0003815e... (11 %)\n",
      "Writing at 0x0004271e... (13 %)\n",
      "Writing at 0x00047db8... (15 %)\n",
      "Writing at 0x0004ce55... (16 %)\n",
      "Writing at 0x00051f55... (18 %)\n",
      "Writing at 0x00056f23... (20 %)\n",
      "Writing at 0x0005be0e... (21 %)\n",
      "Writing at 0x00060a45... (23 %)\n",
      "Writing at 0x000673cd... (25 %)\n",
      "Writing at 0x0006c8a7... (26 %)\n",
      "Writing at 0x00071cf6... (28 %)\n",
      "Writing at 0x00076c98... (30 %)\n",
      "Writing at 0x0007c2f9... (31 %)\n",
      "Writing at 0x000822b1... (33 %)\n",
      "Writing at 0x00087444... (35 %)\n",
      "Writing at 0x0008ccb1... (36 %)\n",
      "Writing at 0x00092a2b... (38 %)\n",
      "Writing at 0x00098ddc... (40 %)\n",
      "Writing at 0x0009e679... (41 %)\n",
      "Writing at 0x000a3a37... (43 %)\n",
      "Writing at 0x000a9ba1... (45 %)\n",
      "Writing at 0x000af0cc... (46 %)\n",
      "Writing at 0x000b405a... (48 %)\n",
      "Writing at 0x000b9033... (50 %)\n",
      "Writing at 0x000bdfe8... (51 %)\n",
      "Writing at 0x000c33e3... (53 %)\n",
      "Writing at 0x000c87cc... (55 %)\n",
      "Writing at 0x000ce11f... (56 %)\n",
      "Writing at 0x000d3ca0... (58 %)\n",
      "Writing at 0x000d92b0... (60 %)\n",
      "Writing at 0x000de084... (61 %)\n",
      "Writing at 0x000e3a7d... (63 %)\n",
      "Writing at 0x000e91b7... (65 %)\n",
      "Writing at 0x000ee520... (66 %)\n",
      "Writing at 0x000f3b83... (68 %)\n",
      "Writing at 0x000f8e05... (70 %)\n",
      "Writing at 0x000fe144... (71 %)\n",
      "Writing at 0x00103497... (73 %)\n",
      "Writing at 0x00108b87... (75 %)\n",
      "Writing at 0x0010e1c0... (76 %)\n",
      "Writing at 0x001136a8... (78 %)\n",
      "Writing at 0x00119109... (80 %)\n",
      "Writing at 0x0011f1d6... (81 %)\n",
      "Writing at 0x00124bc7... (83 %)\n",
      "Writing at 0x00129bcb... (85 %)\n",
      "Writing at 0x0012fc99... (86 %)\n",
      "Writing at 0x00137e18... (88 %)\n",
      "Writing at 0x00140500... (90 %)\n",
      "Writing at 0x00147929... (91 %)\n",
      "Writing at 0x0014dcad... (93 %)\n",
      "Writing at 0x0015323a... (95 %)\n",
      "Writing at 0x00158bcc... (96 %)\n",
      "Writing at 0x0015e1e9... (98 %)\n",
      "Writing at 0x001641fc... (100 %)\n",
      "Wrote 1457072 bytes (966988 compressed) at 0x00001000 in 23.5 seconds (effective 495.7 kbit/s)...\n",
      "Hash of data verified.\n",
      "\n",
      "Leaving...\n",
      "Hard resetting via RTS pin...\n"
     ]
    }
   ],
   "source": [
    "%%bash \n",
    "\n",
    "# local firmware\n",
    "port=/dev/ttyUSB0\n",
    "firmware=~/micropython.bin\n",
    "    \n",
    "esptool.py -p $port erase_flash\n",
    "esptool.py -p $port -b 460800 write_flash -z 0x1000 $firmware"
   ]
  },
  {
   "cell_type": "code",
   "execution_count": null,
   "id": "d68229b1-90c2-45b9-9701-edacd5960175",
   "metadata": {},
   "outputs": [],
   "source": []
  }
 ],
 "metadata": {
  "kernelspec": {
   "display_name": "IoT",
   "language": "python",
   "name": "iot_kernel"
  },
  "language_info": {
   "codemirror_mode": {
    "name": "python",
    "version": 3
   },
   "file_extension": ".py",
   "mimetype": "text/x-python",
   "name": "python",
   "pygments_lexer": "python3",
   "version": "3"
  }
 },
 "nbformat": 4,
 "nbformat_minor": 5
}
