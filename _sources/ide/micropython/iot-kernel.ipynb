{
 "cells": [
  {
   "cell_type": "markdown",
   "id": "3bb7dec4-d3cf-4904-8294-bd8dcffd63dd",
   "metadata": {},
   "source": [
    "# IoT Kernel\n",
    "\n",
    "The *IoT Kernel* is a specialized Jupyter kernel that evaluates MicroPython code on connected microcontrollers. Features include:\n",
    "\n",
    "* discover and connect to wired and wireless microcontrollers (`%discover` and `%connect`)\n",
    "* synchronize files with the host (`%rsync`)\n",
    "* softreset (`%softreset`)\n",
    "* evaluate code on the host (`%%host`)\n",
    "* exchange variables between microcontrollers and the host (`%store`)\n",
    "* access the host shell (`%%bash`)\n",
    "* access other services of *iot49* (`%%service`)\n",
    "\n",
    "## Magics\n",
    "\n",
    "Many of these features are accessed via magics. `%lsmagic` lists available magics."
   ]
  },
  {
   "cell_type": "code",
   "execution_count": 1,
   "id": "2776d0cb-c40f-49cb-84fd-460aac8179ee",
   "metadata": {
    "tags": [
     "hide-output"
    ]
   },
   "outputs": [
    {
     "name": "stdout",
     "output_type": "stream",
     "text": [
      "\u001b[0m\u001b[0mLine Magic:    -h shows help (e.g. %discover -h)\u001b[0m\n",
      "  %cat         Print contents of named file on microcontroller\u001b[0m\n",
      "  %cd          Change the working directory.\u001b[0m\n",
      "  %connect     Connect to device\u001b[0m\n",
      "  %cp          Copy files between host and microcontroller.\u001b[0m\n",
      "  %discover    Discover available devices\u001b[0m\n",
      "  %gettime     Query microcontroller time\u001b[0m\n",
      "  %loglevel    Set logging level.\u001b[0m\n",
      "  %lsmagic     List all magic functions.\u001b[0m\n",
      "  %mkdirs      Create all directories specified by the path, as needed.\u001b[0m\n",
      "  %name        Name of currently connected microcontroller.\u001b[0m\n",
      "  %pip         Install packages from PyPi\u001b[0m\n",
      "  %platform    sys.platform of currently connected device.\u001b[0m\n",
      "  %rdiff       Show differences between microcontroller and host directories\u001b[0m\n",
      "  %register    Register device\u001b[0m\n",
      "  %rlist       List files on microcontroller\u001b[0m\n",
      "  %rm          Delete files relative to path.\u001b[0m\n",
      "  %rsync       Synchronize microcontroller to host directories\u001b[0m\n",
      "  %softreset   Reset microcontroller. Similar to pressing the reset button.\u001b[0m\n",
      "  %store       Copy variables between microcontroller and storage.\u001b[0m\n",
      "  %synctime    Synchronize microcontroller time to host\u001b[0m\n",
      "  %uid         UID of currently connected microcontroller.\u001b[0m\n",
      "  %unregister  Unregister device\u001b[0m\n",
      "  %upip        Install MicroPython packages.\u001b[0m\n",
      "  %url         URL of currently connected microcontroller.\u001b[0m\n",
      "  !            Pass line to bash shell for evaluation.\u001b[0m\n",
      "\n",
      "Cell Magic:    -h shows help (e.g. %%connect -h)\u001b[0m\n",
      "  %%bash       Pass cell to bash shell for evaluation.\u001b[0m\n",
      "  %%connect    Evaluate code sequentially on named devices.\u001b[0m\n",
      "  %%host       Pass cell to host (cPython) for evaluation.\u001b[0m\n",
      "  %%service    Evaluate in named container using ssh.\u001b[0m\n",
      "  %%ssh        Pass cell body to ssh.\u001b[0m\n"
     ]
    }
   ],
   "source": [
    "%lsmagic"
   ]
  },
  {
   "cell_type": "markdown",
   "id": "61795158-e698-4f40-862f-0eee221d6659",
   "metadata": {},
   "source": [
    "The `-h` option on any magic returns additional information. E.g."
   ]
  },
  {
   "cell_type": "code",
   "execution_count": 5,
   "id": "0a0cf3d4-84af-4e3f-b866-3bdaf01c2525",
   "metadata": {},
   "outputs": [
    {
     "name": "stdout",
     "output_type": "stream",
     "text": [
      "\u001b[0musage: %discover [-h] [-a] [-v]\n",
      "\n",
      "Discover available devices\n",
      "\n",
      "optional arguments:\n",
      "  -h, --help     show this help message and exit\n",
      "  -a, --all      list all devices connected to USB ports\n",
      "  -v, --verbose  show uid\n",
      "\u001b[0m"
     ]
    }
   ],
   "source": [
    "%discover -h"
   ]
  },
  {
   "cell_type": "markdown",
   "id": "09e20158-c4b0-4942-a91f-a4d0987e6226",
   "metadata": {},
   "source": [
    "Magics not recognized by the *IoT Kernel* are sent to to underlying ipython kernel for evaluation. E.g."
   ]
  },
  {
   "cell_type": "code",
   "execution_count": 2,
   "id": "769fec85-7515-4b1b-a808-1528377358f1",
   "metadata": {},
   "outputs": [
    {
     "name": "stdout",
     "output_type": "stream",
     "text": [
      "\u001b[0mOverwriting main.py\n"
     ]
    }
   ],
   "source": [
    "%%writefile main.py\n",
    "# sample program\n",
    "print(\"Hello from main.py!\")"
   ]
  },
  {
   "cell_type": "code",
   "execution_count": 3,
   "id": "702483fb-48e6-4cce-8afa-986af7a3bfc4",
   "metadata": {},
   "outputs": [
    {
     "name": "stdout",
     "output_type": "stream",
     "text": [
      "\u001b[0m# sample program\n",
      "print(\"Hello from main.py!\")\n"
     ]
    }
   ],
   "source": [
    "!cat main.py"
   ]
  },
  {
   "cell_type": "code",
   "execution_count": 4,
   "id": "94a8ede9-2e6e-4240-a8af-3162b635f211",
   "metadata": {},
   "outputs": [
    {
     "name": "stdout",
     "output_type": "stream",
     "text": [
      "\u001b[0m"
     ]
    }
   ],
   "source": [
    "!rm main.py"
   ]
  },
  {
   "cell_type": "markdown",
   "id": "a937f673-30de-4494-b660-5c11b4b359f7",
   "metadata": {},
   "source": [
    "## MicroPython\n",
    "\n",
    "At any one time, the kernel is connected to one (or no) microcontroller. Code typed into Jupyter cells is sent to the \"connected\" microcontroller for evaluation. The `%discover` magic scans USB ports and listens to DNS advertisements for available devices. For each device to which connection is successful, the magic reports the device name, URL, and UID. Device names are specified in [configuration files](#device-configuration))."
   ]
  },
  {
   "cell_type": "markdown",
   "id": "baedcf96-f8c4-4777-ab86-f2540486f9f7",
   "metadata": {},
   "source": [
    "**Note:** Use a powered USB hub to reliably connect more than one microcontroller to the Raspberry Pi!"
   ]
  },
  {
   "cell_type": "code",
   "execution_count": 7,
   "id": "4724e403-f9b3-498e-85c2-358dcd65ba99",
   "metadata": {},
   "outputs": [
    {
     "name": "stdout",
     "output_type": "stream",
     "text": [
      "\u001b[0m\u001b[0mtest-esp32  ws://10.39.40.135:8266  \u001b[0m\n",
      "samd51      serial:///dev/ttyACM0   \u001b[0m\n",
      "stm32       serial:///dev/ttyACM1   \u001b[0m\n",
      "test-esp32  serial:///dev/ttyUSB2   \u001b[0m\n",
      "pico        serial:///dev/ttyUSB0   \u001b[0m\n",
      "nrf52840    serial:///dev/ttyACM2   \u001b[0m\n",
      "huzzah32    serial:///dev/ttyUSB1   \u001b[0m\n"
     ]
    }
   ],
   "source": [
    "%discover"
   ]
  },
  {
   "cell_type": "markdown",
   "id": "1cfbeb4f-f156-4612-9c28-8e0aed2ddfa7",
   "metadata": {},
   "source": [
    "The esp32 is available both over USB (serial:///dev/ttyUSB2) and wirelessly webrepl (ws://10.39.40.135:8266)."
   ]
  },
  {
   "cell_type": "code",
   "execution_count": 8,
   "id": "20bbe507-76e5-48f0-af10-558920b72708",
   "metadata": {},
   "outputs": [
    {
     "name": "stdout",
     "output_type": "stream",
     "text": [
      "\u001b[0m\u001b[0m\u001b[46m\u001b[30mConnected to test-esp32 @ ws://10.39.40.135:8266\u001b[0m\n",
      "0 0\n",
      "1 1\n",
      "2 1048576\n",
      "3 3486784401\n",
      "4 1099511627776\n",
      "\u001b[0m"
     ]
    }
   ],
   "source": [
    "%connect \"ws://10.39.40.135:8266\"\n",
    "\n",
    "for i in range(5): print(i, i**20)"
   ]
  },
  {
   "cell_type": "markdown",
   "id": "e129bc8f-d96a-4dcb-855f-e8bdc2b8b780",
   "metadata": {},
   "source": [
    "Connection to a device is maintained until changed. The `%%connect` cell magic runs code sequentially on one or more processors:"
   ]
  },
  {
   "cell_type": "code",
   "execution_count": 8,
   "id": "a6c7ecab-3a75-4478-b4e0-e643e39a2247",
   "metadata": {
    "tags": [
     "hide-output"
    ]
   },
   "outputs": [
    {
     "name": "stdout",
     "output_type": "stream",
     "text": [
      "\u001b[0m\u001b[0m\u001b[46m\u001b[30m\n",
      "----- HOST\n",
      "\u001b[0m\n",
      "linux                (cpython)\n",
      "\u001b[46m\u001b[30m\n",
      "----- test-esp32\n",
      "\u001b[0m\n",
      "esp32                (micropython)\n",
      "\u001b[0m\u001b[46m\u001b[30m\n",
      "----- samd51\n",
      "\u001b[0m\n",
      "MicroChip SAMD51     (circuitpython)\n",
      "\u001b[0m\u001b[46m\u001b[30m\n",
      "----- stm32\n",
      "\u001b[0m\n",
      "pyboard              (micropython)\n",
      "\u001b[0m\u001b[46m\u001b[30m\n",
      "----- test-esp32\n",
      "\u001b[0m\n",
      "esp32                (micropython)\n",
      "\u001b[0m\u001b[46m\u001b[30m\n",
      "----- pico\n",
      "\u001b[0m\n",
      "esp32                (micropython)\n",
      "\u001b[0m\u001b[46m\u001b[30m\n",
      "----- nrf52840\n",
      "\u001b[0m\n",
      "nRF52840             (circuitpython)\n",
      "\u001b[0m\u001b[46m\u001b[30m\n",
      "----- huzzah32\n",
      "\u001b[0m\n",
      "esp32                (micropython)\n",
      "\u001b[0m"
     ]
    }
   ],
   "source": [
    "%%connect --all --host\n",
    "\n",
    "import sys\n",
    "print(\"{:18}   ({})\".format(sys.platform, sys.implementation.name))"
   ]
  },
  {
   "cell_type": "markdown",
   "id": "da589164-c1b8-4e58-aa3e-46f09b4754c1",
   "metadata": {},
   "source": [
    "`%softreset` resets the MicroPython interpreter and has a similar effect to pressing the reset button of the device:"
   ]
  },
  {
   "cell_type": "code",
   "execution_count": 8,
   "id": "fb03535f-4231-46b4-85e8-d70e1aac08dd",
   "metadata": {},
   "outputs": [
    {
     "name": "stdout",
     "output_type": "stream",
     "text": [
      "\u001b[0m\u001b[0mtest-esp32\u001b[0m\n",
      "5\n",
      "\u001b[0m\u001b[0m\u001b[0m\n",
      "\u001b[46m\u001b[31m!!!!!!!!!!!!!!!!!!!!!!!!!!!!!!!\u001b[0m\n",
      "\u001b[46m\u001b[31m!!!!!   softreset ...     !!!!!\u001b[0m\n",
      "\u001b[46m\u001b[31m!!!!!!!!!!!!!!!!!!!!!!!!!!!!!!!\u001b[0m\n",
      "\u001b[0m\n",
      "this will fail ...\n",
      "\u001b[0m"
     ]
    },
    {
     "name": "stderr",
     "output_type": "stream",
     "text": [
      "Traceback (most recent call last):\n",
      "  File \"<stdin>\", line 2, in <module>\n",
      "NameError: name 'a' isn't defined\n",
      "\u001b[0m\n"
     ]
    }
   ],
   "source": [
    "%name\n",
    "\n",
    "a = 5\n",
    "print(a)\n",
    "%softreset\n",
    "print(\"this will fail ...\")\n",
    "print(a)"
   ]
  },
  {
   "cell_type": "markdown",
   "id": "0bf441e1-1b0e-4f3a-91f7-4504ebc293bf",
   "metadata": {},
   "source": [
    "Check `%lsmagic` for additional commands."
   ]
  },
  {
   "cell_type": "markdown",
   "id": "9ae43b10-e21b-49c6-9cea-1d6e6708cd86",
   "metadata": {},
   "source": [
    "## Environment Variables\n",
    "\n",
    "|    Name      |   Default Value          |  Description   |\n",
    "| ------------ | ------------------------ | :------------- |\n",
    "| IOT          | `~`                      | |\n",
    "| IOT49        | `$IOT/iot49`             | |\n",
    "| IOT_DEVICES  | `$IOT49/devices`         | Location(s) of [device configuration](device_configuration) yaml files, separate with `:` |\n",
    "| IOT_SECRETS  | `$IOT49/libs/secrets.py` | Location of [*secrets.py*](secrets) |\n",
    "| IOT_LIBS     | `$IOT49/libs`            | Location(s) of MicroPython libraries, separate with `:` |\n"
   ]
  },
  {
   "cell_type": "markdown",
   "id": "999690cb-be51-42b9-89f7-7f3e6e4afbe7",
   "metadata": {},
   "source": [
    "## File Management\n",
    "\n",
    "In additional to the usual file operations (`%cp`, `%rm`, etc), the `%rsync` feature can be used to efficiently copy libraries on the host to the microcontroller."
   ]
  },
  {
   "cell_type": "code",
   "execution_count": 8,
   "id": "c8e41979-d8c2-461a-a242-1f29feb3f8a5",
   "metadata": {},
   "outputs": [
    {
     "name": "stdout",
     "output_type": "stream",
     "text": [
      "\u001b[0m\u001b[0m\u001b[46m\u001b[30mConnected to huzzah32 @ serial:///dev/ttyUSB1\u001b[0m\n",
      "\u001b[0m    139  Dec 31 23:00 1999  \u001b[34mboot.py\u001b[0m\n",
      "\u001b[0m"
     ]
    }
   ],
   "source": [
    "%connect huzzah32\n",
    "\n",
    "# list files on microcontroller\n",
    "%rlist"
   ]
  },
  {
   "cell_type": "code",
   "execution_count": 7,
   "id": "07a2a9b2-0b34-4614-9e53-3828b8e60b11",
   "metadata": {},
   "outputs": [
    {
     "name": "stdout",
     "output_type": "stream",
     "text": [
      "\u001b[0m\u001b[0m# This file is executed on every boot (including wake-boot from deepsleep)\n",
      "#import esp\n",
      "#esp.osdebug(None)\n",
      "#import webrepl\n",
      "#webrepl.start()\n",
      "\u001b[0m\u001b[0m\n"
     ]
    }
   ],
   "source": [
    "%cat boot.py"
   ]
  },
  {
   "cell_type": "code",
   "execution_count": 5,
   "id": "bfeb6aed-3689-4dc6-9ddb-7631de4981b4",
   "metadata": {},
   "outputs": [
    {
     "name": "stdout",
     "output_type": "stream",
     "text": [
      "\u001b[0m\u001b[0m\u001b[32mDirectories match\n",
      "\u001b[0m\u001b[0m"
     ]
    }
   ],
   "source": [
    "# show differences but do not commit any operations\n",
    "%rdiff"
   ]
  },
  {
   "cell_type": "code",
   "execution_count": 5,
   "id": "28926e45-6ac2-45ad-bf04-4f2ab4174642",
   "metadata": {},
   "outputs": [
    {
     "name": "stdout",
     "output_type": "stream",
     "text": [
      "\u001b[0m\u001b[0m\u001b[32mDirectories match\n",
      "\u001b[0m\u001b[0m"
     ]
    }
   ],
   "source": [
    "# synchronize the microcontroller flash to the host\n",
    "# by default, %rsync deletes files on the microcontroller that are not present on the host\n",
    "# specify -u to upload data only\n",
    "\n",
    "%rsync -u"
   ]
  },
  {
   "cell_type": "markdown",
   "id": "57daa54c-bf95-4b9e-b326-69f794605d12",
   "metadata": {},
   "source": [
    "(device_configuration)=\n",
    "## Device Configuration\n",
    "\n",
    "### Simple\n",
    "\n",
    "Save device configurations in [yaml format](https://en.wikipedia.org/wiki/YAML) in `~/iot49/devices`. A simple example:\n",
    "\n",
    "```yaml\n",
    "huzzah32:\n",
    "    uid: 24:0a:c4:12:87:7c\n",
    "    resources:\n",
    "        - pystone.py\n",
    "        - secrets.py\n",
    "        - bno055\n",
    "```\n",
    "\n",
    "Resources is a list of python source files and packages stored in path-like environment variable `IOT_LIBS` (defaults to '~/iot49/libs')."
   ]
  },
  {
   "cell_type": "code",
   "execution_count": 1,
   "id": "13bf7e6e-0f1e-4128-ae56-ddf0cbbad1ec",
   "metadata": {
    "tags": [
     "hide-cell"
    ]
   },
   "outputs": [
    {
     "name": "stdout",
     "output_type": "stream",
     "text": [
      "\u001b[0m\u001b[0m\u001b[46m\u001b[30mConnected to huzzah32 @ serial:///dev/ttyUSB1\u001b[0m\n",
      "\u001b[0m"
     ]
    }
   ],
   "source": [
    "%connect huzzah32\n",
    "\n",
    "# start with a clean slate\n",
    "%rm -rf /lib"
   ]
  },
  {
   "cell_type": "code",
   "execution_count": 1,
   "id": "35d5cd9f-3bc2-4d2c-af56-b015b9ad19eb",
   "metadata": {},
   "outputs": [
    {
     "name": "stdout",
     "output_type": "stream",
     "text": [
      "\u001b[0m\u001b[0m\u001b[32mADD     /lib/bno055/bno055.py\n",
      "\u001b[0m\u001b[0m\u001b[32mADD     /lib/bno055/bno055_base.py\n",
      "\u001b[0m\u001b[0m\u001b[32mADD     /lib/bno055/bno055_test.py\n",
      "\u001b[0m\u001b[0m\u001b[32mADD     /lib/pystone.py\n",
      "\u001b[0m\u001b[0m\u001b[32mADD     /lib/secrets.py\n",
      "\u001b[0m\u001b[0m"
     ]
    }
   ],
   "source": [
    "%rsync"
   ]
  },
  {
   "cell_type": "code",
   "execution_count": 1,
   "id": "49e700da-adcb-4d4a-8f24-066c66919b2a",
   "metadata": {},
   "outputs": [
    {
     "name": "stdout",
     "output_type": "stream",
     "text": [
      "\u001b[0m\u001b[0m                            \u001b[32mlib/\u001b[0m\n",
      "\u001b[0m                                \u001b[32mbno055/\u001b[0m\n",
      "\u001b[0m   6491  Jun 29 18:41 2021          \u001b[34mbno055.py\u001b[0m\n",
      "\u001b[0m   5598  Jun 29 18:41 2021          \u001b[34mbno055_base.py\u001b[0m\n",
      "\u001b[0m   1078  Jun 29 18:41 2021          \u001b[34mbno055_test.py\u001b[0m\n",
      "\u001b[0m   7933  Jun 29 18:41 2021      \u001b[34mpystone.py\u001b[0m\n",
      "\u001b[0m    317  Jun 29 18:41 2021      \u001b[34msecrets.py\u001b[0m\n",
      "\u001b[0m"
     ]
    }
   ],
   "source": [
    "%rlist"
   ]
  },
  {
   "cell_type": "code",
   "execution_count": 1,
   "id": "df8848ea-bb51-4e8c-827f-ce3a1325c132",
   "metadata": {},
   "outputs": [
    {
     "name": "stdout",
     "output_type": "stream",
     "text": [
      "\u001b[0m\u001b[0m\u001b[32mDirectories match\n",
      "\u001b[0m\u001b[0m\u001b[0m\u001b[0m\n",
      "\u001b[46m\u001b[31m!!!!!!!!!!!!!!!!!!!!!!!!!!!!!!!\u001b[0m\n",
      "\u001b[46m\u001b[31m!!!!!   softreset ...     !!!!!\u001b[0m\n",
      "\u001b[46m\u001b[31m!!!!!!!!!!!!!!!!!!!!!!!!!!!!!!!\u001b[0m\n",
      "\u001b[0m\n",
      "Pystone(1.2) time for 2000 passes = 1.968 seconds\n",
      "This machine benchmarks at 1016.26 pystones/second\n",
      "\u001b[0m"
     ]
    }
   ],
   "source": [
    "%rsync\n",
    "%softreset\n",
    "\n",
    "import pystone\n",
    "pystone.main(2000)"
   ]
  },
  {
   "cell_type": "markdown",
   "id": "d1ee0b95-e6ff-493e-84d2-a2290d76e3b4",
   "metadata": {},
   "source": [
    "### Custom Destination\n",
    "\n",
    "By default, resources are installed in the `/lib` folder on the microcontroller. Files like `boot.py` instead go to a special location. Updated configuration:\n",
    "\n",
    "```yaml\n",
    "huzzah32:\n",
    "    uid: 24:0a:c4:12:87:7c\n",
    "    resources:\n",
    "        - esp32:\n",
    "            install-dir: /\n",
    "            unpack: true\n",
    "        - pystone.py\n",
    "        - secrets.py: /\n",
    "        - bno055\n",
    "```\n",
    "\n",
    "`install-dir` overwrites the default (`/lib`) and `unpack` indicates that the resource should not be treated as a package but instead the contents should be uploaded.\n",
    "\n",
    "`secrets.py: /` is a shorthand for\n",
    "\n",
    "```yaml\n",
    "- secrets.py:\n",
    "    install-dir: /\n",
    "```"
   ]
  },
  {
   "cell_type": "code",
   "execution_count": 1,
   "id": "0e1869da-d191-4075-b18f-e8166b2db148",
   "metadata": {
    "tags": []
   },
   "outputs": [
    {
     "name": "stdout",
     "output_type": "stream",
     "text": [
      "\u001b[0m\u001b[0m\u001b[34mUPDATE  /boot.py\n",
      "\u001b[0m\u001b[0m\u001b[0m   1787  Jun 29 18:58 2021  \u001b[34mboot.py\u001b[0m\n",
      "\u001b[0m                            \u001b[32mlib/\u001b[0m\n",
      "\u001b[0m                                \u001b[32mbno055/\u001b[0m\n",
      "\u001b[0m   6491  Jun 29 18:41 2021          \u001b[34mbno055.py\u001b[0m\n",
      "\u001b[0m   5598  Jun 29 18:41 2021          \u001b[34mbno055_base.py\u001b[0m\n",
      "\u001b[0m   1078  Jun 29 18:41 2021          \u001b[34mbno055_test.py\u001b[0m\n",
      "\u001b[0m                                \u001b[32mota32/\u001b[0m\n",
      "\u001b[0m     51  Jun 29 18:46 2021          \u001b[34m__init__.py\u001b[0m\n",
      "\u001b[0m   2048  Jun 29 18:46 2021          \u001b[34mopen_url.py\u001b[0m\n",
      "\u001b[0m   3489  Jun 29 18:46 2021          \u001b[34mota.py\u001b[0m\n",
      "\u001b[0m   7933  Jun 29 18:41 2021      \u001b[34mpystone.py\u001b[0m\n",
      "\u001b[0m    418  Jun 29 18:46 2021  \u001b[34mmp_main.py\u001b[0m\n",
      "\u001b[0m    317  Jun 29 18:48 2021  \u001b[34msecrets.py\u001b[0m\n",
      "\u001b[0m     52  Jun 29 18:46 2021  \u001b[34mwebrepl_cfg.py\u001b[0m\n",
      "\u001b[0m"
     ]
    }
   ],
   "source": [
    "%rsync\n",
    "%rlist"
   ]
  },
  {
   "cell_type": "code",
   "execution_count": 1,
   "id": "fff8f76c-c51c-4f46-a375-96218c67d6d4",
   "metadata": {},
   "outputs": [
    {
     "name": "stdout",
     "output_type": "stream",
     "text": [
      "\u001b[0m\u001b[0m\u001b[0m\n",
      "\u001b[46m\u001b[31m!!!!!!!!!!!!!!!!!!!!!!!!!!!!!!!\u001b[0m\n",
      "\u001b[46m\u001b[31m!!!!!   softreset ...     !!!!!\u001b[0m\n",
      "\u001b[46m\u001b[31m!!!!!!!!!!!!!!!!!!!!!!!!!!!!!!!\u001b[0m\n",
      "\u001b[0m\n",
      "WebREPL daemon started on ws://10.39.40.163:8266\n",
      "Started webrepl in normal mode\n",
      "\u001b[0m"
     ]
    }
   ],
   "source": [
    "%softreset\n",
    "import boot"
   ]
  },
  {
   "cell_type": "code",
   "execution_count": 1,
   "id": "918e39f1-ee18-440d-a765-be3b0789cc0c",
   "metadata": {},
   "outputs": [
    {
     "name": "stdout",
     "output_type": "stream",
     "text": [
      "\u001b[0m\u001b[0m\u001b[46m\u001b[30mConnected to huzzah32 @ ws://10.39.40.163:8266\u001b[0m\n"
     ]
    }
   ],
   "source": [
    "%connect 'ws://10.39.40.163:8266'"
   ]
  },
  {
   "cell_type": "code",
   "execution_count": 1,
   "id": "b224134a-c760-4597-a21d-f95319e40505",
   "metadata": {},
   "outputs": [
    {
     "name": "stdout",
     "output_type": "stream",
     "text": [
      "\u001b[0m10.39.40.163\n",
      "\u001b[0m"
     ]
    }
   ],
   "source": [
    "import network\n",
    "wlan = network.WLAN(network.STA_IF)\n",
    "print(wlan.ifconfig()[0])"
   ]
  },
  {
   "cell_type": "markdown",
   "id": "4277fa3c-737e-483c-83c0-9b1044c74514",
   "metadata": {},
   "source": [
    "### Full Example\n",
    "\n",
    "This particular `stm32` processor has a small on-chip flash partition at `/flash` used for `boot.py` and the code to mount an external flash chip at `/spi`. Libraries that do not need to be on `/flash` are installed in `/spi/lib`.\n",
    "\n",
    "The configuration also specifies a custom library path that is searched instead of `$IOT_LIBS`.\n",
    "\n",
    "```yaml\n",
    "test-stm32:\n",
    "    uid: 27:00:55:00:09:50:52:42:4e:30:39:20\n",
    "    libs:\n",
    "        - $IOT49/libs\n",
    "        - $IOT/projects/airlift/libs\n",
    "    install-dir: /spi/lib\n",
    "    resources:\n",
    "        - stm32: \n",
    "            install-dir: /flash\n",
    "            unpack: true\n",
    "        - secrets.py: /spi\n",
    "        - neopixel.py\n",
    "        - airlift_client:\n",
    "            unpack: true\n",
    "        - mp_server:\n",
    "            unpack: true\n",
    "            install-dir: /spi/lib/mp\n",
    "```"
   ]
  },
  {
   "cell_type": "markdown",
   "id": "f3e5efa4-9e90-4dc4-94f4-d245c80ce62d",
   "metadata": {},
   "source": [
    "(secrets)=\n",
    "## secrets.py\n",
    "\n",
    "A Python file used to define confidential information such as passwords. Example:\n",
    "\n",
    "```python\n",
    "# secrets.py\n",
    "\n",
    "# wifi\n",
    "wifi_ssid = 'WIFI_SSID'\n",
    "wifi_pwd  = 'WIFI_PASSWORD'\n",
    "\n",
    "# timezone\n",
    "tz_offset = -8*3600    # PST\n",
    "\n",
    "# mp wireless \"repl\" password\n",
    "mp_pwd  = '&(*HFODjpwdlsdf30i%^&'\n",
    "\n",
    "# webrepl password, 4 .. 9 characters\n",
    "webrepl_pwd = 'fjlkflsad'\n",
    "\n",
    "# https://openweathermap.org/\n",
    "openweathermap_apiid = \"354f336ac61afasf2b73af8f\"\n",
    "```\n",
    "\n",
    "Some of these variables (e.g `webrepl_pwd`) are used by MicroPython and *ide49*."
   ]
  },
  {
   "cell_type": "code",
   "execution_count": null,
   "id": "326e8bfb-dcc8-46bd-b15b-093b93b00959",
   "metadata": {},
   "outputs": [],
   "source": []
  }
 ],
 "metadata": {
  "kernelspec": {
   "display_name": "IoT",
   "language": "python",
   "name": "iot_kernel"
  },
  "language_info": {
   "codemirror_mode": {
    "name": "python",
    "version": 3
   },
   "file_extension": ".py",
   "mimetype": "text/x-python",
   "name": "python",
   "pygments_lexer": "python3",
   "version": "3"
  }
 },
 "nbformat": 4,
 "nbformat_minor": 5
}
