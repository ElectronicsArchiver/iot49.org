{
 "cells": [
  {
   "cell_type": "markdown",
   "id": "2f8db4a2-c649-4a89-abf1-fb1acbedb41c",
   "metadata": {},
   "source": [
    "# Storage (flash)\n",
    "\n",
    "Broadly, [Docker](https://docs.docker.com/storage/) containers distinguish different \"types\" of data storage.\n",
    "\n",
    "## Owned by the container\n",
    "\n",
    "That's the default and includes all operating system related files, installed software (compilers, etc). \n",
    "\n",
    "Although it's possible to make changes (e.g. with `apt-get` run inside the container), those changes do not persist between updates and hence should be avoided. Best practice is not to modify files \"owned\" by the container. \n",
    "\n",
    "This part of storage is \"private\" to the container and invisible to other containers in the same app.\n",
    "\n",
    "## Mounted into the container (volumes)\n",
    "\n",
    "Storage can also be \"mounted\" from the \"host\", the underlying operating system that runs the Docker app, *ide49*. In *ide49*, `/home/iot` and `/service-config` are mounted. \n",
    "\n",
    "The same volumes can be mounted into several containers (at the same or different locations). This allows sharing data. For example, all volumes are mounted in the `duplicati` (backup) container. \n",
    "\n",
    "Likewise, configuration files, e.g. for `nginx` (webserver), are mounted in `/service-config` in the `code-server` and `jupyter` containers for editing, and at the proper path in the various containers that need configuration (e.g. `/etc/nginx`).\n",
    "\n",
    "Changes to volumes persist between container updates. \n",
    "\n",
    "## Samba fileshare\n",
    "\n",
    "In addition to the types of storage discussed above, *ide49* can also be configured to mount `/home/iot` from a Samba file server.\n",
    "\n",
    "Uses include sharing the same data between several *ide49* instances or in situations where a shared file server, perhaps with centralized backup, is preferred.\n",
    "\n",
    "For convenience, the entire home directory is mounted. This can cause some undesired behavior. For example, databases frequently use status files (e.g. locks) used by the running instance. Sharing those with another device (running perhaps a different instance of the same database) results in conflicts.\n",
    "\n",
    "To prevent this, the local iot volume is always available at `/service-config/iot-home`. Unlike `/home/iot`, this copy is never \"hidden\" by a Samba mount. *ide49* is configured to store status information (e.g. for `jupyter`) in `/service-config/iot-home` rather than `/home/iot`.\n",
    "\n",
    "## Python packages (pip)\n",
    "\n",
    "In general, customizing *ide49* is accomplished by modifying the application (Dockerfiles etc). Fortunately that's straightforward and can be accomplished right [from within *ide49*](customize.ipynb). Installing additional linux packages (`apt-get`) should use this route.\n",
    "\n",
    "Python packages are a special case. App development invariably runs into situations where a needed package is not preinstalled in *ide49*. Because of this, the `jupyter` container in *ide49* supports installing Python packages by the user. Effectively using `pip` from the command line \"just works\". \n",
    "\n",
    "This is how:\n",
    "\n",
    "1. The Python interpreter itself and core packages are owned by root and installed at a location owned by the container. Modify *ide49* to make changes to these (e.g. upgrade the interpreter).\n",
    "\n",
    "2. The Dockerfile installs packages (e.g. `jupyterlab`) as root. They are available on the Python path.\n",
    "\n",
    "3. Packages installed by the user are saved to `/service-config/iot-home/.local` (configured by the environment variable `PYTHONUSERBASE`). This location persists between app updates. It is never shared/mounted by Samba, avoiding the possibility of package incompatibilities (e.g. different processor architectures, `aarch64` and `amd64`).\n",
    "\n",
    "Python is configured to look for packages in all these locations."
   ]
  },
  {
   "cell_type": "code",
   "execution_count": 1,
   "id": "022cdc24-f9e3-408c-9677-2f1eb13c91a9",
   "metadata": {},
   "outputs": [
    {
     "name": "stdout",
     "output_type": "stream",
     "text": [
      "sys.path = [\n",
      "    '/home/iot/iot49.org/docs/ide/reference',\n",
      "    '/home/iot/projects/robot/code-pi',\n",
      "    '/usr/local/lib/python38.zip',\n",
      "    '/usr/local/lib/python3.8',\n",
      "    '/usr/local/lib/python3.8/lib-dynload',\n",
      "    '/service-config/iot-home/.local/lib/python3.8/site-packages',\n",
      "    '/usr/local/lib/python3.8/site-packages',\n",
      "]\n",
      "USER_BASE: '/service-config/iot-home/.local' (exists)\n",
      "USER_SITE: '/service-config/iot-home/.local/lib/python3.8/site-packages' (exists)\n",
      "ENABLE_USER_SITE: True\n"
     ]
    }
   ],
   "source": [
    "!python -m site"
   ]
  },
  {
   "cell_type": "code",
   "execution_count": 2,
   "id": "5fba3b1b-2932-403b-a822-5ed04b4c9809",
   "metadata": {},
   "outputs": [
    {
     "name": "stdout",
     "output_type": "stream",
     "text": [
      "/bin:/usr/local/sbin:/usr/local/bin:/usr/sbin:/usr/bin:/sbin:/bin\n"
     ]
    }
   ],
   "source": [
    "!echo $PATH"
   ]
  },
  {
   "cell_type": "markdown",
   "id": "a062602e-15cb-465e-954b-d8c277303c33",
   "metadata": {},
   "source": [
    "## Failed attempt to install packages in container as non-root\n",
    "\n",
    "* Problem(s):\n",
    "    * Cannot get the iot-kernel recognized in Jupyter\n",
    "\n",
    "In general, customizing *ide49* is accomplished by modifying the application (Dockerfiles etc). Fortunately that's straightforward and can be accomplished right [from within *ide49*](customize.ipynb). Installing additional linux packages (`apt-get`) should use this route.\n",
    "\n",
    "Python packages are a special case. App development invariably runs into situations where a needed package is not preinstalled in *ide49*. Because of this, the `jupyter` container in *ide49* supports installing Python packages by the user. Effectively using `pip` from the command line \"just works\". \n",
    "\n",
    "This is how:\n",
    "\n",
    "1. The Python interpreter itself and core packages are owned by root and installed at a location owned by the container. Modify *ide49* to make changes to these (e.g. upgrade the interpreter).\n",
    "\n",
    "2. Packages preinstalled by the container (e.g. `jupyterlab`) are located in `/opt/python_base`. This folder is part of the container (i.e. overwritten each time the app is updated), but \"owned\" by user `iot`. This is to prevent problems with Python packages installed as the `root` user.\n",
    "\n",
    "3. Packages installed by the user are saved to `/service-config/iot-home/.local` (configured by the environment variable `PYTHONUSERBASE`). This location persists between app updates. It is never shared/mounted by Samba, avoiding the possibility of package incompatibilities (e.g. different processor architectures, `aarch64` and `amd64`).\n",
    "\n",
    "Python is configured to look for packages in all these locations."
   ]
  },
  {
   "cell_type": "code",
   "execution_count": null,
   "id": "738dccfa-f2f6-4763-8983-e2d184b55121",
   "metadata": {},
   "outputs": [],
   "source": []
  }
 ],
 "metadata": {
  "kernelspec": {
   "display_name": "Python 3",
   "language": "python",
   "name": "python3"
  },
  "language_info": {
   "codemirror_mode": {
    "name": "ipython",
    "version": 3
   },
   "file_extension": ".py",
   "mimetype": "text/x-python",
   "name": "python",
   "nbconvert_exporter": "python",
   "pygments_lexer": "ipython3",
   "version": "3.8.10"
  }
 },
 "nbformat": 4,
 "nbformat_minor": 5
}
