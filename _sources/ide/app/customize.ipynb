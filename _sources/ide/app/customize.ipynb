{
 "cells": [
  {
   "cell_type": "markdown",
   "id": "def06b87-d432-4370-aa44-2aca8b8c447b",
   "metadata": {},
   "source": [
    "# Customize *ide49*\n",
    "\n",
    "*ide49* is a [docker](https://www.docker.com) application served by the [balena cloud](https://www.balena.io/cloud/), a version of docker customized for devices with low resources (compared to [datacenters](https://hub.docker.com/bundles/docker-datacenter), a primary target of docker).\n",
    "\n",
    "*ide49* is completely customizable: you can alter, add, and remove services-right from within *ide49*.\n",
    "\n",
    "Go to https://iot49.local/balena_cli and clone [*ide49*](https://github.com/iot49/ide49):"
   ]
  },
  {
   "cell_type": "code",
   "execution_count": null,
   "id": "6d4fced3-1003-4804-83d1-26356d5f137c",
   "metadata": {},
   "outputs": [],
   "source": [
    "%%bash\n",
    "\n",
    "git clone https://github.com/iot49/ide49.git"
   ]
  },
  {
   "cell_type": "markdown",
   "id": "3a1c295f-702e-4685-9e51-c43e2b144299",
   "metadata": {},
   "source": [
    "Go to the cloned folder and make desired changes. Open a terminal run the statements below. Replace `APP_NAME` with the name of the app on balena-cloud you want to update. \n",
    "\n",
    "```bash\n",
    "balena login\n",
    "balena push APP_NAME\n",
    "```\n",
    "\n",
    "You may want to create a separate application for experimenting to avoid getting locked out of *ide49* in case of errors.\n",
    "\n",
    "Check the online documentation for docker and balena for further information."
   ]
  },
  {
   "cell_type": "code",
   "execution_count": null,
   "id": "9de15b72-4f4d-450b-8e95-1f5fc9e6240d",
   "metadata": {},
   "outputs": [],
   "source": []
  }
 ],
 "metadata": {
  "kernelspec": {
   "display_name": "IoT",
   "language": "python",
   "name": "iot_kernel"
  },
  "language_info": {
   "codemirror_mode": {
    "name": "python",
    "version": 3
   },
   "file_extension": ".py",
   "mimetype": "text/x-python",
   "name": "python",
   "pygments_lexer": "python3",
   "version": "3"
  }
 },
 "nbformat": 4,
 "nbformat_minor": 5
}
