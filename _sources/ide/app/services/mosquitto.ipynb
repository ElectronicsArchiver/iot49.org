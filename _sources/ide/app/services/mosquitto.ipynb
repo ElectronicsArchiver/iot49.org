{
 "cells": [
  {
   "cell_type": "markdown",
   "id": "e5176bd6-4dd5-4860-9cba-58ff01723006",
   "metadata": {},
   "source": [
    "# MQTT"
   ]
  },
  {
   "cell_type": "markdown",
   "id": "0cbcbe4c-c70a-4b3e-826a-b62366652f34",
   "metadata": {},
   "source": [
    "A [Mosquitto](https://mosquitto.org/) MQTT broker.\n",
    "\n",
    "**Note:** by default the app does not use encryption or access control. Edit the configuration in `/service-config/mosquitto` to customize to your needs."
   ]
  },
  {
   "cell_type": "code",
   "execution_count": null,
   "id": "a7424831-7f35-45b3-912d-5da02a54f385",
   "metadata": {},
   "outputs": [],
   "source": []
  }
 ],
 "metadata": {
  "kernelspec": {
   "display_name": "IoT",
   "language": "python",
   "name": "iot_kernel"
  },
  "language_info": {
   "codemirror_mode": {
    "name": "python",
    "version": 3
   },
   "file_extension": ".py",
   "mimetype": "text/x-python",
   "name": "python",
   "pygments_lexer": "python3",
   "version": "3"
  }
 },
 "nbformat": 4,
 "nbformat_minor": 5
}
