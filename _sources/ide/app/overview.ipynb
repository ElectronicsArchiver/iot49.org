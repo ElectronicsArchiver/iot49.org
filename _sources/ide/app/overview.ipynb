{
 "cells": [
  {
   "cell_type": "markdown",
   "id": "f24bec1e-1455-4209-82b3-ff2095222625",
   "metadata": {},
   "source": [
    "# Overview\n",
    "\n",
    "*ide49* is based on [Balena](https://www.balena.io/what-is-balena), a version of [Docker](https://www.docker.com/) optimized for IoT devices, rather than datacenters.\n",
    "\n",
    "```{figure} figures/app.png\n",
    ":alt: balena_app\n",
    ":width: 400px\n",
    ":align: center\n",
    "\n",
    "Structure of a Docker application. A single Linux kernel is shared between the host and one or more user containers.\n",
    "```\n",
    "\n",
    "The balenaOS takes the function of the host operating system. Unlike other operating systems (Windows, MacOS, ...), it is highly specialized to run individual services in so-called containers. In *ide49* containers include micropython, code-server, duplicati, etc.\n",
    "\n",
    "A set of [configuration files](https://github.com/iot49/ide49) describes the application. The [docker-compose.yml](https://github.com/iot49/ide49/blob/main/docker-compose.yml) file lists all user containers along with configuration parameters and information about how they interact. E.g. containers may be permitted to share files (`volumes`) or communicate over dedicated networks that are inaccessible from outside.\n",
    "\n",
    "Each container presents a separate instance of Linux, and usually implement just one function. This arrangement minimizes undesired interaction e.g. between incompatible libraries used in various application programs. It's like having a separate computer for each task (code editor, backup, etc).\n",
    "\n",
    "The software installed in each container is described with a Dockerfile. For example, the first line in the Dockerfile for the [micropython](https://github.com/iot49/ide49/blob/main/core/micropython/Dockerfile) specifies that this service is derived from a slightly customized version of an \"official\" [Jupyter docker image](https://jupyter-docker-stacks.readthedocs.io/en/latest/using/selecting.html#jupyter-scipy-notebook). This image is based on Ubuntu Linux and includes, notably, the Jupyter Notebook server as well as a host of libraries for scientific computation and plotting. Following the FROM statement are instructions for installing additional software and configuration files including the IoT Kernel used for interacting with the MicroPython REPL. \n",
    "\n",
    "## BalenaEngine\n",
    "\n",
    "In Balena, the balenaEngine takes the function of the docker deamon in standard docker apps. It is accessed from the host with the `balena-engine` command. "
   ]
  },
  {
   "cell_type": "code",
   "execution_count": 1,
   "id": "4dfbd8d4-e841-409a-b063-6f203151b178",
   "metadata": {
    "collapsed": true,
    "jupyter": {
     "outputs_hidden": true
    },
    "tags": [
     "hide-output"
    ]
   },
   "outputs": [
    {
     "name": "stdout",
     "output_type": "stream",
     "text": [
      "\u001b[0m\u001b[0m\n",
      "\u001b[0mUsage:\tbalena-engine [OPTIONS] COMMAND\n",
      "\n",
      "A self-sufficient runtime for containers\n",
      "\n",
      "Options:\n",
      "      --config string      Location of client config files (default\n",
      "                           \"/home/root/.balena-engine\")\n",
      "  -c, --context string     Name of the context to use to connect to the\n",
      "                           daemon (overrides DOCKER_HOST env var and\n",
      "                           default context set with \"docker context use\")\n",
      "  -D, --debug              Enable debug mode\n",
      "  -H, --host list          Daemon socket(s) to connect to\n",
      "  -l, --log-level string   Set the logging level\n",
      "                           (\"debug\"|\"info\"|\"warn\"|\"error\"|\"fatal\")\n",
      "                           (default \"info\")\n",
      "      --tls                Use TLS; implied by --tlsverify\n",
      "      --tlscacert string   Trust certs signed only by this CA (default\n",
      "                           \"/home/root/.balena-engine/ca.pem\")\n",
      "      --tlscert string     Path to TLS certificate file (default\n",
      "                           \"/home/root/.balena-engine/cert.pem\")\n",
      "      --tlskey string      Path to TLS key file (default\n",
      "                           \"/home/root/.balena-engine/key.pem\")\n",
      "      --tlsverify          Use TLS and verify the remote\n",
      "  -v, --version            Print version information and quit\n",
      "\n",
      "Management Commands:\n",
      "  builder     Manage builds\n",
      "  container   Manage containers\n",
      "  engine      Manage the docker engine\n",
      "  image       Manage images\n",
      "  network     Manage networks\n",
      "  system      Manage Docker\n",
      "  trust       Manage trust on Docker images\n",
      "  volume      Manage volumes\n",
      "\n",
      "Commands:\n",
      "  attach      Attach local standard input, output, and error streams to a running container\n",
      "  build       Build an image from a Dockerfile\n",
      "  commit      Create a new image from a container's changes\n",
      "  cp          Copy files/folders between a container and the local filesystem\n",
      "  create      Create a new container\n",
      "  diff        Inspect changes to files or directories on a container's filesystem\n",
      "  events      Get real time events from the server\n",
      "  exec        Run a command in a running container\n",
      "  export      Export a container's filesystem as a tar archive\n",
      "  history     Show the history of an image\n",
      "  images      List images\n",
      "  import      Import the contents from a tarball to create a filesystem image\n",
      "  info        Display system-wide information\n",
      "  inspect     Return low-level information on Docker objects\n",
      "  kill        Kill one or more running containers\n",
      "  load        Load an image from a tar archive or STDIN\n",
      "  login       Log in to a Docker registry\n",
      "  logout      Log out from a Docker registry\n",
      "  logs        Fetch the logs of a container\n",
      "  pause       Pause all processes within one or more containers\n",
      "  port        List port mappings or a specific mapping for the container\n",
      "  ps          List containers\n",
      "  pull        Pull an image or a repository from a registry\n",
      "  push        Push an image or a repository to a registry\n",
      "  rename      Rename a container\n",
      "  restart     Restart one or more containers\n",
      "  rm          Remove one or more containers\n",
      "  rmi         Remove one or more images\n",
      "  run         Run a command in a new container\n",
      "  save        Save one or more images to a tar archive (streamed to STDOUT by default)\n",
      "  search      Search the Docker Hub for images\n",
      "  start       Start one or more stopped containers\n",
      "  stats       Display a live stream of container(s) resource usage statistics\n",
      "  stop        Stop one or more running containers\n",
      "  tag         Create a tag TARGET_IMAGE that refers to SOURCE_IMAGE\n",
      "  top         Display the running processes of a container\n",
      "  unpause     Unpause all processes within one or more containers\n",
      "  update      Update configuration of one or more containers\n",
      "  version     Show the Docker version information\n",
      "  wait        Block until one or more containers stop, then print their exit codes\n",
      "\n",
      "Run 'balena-engine COMMAND --help' for more information on a command.\n",
      "\u001b[0m"
     ]
    }
   ],
   "source": [
    "%%service host\n",
    "balena-engine --help"
   ]
  },
  {
   "cell_type": "markdown",
   "id": "641eecc1-e07f-4d96-955f-4cc04363d0d9",
   "metadata": {},
   "source": [
    "To get a list of all running containers, type:"
   ]
  },
  {
   "cell_type": "code",
   "execution_count": 2,
   "id": "11b0cf79-8dd1-49c3-87c4-8a14e92569fd",
   "metadata": {},
   "outputs": [
    {
     "name": "stdout",
     "output_type": "stream",
     "text": [
      "\u001b[0m\u001b[0mNAMES                         SIZE                      IMAGE\n",
      "jupyter_3834077_1864199       27.9kB (virtual 1.7GB)    17ed674e39be\u001b[0m\n",
      "esp-idf_3834084_1864199       27.9kB (virtual 2.25GB)   5ccaf3068e5a\n",
      "balena-cli_3834085_1864199    0B (virtual 1.62GB)       74a76eccf611\n",
      "arm32_3834083_1864199         0B (virtual 1.69GB)       5a7c64cb8d95\n",
      "nginx_3834076_1864199         3B (virtual 28.9MB)       0fc36cfd415e\n",
      "duplicati_3834079_1864199     333kB (virtual 659MB)     70aa02f766b5\n",
      "code-server_3834078_1864199   334kB (virtual 543MB)     eab6f75bba26\n",
      "plotserver_3834082_1864199    0B (virtual 590MB)        f3ee00d5c1c6\n",
      "mosquitto_3834081_1864199     0B (virtual 9.95MB)       05117273e504\n",
      "smb_3834080_1864199           355kB (virtual 225MB)     edaa3074ac12\n",
      "resin_supervisor              45B (virtual 66.3MB)      registry2.balena-cloud.com/v2/d889d3981987f55bc74a78989588bf14:latest\n",
      "\u001b[0m"
     ]
    }
   ],
   "source": [
    "%%service host\n",
    "balena-engine ps --format \"table {{.Names}}\\t{{.Size}}\\t{{.Image}}\""
   ]
  },
  {
   "cell_type": "markdown",
   "id": "91a9044e-f004-482c-a76b-5d092c3b1544",
   "metadata": {},
   "source": [
    "The balenaEngine has many more features. For example, to get the build history for the arm32 image run"
   ]
  },
  {
   "cell_type": "code",
   "execution_count": 1,
   "id": "e3ce8c1f-a981-4329-b76e-85be76347b0b",
   "metadata": {
    "collapsed": true,
    "jupyter": {
     "outputs_hidden": true
    },
    "tags": [
     "hide-output"
    ]
   },
   "outputs": [
    {
     "name": "stdout",
     "output_type": "stream",
     "text": [
      "\u001b[0m\u001b[0mSIZE                CREATED BY\n",
      "0B                  /bin/sh -c #(nop)  CMD [\"/bin/bash\" \"/usr/lo…\n",
      "0B                  /bin/sh -c #(nop) WORKDIR /home/iot\n",
      "0B                  /bin/sh -c #(nop)  USER iot\n",
      "336kB               /bin/sh -c chmod a+rx /usr/local/bin/start.s…\n",
      "699B                /bin/sh -c #(nop) COPY file:c2e922284a361f02…\n",
      "826MB               /bin/sh -c install_packages     git     cifs…\n",
      "0B\u001b[0m                  /bin/sh -c #(nop)  ENV UDEV=1\n",
      "122kB               /bin/sh -c echo '#!/bin/sh.real\\nbalena-info…\n",
      "616B                /bin/sh -c [ ! -d /.balena/messages ] && mkd…\n",
      "1.32MB              /bin/sh -c curl -SLO \"https://raw.githubuser…\n",
      "0B                  /bin/sh -c #(nop)  CMD [\"echo\" \"'No CMD comm…\n",
      "0B                  /bin/sh -c #(nop)  ENV PYTHONPATH=/usr/lib/p…\n",
      "50B                 /bin/sh -c cd /usr/local/bin  && ln -sf pip3…\n",
      "1.78MB              /bin/sh -c set -x  && mkdir -p /usr/src/dbus…\n",
      "43MB                /bin/sh -c apt-get update && apt-get install…\n",
      "0B                  /bin/sh -c #(nop)  ENV PYTHON_DBUS_VERSION=1…\n",
      "14.7MB              /bin/sh -c pip3 install --no-cache-dir virtu…\n",
      "110MB               /bin/sh -c set -x  && curl -SLO \"http://resi…\n",
      "0B                  /bin/sh -c #(nop)  ENV SETUPTOOLS_VERSION=56…\n",
      "0B                  /bin/sh -c #(nop)  ENV PYTHON_PIP_VERSION=21…\n",
      "0B                  /bin/sh -c #(nop)  ENV PYTHON_VERSION=3.8.10\n",
      "71.4kB              /bin/sh -c gpg --batch --keyserver keyring.d…\n",
      "0B                  /bin/sh -c #(nop)  ENV LANG=C.UTF-8\n",
      "2.07MB              /bin/sh -c apt-get purge -y python.*\n",
      "122kB               /bin/sh -c echo '#!/bin/sh.real\\nbalena-info…\n",
      "520B                /bin/sh -c [ ! -d /.balena/messages ] && mkd…\n",
      "4.94MB              /bin/sh -c apt-get update && apt-get install…\n",
      "0B                  /bin/sh -c #(nop)  LABEL io.balena.device-ty…\n",
      "122kB               /bin/sh -c echo '#!/bin/sh.real\\nbalena-info…\n",
      "463B                /bin/sh -c [ ! -d /.balena/messages ] && mkd…\n",
      "0B                  /bin/sh -c curl -SLO \"https://raw.githubuser…\n",
      "0B                  /bin/sh -c #(nop)  ENTRYPOINT [\"/usr/bin/ent…\n",
      "1.03kB              /bin/sh -c #(nop) COPY file:ddba37be3f874f81…\n",
      "202B                /bin/sh -c #(nop) COPY file:2d972097f28a121b…\n",
      "1.71kB              /bin/sh -c #(nop) COPY file:cc0a16214fb66527…\n",
      "0B                  /bin/sh -c mkdir -p /usr/share/man/man1\n",
      "99B                 /bin/sh -c echo 'APT::Get::Assume-Yes \"true\"…\n",
      "297B                /bin/sh -c echo 'path-exclude /usr/share/doc…\n",
      "0B                  /bin/sh -c #(nop)  ENV UDEV=off\n",
      "0B                  /bin/sh -c #(nop)  ENV DEBIAN_FRONTEND=nonin…\n",
      "0B                  /bin/sh -c #(nop)  ENV LC_ALL=C.UTF-8\n",
      "1.62MB              /bin/sh -c curl -SLO \"http://resin-packages.…\n",
      "572MB               /bin/sh -c apt-get update && apt-get install…\n",
      "42.1MB              /bin/sh -c apt-get update && apt-get install…\n",
      "0B                  /bin/sh -c #(nop)  LABEL io.balena.architect…\n",
      "0B                  /bin/sh -c #(nop)  CMD [\"bash\"]\n",
      "69.3MB              /bin/sh -c #(nop) ADD file:7362e0e50f30ff454…\n",
      "\u001b[0m"
     ]
    }
   ],
   "source": [
    "%%service host\n",
    "balena-engine history 5a7c64cb8d95 --format \"table {{.Size}}\\t{{.CreatedBy}}\" # --no-trunc"
   ]
  },
  {
   "cell_type": "markdown",
   "id": "7838aeab-36c9-4809-9b32-27a7794033bf",
   "metadata": {},
   "source": [
    "## Networking\n",
    "\n",
    "Containers use networks for communication. *ide49* makes use of two separate networks:\n",
    "\n",
    "* an internal network used only for communication within the app, and\n",
    "* the host network, used to access the Internet.\n",
    "\n",
    "Most containers have access only to the internal network. The `nginx` webserver acts as a reverse proxy to pass requests received from browsers on port 443 (and port 80, which is forwarded to 443) to the appropriate container on the internal network. The single ingress allows centralized handling of encryption and password verification in one place. The nginx configration is at"
   ]
  },
  {
   "cell_type": "code",
   "execution_count": 2,
   "id": "8e9aba50-732f-4b2e-86c5-892987a24765",
   "metadata": {
    "collapsed": true,
    "jupyter": {
     "outputs_hidden": true
    },
    "tags": [
     "hide-output"
    ]
   },
   "outputs": [
    {
     "name": "stdout",
     "output_type": "stream",
     "text": [
      "\u001b[0m# /etc/nginx/nginx.conf\n",
      "\n",
      "user                                nginx;\n",
      "worker_processes                    1;\n",
      "\n",
      "error_log                           /var/log/nginx/error.log warn;\n",
      "pid                                 /var/run/nginx.pid;\n",
      "\n",
      "\n",
      "events {\n",
      "    worker_connections              256;\n",
      "}\n",
      "\n",
      "http {\n",
      "    include                         /etc/nginx/mime.types;\n",
      "    default_type                    application/octet-stream;\n",
      "\n",
      "    log_format main                 '$remote_addr - $remote_user \"$request\" '\n",
      "                                    '$status $body_bytes_sent \"$http_referer\" '\n",
      "                                    '\"$http_x_forwarded_for\"';\n",
      "\n",
      "    access_log                      /var/log/nginx/access.log main;\n",
      "\n",
      "    sendfile                        on;\n",
      "    keepalive_timeout               65;\n",
      "    # gzip                          on;\n",
      "\n",
      "    # http -> https redirect\n",
      "    server {\n",
      "        listen                      80;\n",
      "        return                      301 https://$host$request_uri;\n",
      "    }\n",
      "\n",
      "    server {\n",
      "\n",
      "        # disable port 80 after enabling https redirect (above)\n",
      "        # listen                      80;\n",
      "\n",
      "        # Enable ssl/tls (https): copy certificate to /etc/nginx/ssl and uncomment lines below\n",
      "        listen                      443 ssl;\n",
      "        ssl_certificate             /etc/nginx/ssl/cert.crt;\n",
      "        ssl_certificate_key         /etc/nginx/ssl/cert.key;\n",
      "\n",
      "        # password authentication (default: iot49/iot49)\n",
      "        auth_basic                  \"iot49: Electronics for IoT\";\n",
      "        auth_basic_user_file        htpasswd;\n",
      "\n",
      "        # Docker DNS\n",
      "        resolver                    127.0.0.11;       \n",
      "\n",
      "        # Jupyter\n",
      "        location /jupyter/ {\n",
      "            # proxy for network_mode: host\n",
      "            proxy_pass              http://172.17.0.1:8888;\n",
      "            proxy_redirect          off;\n",
      "            proxy_set_header        Host $host;\n",
      "\n",
      "            # websocket support\n",
      "            proxy_http_version      1.1;\n",
      "            proxy_set_header        Upgrade \"websocket\";\n",
      "            proxy_set_header        Connection \"Upgrade\";\n",
      "            proxy_read_timeout      86400;\n",
      "        }\n",
      "\n",
      "        # Code-server\n",
      "        location /code-server/ {\n",
      "            proxy_pass              http://code-server:8443/;\n",
      "            proxy_redirect          off;\n",
      "            proxy_set_header        Host $http_host;\n",
      "            proxy_http_version      1.1;\n",
      "            proxy_set_header        Upgrade $http_upgrade;\n",
      "            proxy_set_header        Connection \"upgrade\";\n",
      "        }\n",
      "\n",
      "        # Duplicati\n",
      "        location /duplicati {\n",
      "            return                  301 $scheme://$host/duplicati/;\n",
      "        }\n",
      "        location ^~ /duplicati/ {\n",
      "            rewrite                 /duplicati(.*) $1 break;\n",
      "            proxy_pass              http://duplicati:8200;\n",
      "        }\n",
      "\n",
      "        # Plotserver \n",
      "        location /plotserver/ {\n",
      "            proxy_redirect          off;\n",
      "            proxy_set_header        Host $http_host;\n",
      "            proxy_pass              http://plotserver:8080/;\n",
      "        }\n",
      "\n",
      "        include plotserver.conf;\n",
      "\n",
      "        # Balena-CLI\n",
      "        location /balena-cli/ {\n",
      "            # proxy for network_mode: host\n",
      "            proxy_pass              http://balena-cli:8889;\n",
      "            proxy_redirect          off;\n",
      "            proxy_set_header        Host $host;\n",
      "\n",
      "            # websocket support\n",
      "            proxy_http_version      1.1;\n",
      "            proxy_set_header        Upgrade \"websocket\";\n",
      "            proxy_set_header        Connection \"Upgrade\";\n",
      "            proxy_read_timeout      86400;\n",
      "        }\n",
      "\n",
      "        # static content\n",
      "        location / {\n",
      "            auth_basic              off;\n",
      "            root                    /home/iot/.html;\n",
      "            index                   index.html index.htm;\n",
      "        }\n",
      "\n",
      "    }\n",
      "\n",
      "}\n"
     ]
    }
   ],
   "source": [
    "!cat /service-config/nginx/nginx.conf"
   ]
  },
  {
   "cell_type": "markdown",
   "id": "2922015a-0a29-4135-b4fe-32d6168fc629",
   "metadata": {},
   "source": [
    "The network confiuration is available from the balena-engine:"
   ]
  },
  {
   "cell_type": "code",
   "execution_count": 1,
   "id": "ca49c4b6-9b5b-46d8-a5bd-ac63cae23e33",
   "metadata": {},
   "outputs": [
    {
     "name": "stdout",
     "output_type": "stream",
     "text": [
      "\u001b[0m\u001b[0mNAMES                         PORTS\n",
      "jupyter_3834077_1864199       \n",
      "esp-idf_3834084_1864199       \n",
      "balena-cli_3834085_1864199    8889/tcp\n",
      "arm32_3834083_1864199         \n",
      "nginx_3834076_1864199         0.0.0.0:80->80/tcp, 0.0.0.0:443->443/tcp\n",
      "duplicati_3834079_1864199     8200/tcp\n",
      "code-server_3834078_1864199   8443/tcp\n",
      "plotserver_3834082_1864199    8080/tcp\n",
      "mosquitto_3834081_1864199     0.0.0.0:1883->1883/tcp\n",
      "smb_3834080_1864199           0.0.0.0:139->139/tcp, 0.0.0.0:445->445/tcp\n",
      "resin_supervisor              \n",
      "\u001b[0m"
     ]
    }
   ],
   "source": [
    "%%service host\n",
    "balena-engine ps --format \"table {{.Names}}\\t{{.Ports}}\""
   ]
  },
  {
   "cell_type": "markdown",
   "id": "4f8b49db-5d63-42db-8504-7e60f00cfd3c",
   "metadata": {},
   "source": [
    "## Storage\n",
    "\n",
    "Broadly, [Docker](https://docs.docker.com/storage/) containers distinguish two kinds of data storage.\n",
    "\n",
    "### Owned by the container\n",
    "\n",
    "That's the default and includes all operating system related files, installed software (compilers, etc). \n",
    "\n",
    "Although it's possible to make changes (e.g. with `apt-get` run inside the container), those changes do not persist between updates and hence should be avoided. Best practice is not to modify files \"owned\" by the container. \n",
    "\n",
    "This part of storage is \"private\" to the container and invisible from other containers in the same app.\n",
    "\n",
    "### Mounted into the container (volumes)\n",
    "\n",
    "Storage can also be \"mounted\" from the \"host\", the underlying operating system that runs the Docker app, *ide49*. For example, `/home/iot` and the subfolders of `/service-config` are mounted. The `volumes` section of the `docker-compose.yml` file lists all mounts.\n",
    "\n",
    "The same volumes can be mounted into several containers (at the same or different locations). This enables data sharing. For example, all volumes are mounted in the `duplicati` container for backup and `micropython` and `code-server` containers for editing. \n",
    "\n",
    "For example the configuration for `nginx` (webserver), is mounted in `/service-config` in the `code-server` and `micropython` containers for editing, and at `/etc/nginx` in the `nginx` service.\n",
    "\n",
    "Changes to volumes persist between container updates. \n",
    "\n",
    "### Samba fileshare\n",
    "\n",
    "In addition to the types of storage discussed above, *ide49* can also be configured to mount `/home/iot` from a Samba file server.\n",
    "\n",
    "Uses include sharing the same data between several *ide49* instances or in situations where a shared file server, perhaps with centralized backup, is preferred.\n",
    "\n",
    "For convenience, the entire home directory (`/home/iot`) is mounted. This can cause some undesired behavior. For example, databases frequently use status files (e.g. locks) used by the running instance. Sharing those with another device (running perhaps a different instance of the same database) results in conflicts.\n",
    "\n",
    "To prevent this, the local iot volume is always available at `/service-config/iot-home`. Unlike `/home/iot`, this copy is never \"hidden\" by a Samba mount. *ide49* is configured to store status information (e.g. for `jupyter`) in `/service-config/iot-home` rather than `/home/iot`."
   ]
  },
  {
   "cell_type": "markdown",
   "id": "5b650b4a-0d49-4f3f-81cb-239ab43df6ee",
   "metadata": {},
   "source": [
    "### Mounts\n",
    "\n",
    "The `duplicati` service automtically mounts USB storage devices at `/mnt`. These devices can also be manually mounted in the `jupyter` container following standard Linux practice. Avoid simultaneous access of the same storage device from multiple containers to avoid data corruption.\n",
    "\n",
    "Adapt the sample script to your situation."
   ]
  },
  {
   "cell_type": "code",
   "execution_count": null,
   "id": "fd779a4a-62c5-4ae0-b16c-fbd1d672e184",
   "metadata": {
    "tags": [
     "hide-output"
    ]
   },
   "outputs": [],
   "source": [
    "%%bash\n",
    "\n",
    "# 1) find device, e.g. /dev/sdc1\n",
    "sudo fdisk -l\n",
    "\n",
    "# 2) create mount point\n",
    "sudo mkdir -p /mnt/media\n",
    "\n",
    "# 3) mount volume\n",
    "sudo mount /dev/sdc1 /mnt/media\n",
    "\n",
    "# 4) use data ...\n",
    "ls /mnt/media\n",
    "\n",
    "# 5) unmount\n",
    "sudo umount /mnt/media"
   ]
  }
 ],
 "metadata": {
  "kernelspec": {
   "display_name": "IoT",
   "language": "python",
   "name": "iot_kernel"
  },
  "language_info": {
   "codemirror_mode": {
    "name": "python",
    "version": 3
   },
   "file_extension": ".py",
   "mimetype": "text/x-python",
   "name": "python",
   "pygments_lexer": "python3",
   "version": "3"
  }
 },
 "nbformat": 4,
 "nbformat_minor": 5
}
