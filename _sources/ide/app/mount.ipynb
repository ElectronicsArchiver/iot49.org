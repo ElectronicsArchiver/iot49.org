{
 "cells": [
  {
   "cell_type": "markdown",
   "id": "7dfff891-bb51-4337-af1f-6f0782c4e1f2",
   "metadata": {},
   "source": [
    "# Mount"
   ]
  },
  {
   "cell_type": "code",
   "execution_count": 1,
   "id": "e486d440-5f37-4d16-b299-edaf780e3972",
   "metadata": {},
   "outputs": [
    {
     "name": "stdout",
     "output_type": "stream",
     "text": [
      "\u001b[0m\u001b[0mDisk /dev/zram0: 1000 MiB, 1048576000 bytes, 256000 sectors\u001b[0m\n",
      "Units: sectors of 1 * 4096 = 4096 bytes\u001b[0m\n",
      "Sector size (logical/physical): 4096 bytes / 4096 bytes\u001b[0m\n",
      "I/O size (minimum/optimal): 4096 bytes / 4096 bytes\u001b[0m\n",
      "\u001b[0m\n",
      "\u001b[0m\n",
      "Disk /dev/sda: 931.5 GiB, 1000204886016 bytes, 1953525168 sectors\u001b[0m\n",
      "Disk model: Samsung SSD 860\u001b[0m\n",
      "Units: sectors of 1 * 512 = 512 bytes\u001b[0m\n",
      "Sector size (logical/physical): 512 bytes / 512 bytes\u001b[0m\n",
      "I/O size (minimum/optimal): 512 bytes / 512 bytes\u001b[0m\n",
      "Disklabel type: dos\u001b[0m\n",
      "Disk identifier: 0x00000000\u001b[0m\n",
      "\u001b[0m\n",
      "Device     Boot   Start        End    Sectors   Size Id Type\u001b[0m\n",
      "/dev/sda1  *       8192      90111      81920    40M  e W95 FAT16 (LBA)\u001b[0m\n",
      "/dev/sda2         90112    2138111    2048000  1000M 83 Linux\u001b[0m\n",
      "/dev/sda3       2138112    4186111    2048000  1000M 83 Linux\u001b[0m\n",
      "/dev/sda4       4186112 1953525167 1949339056 929.5G  f W95 Ext'd (LBA)\u001b[0m\n",
      "/dev/sda5       4194304    4235263      40960    20M 83 Linux\u001b[0m\n",
      "/dev/sda6       4243456 1953525167 1949281712 929.5G 83 Linux\u001b[0m\n",
      "\u001b[0m\n",
      "\u001b[0m\n",
      "Disk /dev/sdb: 239 GiB, 256641603584 bytes, 501253132 sectors\u001b[0m\n",
      "Disk model: Flash Drive FIT\u001b[0m\n",
      "Units: sectors of 1 * 512 = 512 bytes\u001b[0m\n",
      "Sector size (logical/physical): 512 bytes / 512 bytes\u001b[0m\n",
      "I/O size (minimum/optimal): 512 bytes / 512 bytes\u001b[0m\n",
      "Disklabel type: dos\u001b[0m\n",
      "Disk identifier: 0x00000000\u001b[0m\n",
      "\u001b[0m\n",
      "Device     Boot Start       End   Sectors  Size Id Type\u001b[0m\n",
      "/dev/sdb1         256 501253099 501252844  239G  7 HPFS/NTFS/exFAT\u001b[0m\n",
      "\u001b[0m\n",
      "\u001b[0m\n",
      "Disk /dev/sdc: 1.8 TiB, 2000398843904 bytes, 3907028992 sectors\u001b[0m\n",
      "Disk model: Extreme SSD\u001b[0m\n",
      "Units: sectors of 1 * 512 = 512 bytes\u001b[0m\n",
      "Sector size (logical/physical): 512 bytes / 4096 bytes\u001b[0m\n",
      "I/O size (minimum/optimal): 4096 bytes / 1048576 bytes\u001b[0m\n",
      "Disklabel type: dos\u001b[0m\n",
      "Disk identifier: 0x00000000\u001b[0m\n",
      "\u001b[0m\n",
      "Device     Boot Start        End    Sectors  Size Id Type\u001b[0m\n",
      "/dev/sdc1  *     2048 3907028991 3907026944  1.8T  7 HPFS/NTFS/exFAT\u001b[0m\n"
     ]
    }
   ],
   "source": [
    "%%bash\n",
    "\n",
    "sudo fdisk -l"
   ]
  },
  {
   "cell_type": "code",
   "execution_count": 4,
   "id": "804aee32-e2aa-41b4-9a02-b0b373546abc",
   "metadata": {},
   "outputs": [
    {
     "name": "stdout",
     "output_type": "stream",
     "text": [
      "\u001b[0m\u001b[0mFUSE exfat 1.3.0\u001b[0m\n",
      "WARN: volume was not unmounted cleanly.\u001b[0m\n"
     ]
    }
   ],
   "source": [
    "%%bash\n",
    "\n",
    "sudo mkdir -p /mnt/media\n",
    "sudo mount /dev/sdc1 /mnt/media"
   ]
  },
  {
   "cell_type": "code",
   "execution_count": 4,
   "id": "f2863475-4702-4956-bcc7-5a257b263fce",
   "metadata": {},
   "outputs": [
    {
     "name": "stdout",
     "output_type": "stream",
     "text": [
      "\u001b[0m\u001b[0mMovies\u001b[0m\n",
      "Music\u001b[0m\n"
     ]
    }
   ],
   "source": [
    "%%bash\n",
    "\n",
    "ls /mnt/media/media"
   ]
  },
  {
   "cell_type": "code",
   "execution_count": 4,
   "id": "7c16dddb-8210-47af-94a0-6a3a7d4a1c04",
   "metadata": {},
   "outputs": [
    {
     "name": "stdout",
     "output_type": "stream",
     "text": [
      "\u001b[0m\u001b[0m"
     ]
    }
   ],
   "source": [
    "%%bash\n",
    "\n",
    "cp -r -p /mnt/media/media/* /media"
   ]
  },
  {
   "cell_type": "code",
   "execution_count": 4,
   "id": "943a8a37-9120-4853-a672-f3c82c66aec7",
   "metadata": {},
   "outputs": [
    {
     "name": "stdout",
     "output_type": "stream",
     "text": [
      "\u001b[0m\u001b[0mtotal 84\u001b[0m\n",
      "-rw-r--r--   1 root root 1901 Jul 16 18:57 =0.5.10\u001b[0m\n",
      "-rw-r--r--   1 root root 5414 Jul 16 18:57 =0.5.13\u001b[0m\n",
      "drwxr-xr-x   1 root root 4096 Jul 16 18:56 bin\u001b[0m\n",
      "drwxr-xr-x   2 root root 4096 Mar 19 16:44 boot\u001b[0m\n",
      "drwxr-xr-x  19 root root 4460 Jul 16 19:01 dev\u001b[0m\n",
      "drwxr-xr-x   1 root root 4096 Jul 16 19:01 etc\u001b[0m\n",
      "drwxr-xr-x   1 root root 4096 Jul 16 18:57 home\u001b[0m\n",
      "drwxr-xr-x   3 root root 4096 Jul 16 19:01 host\u001b[0m\n",
      "drwxr-xr-x   1 root root 4096 Jun 21 04:30 lib\u001b[0m\n",
      "drwxr-xr-x   2 root root 4096 May 10 17:00 lib64\u001b[0m\n",
      "drwxr-xr-x   2 iot  iot  4096 May 10 17:00 media\u001b[0m\n",
      "drwxr-xr-x   1 root root 4096 Jul 16 19:05 mnt\u001b[0m\n",
      "drwxr-xr-x   2 root root 4096 May 10 17:00 opt\u001b[0m\n",
      "dr-xr-xr-x 219 root root    0 Jul 16 19:01 proc\u001b[0m\n",
      "drwx------   1 root root 4096 Jun 22 09:35 root\u001b[0m\n",
      "drwxr-xr-x   1 root root 4096 Jul 16 19:01 run\u001b[0m\n",
      "drwxr-xr-x   1 root root 4096 Jul 16 18:56 sbin\u001b[0m\n",
      "drwxr-xr-x   7 root root 4096 Jul 16 19:01 service-config\u001b[0m\n",
      "drwxr-xr-x   2 root root 4096 May 10 17:00 srv\u001b[0m\n",
      "dr-xr-xr-x  13 root root    0 Jul 12 13:18 sys\u001b[0m\n",
      "drwxrwxrwt   1 root root 4096 Jul 16 19:01 tmp\u001b[0m\n",
      "drwxr-xr-x   1 root root 4096 May  4 23:11 usr\u001b[0m\n",
      "drwxr-xr-x   1 root root 4096 May 10 17:00 var\u001b[0m\n"
     ]
    }
   ],
   "source": [
    "%%bash\n",
    "sudo chgrp iot /media\n",
    "ls -l /"
   ]
  },
  {
   "cell_type": "code",
   "execution_count": null,
   "id": "f2206d19-2a34-4336-b9ce-696ab3c9bf3c",
   "metadata": {},
   "outputs": [],
   "source": []
  }
 ],
 "metadata": {
  "kernelspec": {
   "display_name": "IoT",
   "language": "python",
   "name": "iot_kernel"
  },
  "language_info": {
   "codemirror_mode": {
    "name": "python",
    "version": 3
   },
   "file_extension": ".py",
   "mimetype": "text/x-python",
   "name": "python",
   "pygments_lexer": "python3",
   "version": "3"
  }
 },
 "nbformat": 4,
 "nbformat_minor": 5
}
