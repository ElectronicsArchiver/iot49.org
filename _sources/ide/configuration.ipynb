{
 "cells": [
  {
   "cell_type": "markdown",
   "id": "21c34eb6-e20d-4e62-bdb4-e2611b8bf8fc",
   "metadata": {},
   "source": [
    "# Configuration\n",
    "\n",
    "Many aspects of *ide49* are configurable.\n",
    "\n",
    "If you have not done so already, you may want to [change the password](config/password.ipynb) and setup automatic [backups](config/backup.ipynb).\n",
    "\n",
    "You can also [change the domain name](config/dns.ipynb) from the default http://iot49.local and [configure your browser/OS](config/https.ipynb) to treat the domain as secure.\n",
    "\n",
    "Samba allows you to export or mount the *ide49* home directory (`/home/iot`)."
   ]
  },
  {
   "cell_type": "code",
   "execution_count": null,
   "id": "c2619462-2df4-4c73-93ab-facf3fde3acb",
   "metadata": {},
   "outputs": [],
   "source": []
  }
 ],
 "metadata": {
  "kernelspec": {
   "display_name": "Python 3",
   "language": "python",
   "name": "python3"
  },
  "language_info": {
   "codemirror_mode": {
    "name": "ipython",
    "version": 3
   },
   "file_extension": ".py",
   "mimetype": "text/x-python",
   "name": "python",
   "nbconvert_exporter": "python",
   "pygments_lexer": "ipython3",
   "version": "3.8.10"
  }
 },
 "nbformat": 4,
 "nbformat_minor": 5
}
