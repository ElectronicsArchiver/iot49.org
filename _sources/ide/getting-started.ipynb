{
 "cells": [
  {
   "cell_type": "markdown",
   "id": "0e33c8ca-f5c6-49fb-a30a-92097f449e92",
   "metadata": {},
   "source": [
    "# Getting Started\n",
    "\n",
    "*ide49* offers a range of features including a code editor, compilers (e.g. to compile MicroPython), an MQTT broker, etc. \n",
    "\n",
    "All interaction with microcontrollers takes place in the [*Jupyter Lab*](https://jupyter.org/) service. *Jupyter* is a popular interactive Python programming environment. You can find many online tutorials and videos. Below we quickly go over the main features with special focus on the customizations for programming microcontrollers.\n",
    "\n",
    "## Jupyter Lab\n",
    "\n",
    "To access *Jupyter Lab* in *ide49*, go to https://iot49.local/jupyter (change the name if you modified the DNS name of the Raspberry Pi) or from the *Jupyter* link of *ide49* dashboard at https://iot49.local.\n",
    "\n",
    "You will be presented with the page below. \n",
    "\n",
    "![Jupyter](figures/jupyter_annotated.png)\n",
    "\n",
    "For illustration, the key features are highlighted. The main features include a *Python 3 Kernel* for executing code on the Raspberry Pi, a *Terminal* for running shell commands, and, the **IoT Kernel** for programming microcontrollers. Click on that button to get a new window:\n",
    "\n",
    "To start an *IoT Kernel*, click on its icon to get:\n",
    "\n",
    "![IoT Kernel](figures/iot_kernel_annotated.png)\n",
    "\n",
    "Like all *Jupyter* kernels, you type code into *cells*, and click `shift-return` (return while holding down the shift key) to execute it. \n",
    "\n",
    "For example:\n",
    "\n",
    "```{image} figures/no_device_connected.png\n",
    ":width: 250px\n",
    "```\n",
    "\n",
    "The error is not surprising, since, well, we have not yet connected a microcontroller to the Raspberry Pi.\n",
    "\n",
    "Like other *Jupyter* kernels, it implements several *magics*; lines that start with a percent sign `%` in the first column. To get a list of magics available in the *IoT Kernel*, execute `%lsmagic%` by typing it into an empty cell and hitting `shift-return`:"
   ]
  },
  {
   "cell_type": "code",
   "execution_count": 1,
   "id": "8e569fba-c785-49e7-9836-ccc63c41e257",
   "metadata": {},
   "outputs": [
    {
     "name": "stdout",
     "output_type": "stream",
     "text": [
      "\u001b[0m\u001b[0mLine Magic:    -h shows help (e.g. %discover -h)\u001b[0m\n",
      "  %cat         Print contents of named file on microcontroller\u001b[0m\n",
      "  %cd          Change the working directory.\u001b[0m\n",
      "  %connect     Connect to device\u001b[0m\n",
      "  %cp          Copy files between host and microcontroller.\u001b[0m\n",
      "  %discover    Discover available devices\u001b[0m\n",
      "  %gettime     Query microcontroller time\u001b[0m\n",
      "  %loglevel    Set logging level.\u001b[0m\n",
      "  %lsmagic     List all magic functions.\u001b[0m\n",
      "  %mkdirs      Create all directories specified by the path, as needed.\u001b[0m\n",
      "  %name        Name of currently connected microcontroller.\u001b[0m\n",
      "  %pip         Install packages from PyPi\u001b[0m\n",
      "  %platform    sys.platform of currently connected device.\u001b[0m\n",
      "  %rdiff       Show differences between microcontroller and host directories\u001b[0m\n",
      "  %register    Register device\u001b[0m\n",
      "  %rlist       List files on microcontroller\u001b[0m\n",
      "  %rm          Delete files relative to path.\u001b[0m\n",
      "  %rsync       Synchronize microcontroller to host directories\u001b[0m\n",
      "  %softreset   Reset microcontroller. Similar to pressing the reset button.\u001b[0m\n",
      "  %store       Copy variables between microcontroller and storage.\u001b[0m\n",
      "  %synctime    Synchronize microcontroller time to host\u001b[0m\n",
      "  %uid         UID of currently connected microcontroller.\u001b[0m\n",
      "  %unregister  Unregister device\u001b[0m\n",
      "  %upip        Install MicroPython packages.\u001b[0m\n",
      "  %url         URL of currently connected microcontroller.\u001b[0m\n",
      "  !            Pass line to bash shell for evaluation.\u001b[0m\n",
      "\n",
      "Cell Magic:    -h shows help (e.g. %%connect -h)\u001b[0m\n",
      "  %%bash       Pass cell to bash shell for evaluation.\u001b[0m\n",
      "  %%connect    Evaluate code sequentially on named devices.\u001b[0m\n",
      "  %%host       Pass cell to host (cPython) for evaluation.\u001b[0m\n",
      "  %%service    Evaluate in named container using ssh.\u001b[0m\n",
      "  %%ssh        Pass cell body to ssh.\u001b[0m\n"
     ]
    }
   ],
   "source": [
    "%lsmagic"
   ]
  },
  {
   "cell_type": "markdown",
   "id": "cfdf85a3-f0d7-43d0-9fa0-426829186b66",
   "metadata": {},
   "source": [
    "To get additonal information about a magic, run it with the `-h` flag:"
   ]
  },
  {
   "cell_type": "code",
   "execution_count": 1,
   "id": "ef1abab6-7bb8-47a3-bd69-f07bae047176",
   "metadata": {},
   "outputs": [
    {
     "name": "stdout",
     "output_type": "stream",
     "text": [
      "\u001b[0musage: %%host [-h]\n",
      "\n",
      "Pass cell to host (cPython) for evaluation.\n",
      "\n",
      "optional arguments:\n",
      "  -h, --help  show this help message and exit\n",
      "\u001b[0m"
     ]
    }
   ],
   "source": [
    "%%host -h"
   ]
  },
  {
   "cell_type": "code",
   "execution_count": 2,
   "id": "09cda80c-5b5b-4570-8d94-6352f7f7c611",
   "metadata": {},
   "outputs": [
    {
     "name": "stdout",
     "output_type": "stream",
     "text": [
      "\u001b[0m\u001b[0mlinux\n"
     ]
    }
   ],
   "source": [
    "%%host\n",
    "\n",
    "import sys\n",
    "print(sys.platform)"
   ]
  },
  {
   "cell_type": "markdown",
   "id": "87e6b7f7-e9ea-41c9-bb8a-b21cb6127ac8",
   "metadata": {},
   "source": [
    "Code preceded by the `%%host` magic is submitted to the Raspberry Pi for execution. See [iot-kernel](iot-kernel) for more information."
   ]
  },
  {
   "cell_type": "markdown",
   "id": "266f997b-76b9-485b-9dec-cea3af6cfdf9",
   "metadata": {},
   "source": [
    "## MicroPython\n",
    "\n",
    "Connect a microcontroller to one of the USB ports of the Raspberry Pi & [install MicroPython](flash.ipynb). If MicroPython is installed already, you can skip this step."
   ]
  },
  {
   "cell_type": "code",
   "execution_count": 1,
   "id": "8f7f8609-28f4-419f-883d-8a6ec5834ac1",
   "metadata": {},
   "outputs": [
    {
     "name": "stdout",
     "output_type": "stream",
     "text": [
      "\u001b[0m\u001b[0m50:02:91:a1:a7:2c  serial:///dev/ttyUSB0  \u001b[0m\n"
     ]
    }
   ],
   "source": [
    "%discover"
   ]
  },
  {
   "cell_type": "code",
   "execution_count": null,
   "id": "f1559de7-d6f3-49b0-896f-c290fb01a47d",
   "metadata": {},
   "outputs": [],
   "source": [
    "The `%discover` magic searches all ports for available devices. For each device it reports a hexadecimal string that uniquely identifies the processors (hence you'll get a different number) and the port it is connected to.\n",
    "\n",
    "Connection is initiated with the `%connect` magic."
   ]
  },
  {
   "cell_type": "code",
   "execution_count": null,
   "id": "c0abedfb-587f-41f8-8c0c-74a0861f4ab1",
   "metadata": {},
   "outputs": [],
   "source": [
    "%connect 50:02:91:a1:a7:2c"
   ]
  },
  {
   "cell_type": "markdown",
   "id": "73dc765b-1201-4499-89a1-40b77ead0104",
   "metadata": {},
   "source": [
    "Code typed into notebook cells is sent to the microcontroller for execution and results reported back. For example:"
   ]
  },
  {
   "cell_type": "code",
   "execution_count": 4,
   "id": "7d35829b-6313-4364-95f5-fb880110c656",
   "metadata": {},
   "outputs": [
    {
     "name": "stdout",
     "output_type": "stream",
     "text": [
      "\u001b[0m0 0\n",
      "1 1\n",
      "2 32\n",
      "3 243\n",
      "4 1024\n",
      "5 3125\n",
      "\u001b[0m"
     ]
    }
   ],
   "source": [
    "for i in range(6):\n",
    "    print(i, i**5)"
   ]
  },
  {
   "cell_type": "markdown",
   "id": "8e41f634-9022-4c95-93ff-a6e8595a3448",
   "metadata": {},
   "source": [
    "`%%connect` with two percent signs runs a code sequence on multiple processors:"
   ]
  },
  {
   "cell_type": "code",
   "execution_count": 4,
   "id": "9c46ffdd-9ab6-4132-8348-4ddd781941b7",
   "metadata": {},
   "outputs": [
    {
     "name": "stdout",
     "output_type": "stream",
     "text": [
      "\u001b[0m\u001b[0m\u001b[46m\u001b[30m\n",
      "----- HOST\n",
      "\u001b[0m\n",
      "platform: linux   implementation: cpython\n",
      "\u001b[46m\u001b[30m\n",
      "----- 50:02:91:a1:a7:2c\n",
      "\u001b[0m\n",
      "platform: esp32   implementation: micropython\n",
      "\u001b[0m"
     ]
    }
   ],
   "source": [
    "%%connect --host 50:02:91:a1:a7:2c\n",
    "                    \n",
    "import sys\n",
    "print(\"platform: {:7} implementation: {}\".format(sys.platform, sys.implementation.name))"
   ]
  },
  {
   "cell_type": "markdown",
   "id": "ff74957c-2310-40d5-be7e-0ad207c64a4b",
   "metadata": {},
   "source": [
    "We are indeed connected to MicroPython."
   ]
  },
  {
   "cell_type": "markdown",
   "id": "75033831-f59e-4df2-99af-2634cf3e695e",
   "metadata": {},
   "source": [
    "## Naming devices\n",
    "\n",
    "The string `50:02:91:a1:a7:2c` is the *UID* of the microcontroller, a unique identifier programmed into the controller by the manufacturer. The `%discover` magic obtains it by running the following code snippet on the controller:\n",
    "\n",
    "```python\n",
    "uid = bytes(6)\n",
    "try:\n",
    "    import machine\n",
    "    uid = machine.unique_id()\n",
    "except:\n",
    "    import microcontroller\n",
    "    uid = microcontroller.cpu.uid\n",
    "print(\":\".join(\"{:02x}\".format(x) for x in uid), end=\"\")\n",
    "```\n",
    "\n",
    "The *IoT Kernel* uses *UIDs* to unambiguously distinguish devices. Identifying microcontrollers with hexadecimal strings is useful for keeping track of devices (I have an entire drawer full), but about as informative and convenient to remember as a phone number. \n",
    "\n",
    "Fortunately it is easy to associate the device with a \"name\", by simply recording this information in a file and saving it to folder `~/iot49/devices`. The `%%writefile` magic does this for us:"
   ]
  },
  {
   "cell_type": "code",
   "execution_count": 5,
   "id": "07f042bf-6c0b-48e4-95fc-3970b1ec98b2",
   "metadata": {},
   "outputs": [
    {
     "name": "stdout",
     "output_type": "stream",
     "text": [
      "\u001b[0mWriting /home/iot/iot49/devices/my_microcontroller.yaml\n"
     ]
    }
   ],
   "source": [
    "%%writefile ~/iot49/devices/my_microcontroller.yaml\n",
    "pico:\n",
    "    uid: 50:02:91:a1:a7:2c"
   ]
  },
  {
   "cell_type": "markdown",
   "id": "2e5d2daa-c525-4dff-94f9-7b340f3e1865",
   "metadata": {},
   "source": [
    "Change the `uid` to match your microcontroller and the word `pico` to the name you want to give. The filename is not important, as long as it ends with `.yaml`. \n",
    "\n",
    "After this, `%discover` reports the name instead of the *UID*:"
   ]
  },
  {
   "cell_type": "code",
   "execution_count": 5,
   "id": "614d87b0-1ead-46a1-8dfd-d68a1aab3c8b",
   "metadata": {},
   "outputs": [
    {
     "name": "stdout",
     "output_type": "stream",
     "text": [
      "\u001b[0m\u001b[0mpico  serial:///dev/ttyUSB0  \u001b[0m\n"
     ]
    }
   ],
   "source": [
    "%discover"
   ]
  },
  {
   "cell_type": "markdown",
   "id": "e657f1a9-eaa2-497c-ad31-14b6ac4b3214",
   "metadata": {},
   "source": [
    "## Getting a REPL prompt\n",
    "\n",
    "If you rather use the REPL to program your microcontroller, launch a Terminal (click the blue `+` icon at the upper left of jupyter lab and then the Terminal icon). In the terminal type\n",
    "\n",
    "```bash\n",
    "picocom /dev/ttyUSB0  -b115200\n",
    "```\n",
    "\n",
    "```{toggle}\n",
    "![REPL](figures/repl.png)\n",
    "```"
   ]
  },
  {
   "cell_type": "code",
   "execution_count": null,
   "id": "6de6f2e2-7f88-4812-870a-f1761135ea40",
   "metadata": {},
   "outputs": [],
   "source": []
  }
 ],
 "metadata": {
  "kernelspec": {
   "display_name": "IoT",
   "language": "python",
   "name": "iot_kernel"
  },
  "language_info": {
   "codemirror_mode": {
    "name": "python",
    "version": 3
   },
   "file_extension": ".py",
   "mimetype": "text/x-python",
   "name": "python",
   "pygments_lexer": "python3",
   "version": "3"
  }
 },
 "nbformat": 4,
 "nbformat_minor": 5
}
