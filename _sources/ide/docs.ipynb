{
 "cells": [
  {
   "cell_type": "markdown",
   "id": "8609e96c-8b31-40f6-85d1-400e7d0e7687",
   "metadata": {},
   "source": [
    "# Documention\n",
    "\n",
    "The documentation at https://iot49.org/ is also available locally in the folder `iot49.org/docs`. Access it from the file browser on the left. For example, this document is at"
   ]
  },
  {
   "cell_type": "code",
   "execution_count": 1,
   "id": "9437b61e-ee32-459c-9f5c-d106b73f3550",
   "metadata": {},
   "outputs": [
    {
     "name": "stdout",
     "output_type": "stream",
     "text": [
      "/home/iot/iot49.org/docs/ide/docs.ipynb\n"
     ]
    }
   ],
   "source": [
    "!echo `pwd`/docs.ipynb"
   ]
  },
  {
   "cell_type": "markdown",
   "id": "77e33377-0960-4ce0-a993-a9b2ba09415a",
   "metadata": {},
   "source": [
    "Generally, the file location corresponds to the URL of the online documentation, minus the server address.\n",
    "\n",
    "Onlike notebooks on the web, these local copies are \"live\", i.e. you can run cells, make changes, add new ones, etc. Do not hesitate to make changes, the original code is always available at https://github.com/iot49/iot49.org. In addition to the notebooks, the local copy of `iot49.org` also contains the source code for all projects.\n",
    "\n",
    "If you have suggestions for improvements or fixes, load the file from https://iot49.org/ and click the cat in the upper right corner of the page to suggest an edit."
   ]
  },
  {
   "cell_type": "code",
   "execution_count": null,
   "id": "368b61fa-966f-4831-b9b5-c37be8a09c9e",
   "metadata": {},
   "outputs": [],
   "source": []
  }
 ],
 "metadata": {
  "kernelspec": {
   "display_name": "IoT",
   "language": "python",
   "name": "iot_kernel"
  },
  "language_info": {
   "codemirror_mode": {
    "name": "python",
    "version": 3
   },
   "file_extension": ".py",
   "mimetype": "text/x-python",
   "name": "python",
   "pygments_lexer": "python3",
   "version": "3"
  }
 },
 "nbformat": 4,
 "nbformat_minor": 5
}
