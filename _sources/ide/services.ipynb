{
 "cells": [
  {
   "cell_type": "markdown",
   "id": "1d245e0b-2d31-485a-b1fe-0d7d9555ab91",
   "metadata": {},
   "source": [
    "# Services\n",
    "\n",
    "*ide49* is a [docker application](https://www.docker.com/products/docker-app) on [balenaOS](https://www.balena.io/docs/reference/OS/overview/2.x/). Each \"service\" shown in the Balena dashboard represents a separate container with its own copy of Linux.\n",
    "\n",
    "![Balena services](figures/services.png)\n",
    "\n",
    "* [Jupyter](iot-kernel.ipynb) is a [code execution environment](https://jupyter.org/) that is quite popular among datascientists and is also a great option for interacting with and programming microcontrollers.\n",
    "* Editor is an Internet enabled version of [Microsoft Visual Studio Code](https://code.visualstudio.com/), a powerful coding environment.\n",
    "* [Backup](services/backup.ipynb) does what the name says.\n",
    "* [Nginx](services/nginx.ipynb) is a [webbrowser](https://www.nginx.com/). In *ide49* it acts as a reverse proxy forwarding requests on the external network (ports 80 and 443) to the internal network and handles encryption and password protection. Nginx also serves *ide49* the landing page.\n",
    "\n",
    "The other options are more specialized.\n",
    "\n",
    "* [Plotserver](services/plotserver.ipynb) plots data received via MQTT in a browser window. It is a convenient solution to monitor data produced by microcontrollers that implement an MQTT client.\n",
    "* [Balena CLI](services/balena-cli.ipynb) is the tool used to create and modify applications such as *ide49*. It lets you change *ide49* right from *ide49* itself!\n",
    "\n",
    "Additional services provided by *ide49* include:\n",
    "\n",
    "* [mosquitto](services/mosquitto.ipynb), an MQTT broker.\n",
    "* [Samba/CIFS file server](services/samba.ipynb) that exports user data stored on the Raspberry PI. It is disabled by default.\n",
    "* [gcc](services/gcc.ipynb) used to compile MicroPython and other microcontroller applications written in C/C++.\n",
    "\n",
    "Services communicate via shared data and over an internal network used by the `%%service%` magic of the [`IOT Kernel`](iot-kernel.ipynb).\n"
   ]
  },
  {
   "cell_type": "code",
   "execution_count": null,
   "id": "ad20d5ff-9a0d-4975-a9fb-7e0de7da07cb",
   "metadata": {},
   "outputs": [],
   "source": []
  }
 ],
 "metadata": {
  "kernelspec": {
   "display_name": "IoT",
   "language": "python",
   "name": "iot_kernel"
  },
  "language_info": {
   "codemirror_mode": {
    "name": "python",
    "version": 3
   },
   "file_extension": ".py",
   "mimetype": "text/x-python",
   "name": "python",
   "pygments_lexer": "python3",
   "version": "3"
  }
 },
 "nbformat": 4,
 "nbformat_minor": 5
}
